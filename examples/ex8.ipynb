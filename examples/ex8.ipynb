{
    "cells": [
        {
            "cell_type": "markdown",
            "metadata": {},
            "source": [
                "# Changing Setpoints"
            ]
        },
        {
            "cell_type": "markdown",
            "metadata": {},
            "source": [
                "This notebook shows an example of changing the generator setpoints in a time-domain simulation. Data in this example is trivial, but the example can be retrofitted for scenarios such as economic dispatch incorporation or reinforcement learning.\n",
                "\n",
                "Steps are the folllwing:\n",
                "\n",
                "1. Initialize a system by running the power flow,\n",
                "2. Set the first simulation stop time in `TDS.config.tf`,\n",
                "3. Run the simulation,\n",
                "3. Update the setpoints,\n",
                "4. Set the new simulation stop time and repeat from 3 until the end."
            ]
        },
        {
            "cell_type": "markdown",
            "metadata": {},
            "source": [
                "## Step 1: Case Setup"
            ]
        },
        {
            "cell_type": "code",
            "execution_count": 1,
            "metadata": {
                "ExecuteTime": {
                    "end_time": "2021-03-19T20:13:21.558619Z",
                    "start_time": "2021-03-19T20:13:21.016971Z"
                },
                "execution": {
                    "iopub.execute_input": "2021-09-26T22:41:51.050449Z",
                    "iopub.status.busy": "2021-09-26T22:41:51.050057Z",
                    "iopub.status.idle": "2021-09-26T22:41:51.755718Z",
                    "shell.execute_reply": "2021-09-26T22:41:51.755953Z"
                }
            },
            "outputs": [],
            "source": [
                "import andes\n",
                "from andes.utils import get_case"
            ]
        },
        {
            "cell_type": "code",
            "execution_count": 2,
            "metadata": {
                "ExecuteTime": {
                    "end_time": "2021-03-19T20:13:22.290011Z",
                    "start_time": "2021-03-19T20:13:21.560840Z"
                },
                "execution": {
                    "iopub.execute_input": "2021-09-26T22:41:51.758840Z",
                    "iopub.status.busy": "2021-09-26T22:41:51.758605Z",
                    "iopub.status.idle": "2021-09-26T22:41:52.421460Z",
                    "shell.execute_reply": "2021-09-26T22:41:52.421887Z"
                }
            },
            "outputs": [
                {
                    "name": "stderr",
                    "output_type": "stream",
                    "text": [
                        "Working directory: \"/home/hacui/repos/andes/examples\"\n",
                        "> Loaded config from file \"/home/hacui/.andes/andes.rc\"\n",
                        "> Loaded generated Python code in \"/home/hacui/.andes/pycode\".\n",
                        "Parsing input file \"/home/hacui/repos/andes/andes/cases/kundur/kundur_full.xlsx\"...\n",
                        "Input file parsed in 0.2635 seconds.\n",
                        "System internal structure set up in 0.0315 seconds.\n",
                        "-> System connectivity check results:\n",
                        "  No islanded bus detected.\n",
                        "  System is interconnected.\n",
                        "  Each island has a slack bus correctly defined and enabled.\n",
                        "\n",
                        "-> Power flow calculation\n",
                        "           Numba: Off\n",
                        "   Sparse solver: KLU\n",
                        " Solution method: NR method\n",
                        "Power flow initialized in 0.0087 seconds.\n",
                        "0: |F(x)| = 14.9282832\n",
                        "1: |F(x)| = 3.608627841\n",
                        "2: |F(x)| = 0.1701107882\n",
                        "3: |F(x)| = 0.002038626956\n",
                        "4: |F(x)| = 3.745104027e-07\n",
                        "Converged in 5 iterations in 0.0108 seconds.\n",
                        "Initialization for dynamics completed in 0.0395 seconds.\n",
                        "Initialization was successful.\n",
                        "Report saved to \"kundur_full_out.txt\" in 0.0023 seconds.\n"
                    ]
                },
                {
                    "name": "stdout",
                    "output_type": "stream",
                    "text": [
                        "-> Single process finished in 0.5215 seconds.\n"
                    ]
                }
            ],
            "source": [
                "kundur = get_case('kundur/kundur_full.xlsx')\n",
                "\n",
                "ss = andes.run(kundur)"
            ]
        },
        {
            "cell_type": "code",
            "execution_count": 3,
            "metadata": {
                "ExecuteTime": {
                    "end_time": "2021-03-19T20:13:22.297356Z",
                    "start_time": "2021-03-19T20:13:22.292557Z"
                },
                "execution": {
                    "iopub.execute_input": "2021-09-26T22:41:52.425666Z",
                    "iopub.status.busy": "2021-09-26T22:41:52.425203Z",
                    "iopub.status.idle": "2021-09-26T22:41:52.426753Z",
                    "shell.execute_reply": "2021-09-26T22:41:52.427317Z"
                }
            },
            "outputs": [],
            "source": [
                "# disable the Toggle in this case\n",
                "ss.Toggle.alter('u', 1, 0)"
            ]
        },
        {
            "cell_type": "markdown",
            "metadata": {},
            "source": [
                "## Step 2: Set the First Stop Time"
            ]
        },
        {
            "cell_type": "code",
            "execution_count": 4,
            "metadata": {
                "ExecuteTime": {
                    "end_time": "2021-03-19T20:13:22.305395Z",
                    "start_time": "2021-03-19T20:13:22.302336Z"
                },
                "execution": {
                    "iopub.execute_input": "2021-09-26T22:41:52.432122Z",
                    "iopub.status.busy": "2021-09-26T22:41:52.429462Z",
                    "iopub.status.idle": "2021-09-26T22:41:52.432582Z",
                    "shell.execute_reply": "2021-09-26T22:41:52.432907Z"
                }
            },
            "outputs": [],
            "source": [
                "# simulate to t=1 sec\n",
                "\n",
                "# specify the first stop in `ss.TDS.config.tf`\n",
                "ss.TDS.config.tf = 1"
            ]
        },
        {
            "cell_type": "markdown",
            "metadata": {},
            "source": [
                "## Step 3: Run Simulation"
            ]
        },
        {
            "cell_type": "code",
            "execution_count": 5,
            "metadata": {
                "ExecuteTime": {
                    "end_time": "2021-03-19T20:13:22.499102Z",
                    "start_time": "2021-03-19T20:13:22.308794Z"
                },
                "execution": {
                    "iopub.execute_input": "2021-09-26T22:41:52.437495Z",
                    "iopub.status.busy": "2021-09-26T22:41:52.436163Z",
                    "iopub.status.idle": "2021-09-26T22:41:52.577962Z",
                    "shell.execute_reply": "2021-09-26T22:41:52.578395Z"
                }
            },
            "outputs": [
                {
                    "name": "stderr",
                    "output_type": "stream",
                    "text": [
                        "\n",
                        "-> Time Domain Simulation Summary:\n",
                        "Sparse Solver: KLU\n",
                        "Simulation time: 0.0-1 s.\n",
                        "Fixed step size: h=33.33 ms. Shrink if not converged.\n"
                    ]
                },
                {
                    "data": {
                        "application/vnd.jupyter.widget-view+json": {
                            "model_id": "3f3bdb1e19b5482a956ed168954b4e7a",
                            "version_major": 2,
                            "version_minor": 0
                        },
                        "text/plain": [
                            "  0%|          | 0/100 [00:00<?, ?%/s]"
                        ]
                    },
                    "metadata": {},
                    "output_type": "display_data"
                },
                {
                    "name": "stderr",
                    "output_type": "stream",
                    "text": [
                        "Simulation completed in 0.0245 seconds.\n",
                        "Outputs to \"kundur_full_out.lst\" and \"kundur_full_out.npz\".\n",
                        "Outputs written in 0.0039 seconds.\n"
                    ]
                },
                {
                    "data": {
                        "text/plain": [
                            "True"
                        ]
                    },
                    "execution_count": 5,
                    "metadata": {},
                    "output_type": "execute_result"
                }
            ],
            "source": [
                "ss.TDS.run()"
            ]
        },
        {
            "cell_type": "markdown",
            "metadata": {},
            "source": [
                "## Step 4. Apply the auxiliary power setpoints to `TGOV1.paux0.v`"
            ]
        },
        {
            "cell_type": "markdown",
            "metadata": {},
            "source": [
                "First, let's check the equations of TGOV1. `ss.TGOV1.paux0` is associated with equation `0 = paux - paux0`, in which `paux` is added to the power input equation."
            ]
        },
        {
            "cell_type": "code",
            "execution_count": 6,
            "metadata": {
                "ExecuteTime": {
                    "end_time": "2021-03-19T20:13:22.519088Z",
                    "start_time": "2021-03-19T20:13:22.503939Z"
                },
                "execution": {
                    "iopub.execute_input": "2021-09-26T22:41:52.580576Z",
                    "iopub.status.busy": "2021-09-26T22:41:52.579961Z",
                    "iopub.status.idle": "2021-09-26T22:41:52.589596Z",
                    "shell.execute_reply": "2021-09-26T22:41:52.590029Z"
                },
                "scrolled": true
            },
            "outputs": [
                {
                    "name": "stdout",
                    "output_type": "stream",
                    "text": [
                        "Model <TGOV1> in Group <TurbineGov>\n",
                        "TGOV1 turbine governor model.\n",
                        "\n",
                        "Implements the PSS/E TGOV1 model without deadband.\n",
                        "\n",
                        "Parameters\n",
                        "\n",
                        " Name  |            Description            | Default | Unit |    Properties   \n",
                        "-------+-----------------------------------+---------+------+-----------------\n",
                        " idx   | unique device idx                 |         |      |                 \n",
                        " u     | connection status                 | 1       | bool |                 \n",
                        " name  | device name                       |         |      |                 \n",
                        " syn   | Synchronous generator idx         |         |      | mandatory,unique\n",
                        " Tn    | Turbine power rating. Equal to    |         | MVA  |                 \n",
                        "       | `Sn` if not provided.             |         |      |                 \n",
                        " wref0 | Base speed reference              | 1       | p.u. |                 \n",
                        " R     | Speed regulation gain (mach. base | 0.050   | p.u. | ipower          \n",
                        "       | default)                          |         |      |                 \n",
                        " VMAX  | Maximum valve position            | 1.200   | p.u. | power           \n",
                        " VMIN  | Minimum valve position            | 0       | p.u. | power           \n",
                        " T1    | Valve time constant               | 0.100   |      |                 \n",
                        " T2    | Lead-lag lead time constant       | 0.200   |      |                 \n",
                        " T3    | Lead-lag lag time constant        | 10      |      |                 \n",
                        " Dt    | Turbine damping coefficient       | 0       |      | power           \n",
                        " Sg    | Rated power from generator        | 0       | MVA  |                 \n",
                        " ug    | Generator connection status       | 0       | bool |                 \n",
                        " Vn    | Rated voltage from generator      | 0       | kV   |                 \n",
                        "\n",
                        "Variables\n",
                        "\n",
                        " Name  |   Type   |             Description              | Unit | Properties\n",
                        "-------+----------+--------------------------------------+------+-----------\n",
                        " LAG_y | State    | State in lag TF                      |      | v_str     \n",
                        " LL_x  | State    | State in lead-lag                    |      | v_str     \n",
                        " omega | ExtState | Generator speed                      | p.u. |           \n",
                        " paux  | Algeb    | Auxiliary power input                |      | v_str     \n",
                        " pout  | Algeb    | Turbine final output power           |      | v_str     \n",
                        " wref  | Algeb    | Speed reference variable             |      | v_str     \n",
                        " pref  | Algeb    | Reference power input                |      | v_str     \n",
                        " wd    | Algeb    | Generator speed deviation            | p.u. | v_str     \n",
                        " pd    | Algeb    | Pref plus speed deviation times gain | p.u. | v_str     \n",
                        " LL_y  | Algeb    | Output of lead-lag                   |      | v_str     \n",
                        " tm    | ExtAlgeb | Mechanical power interface to SynGen |      |           \n",
                        "\n",
                        "Initialization Equations\n",
                        "\n",
                        " Name  |   Type   | Initial Value\n",
                        "-------+----------+--------------\n",
                        " LAG_y | State    | pd * 1 / 1   \n",
                        " LL_x  | State    | LAG_y        \n",
                        " omega | ExtState |              \n",
                        " paux  | Algeb    | paux0        \n",
                        " pout  | Algeb    | ue * tm0     \n",
                        " wref  | Algeb    | wref0        \n",
                        " pref  | Algeb    | tm0 * R      \n",
                        " wd    | Algeb    | 0            \n",
                        " pd    | Algeb    | ue * tm0     \n",
                        " LL_y  | Algeb    | LAG_y        \n",
                        " tm    | ExtAlgeb |              \n",
                        "\n",
                        "Differential Equations\n",
                        "\n",
                        " Name  |   Type   | RHS of Equation \"T x' = f(x, y)\" | T (LHS)\n",
                        "-------+----------+----------------------------------+--------\n",
                        " LAG_y | State    | 1 * pd - 1 * LAG_y               | T1     \n",
                        " LL_x  | State    | (LAG_y - LL_x)                   | T3     \n",
                        " omega | ExtState |                                  |        \n",
                        "\n",
                        "Algebraic Equations\n",
                        "\n",
                        "Name  |   Type   |                RHS of Equation \"0 = g(x, y)\"               \n",
                        "------+----------+------------------------------------------------------------\n",
                        " paux | Algeb    | paux0 - paux                                               \n",
                        " pout | Algeb    | ue * (LL_y - Dt * wd) - pout                               \n",
                        " wref | Algeb    | wref0 - wref                                               \n",
                        " pref | Algeb    | pref0 * R - pref                                           \n",
                        " wd   | Algeb    | ue * (omega - wref) - wd                                   \n",
                        " pd   | Algeb    | ue*(- wd + pref + paux) * gain - pd                        \n",
                        " LL_y | Algeb    | 1 * T2 * (LAG_y - LL_x) + 1 * LL_x * T3 - LL_y * T3+       \n",
                        "      |          | LL_LT1_z1 * LL_LT2_z1 * (LL_y - 1 * LL_x)                  \n",
                        " tm   | ExtAlgeb | ue * (pout - tm0)                                          \n",
                        "\n",
                        "Services\n",
                        "\n",
                        " Name  | Equation |     Type    \n",
                        "-------+----------+-------------\n",
                        " ue    | u * ug   | ConstService\n",
                        " pref0 | tm0      | ConstService\n",
                        " paux0 | 0        | ConstService\n",
                        " gain  | ue/R     | ConstService\n",
                        "\n",
                        "Discretes\n",
                        "\n",
                        "  Name   |    Type    |      Info     \n",
                        "---------+------------+---------------\n",
                        " LAG_lim | AntiWindup | Limiter in Lag\n",
                        " LL_LT1  | LessThan   |               \n",
                        " LL_LT2  | LessThan   |               \n",
                        "\n",
                        "Blocks\n",
                        "\n",
                        "Name |     Type      | Info\n",
                        "-----+---------------+-----\n",
                        " LAG | LagAntiWindup |     \n",
                        " LL  | LeadLag       |     \n",
                        "\n",
                        "\n",
                        "Config Fields in [TGOV1]\n",
                        "\n",
                        "   Option     | Value |                Info                | Acceptable values\n",
                        "--------------+-------+------------------------------------+------------------\n",
                        " allow_adjust | 1     | allow adjusting upper or lower     | (0, 1)           \n",
                        "              |       | limits                             |                  \n",
                        " adjust_lower | 0     | adjust lower limit                 | (0, 1)           \n",
                        " adjust_upper | 1     | adjust upper limit                 | (0, 1)           \n",
                        "\n",
                        "\n"
                    ]
                }
            ],
            "source": [
                "print(ss.TGOV1.doc())"
            ]
        },
        {
            "cell_type": "code",
            "execution_count": 7,
            "metadata": {
                "ExecuteTime": {
                    "end_time": "2021-03-19T20:13:22.529826Z",
                    "start_time": "2021-03-19T20:13:22.523414Z"
                },
                "execution": {
                    "iopub.execute_input": "2021-09-26T22:41:52.592093Z",
                    "iopub.status.busy": "2021-09-26T22:41:52.591477Z",
                    "iopub.status.idle": "2021-09-26T22:41:52.595739Z",
                    "shell.execute_reply": "2021-09-26T22:41:52.596145Z"
                }
            },
            "outputs": [
                {
                    "data": {
                        "text/plain": [
                            "array([0., 0., 0., 0.])"
                        ]
                    },
                    "execution_count": 7,
                    "metadata": {},
                    "output_type": "execute_result"
                }
            ],
            "source": [
                "ss.TGOV1.paux0.v"
            ]
        },
        {
            "cell_type": "code",
            "execution_count": 8,
            "metadata": {
                "ExecuteTime": {
                    "end_time": "2021-03-19T20:13:22.539756Z",
                    "start_time": "2021-03-19T20:13:22.534130Z"
                },
                "execution": {
                    "iopub.execute_input": "2021-09-26T22:41:52.598119Z",
                    "iopub.status.busy": "2021-09-26T22:41:52.597503Z",
                    "iopub.status.idle": "2021-09-26T22:41:52.601937Z",
                    "shell.execute_reply": "2021-09-26T22:41:52.602406Z"
                }
            },
            "outputs": [
                {
                    "data": {
                        "text/plain": [
                            "array([0., 0., 0., 0.])"
                        ]
                    },
                    "execution_count": 8,
                    "metadata": {},
                    "output_type": "execute_result"
                }
            ],
            "source": [
                "# look up the original values of TGOV1 make sure they are as expected\n",
                "\n",
                "ss.TGOV1.paux0.v"
            ]
        },
        {
            "cell_type": "code",
            "execution_count": 9,
            "metadata": {
                "ExecuteTime": {
                    "end_time": "2021-03-19T20:13:22.546373Z",
                    "start_time": "2021-03-19T20:13:22.544173Z"
                },
                "execution": {
                    "iopub.execute_input": "2021-09-26T22:41:52.604382Z",
                    "iopub.status.busy": "2021-09-26T22:41:52.603758Z",
                    "iopub.status.idle": "2021-09-26T22:41:52.606646Z",
                    "shell.execute_reply": "2021-09-26T22:41:52.607071Z"
                }
            },
            "outputs": [],
            "source": [
                "# MUST use in-place assignments. \n",
                "# Here, we increase the setpoint of the 0-th generator\n",
                "\n",
                "# method 1: use in-place assignment again\n",
                "\n",
                "ss.TGOV1.paux0.v[0] = 0.05\n",
                "\n",
                "# method 2: use ``ss.TGOV1.alter()``\n",
                "\n",
                "# ss.TGOV1.alter('paux0', 1, 0.05)"
            ]
        },
        {
            "cell_type": "code",
            "execution_count": 10,
            "metadata": {
                "ExecuteTime": {
                    "end_time": "2021-03-19T20:13:22.551802Z",
                    "start_time": "2021-03-19T20:13:22.548389Z"
                },
                "execution": {
                    "iopub.execute_input": "2021-09-26T22:41:52.609061Z",
                    "iopub.status.busy": "2021-09-26T22:41:52.608409Z",
                    "iopub.status.idle": "2021-09-26T22:41:52.612636Z",
                    "shell.execute_reply": "2021-09-26T22:41:52.613057Z"
                }
            },
            "outputs": [
                {
                    "data": {
                        "text/plain": [
                            "array([0.05, 0.  , 0.  , 0.  ])"
                        ]
                    },
                    "execution_count": 10,
                    "metadata": {},
                    "output_type": "execute_result"
                }
            ],
            "source": [
                "ss.TGOV1.paux0.v"
            ]
        },
        {
            "cell_type": "markdown",
            "metadata": {},
            "source": [
                "Continue to simulate to 2 seconds."
            ]
        },
        {
            "cell_type": "code",
            "execution_count": 11,
            "metadata": {
                "ExecuteTime": {
                    "end_time": "2021-03-19T20:13:22.555851Z",
                    "start_time": "2021-03-19T20:13:22.553588Z"
                },
                "execution": {
                    "iopub.execute_input": "2021-09-26T22:41:52.615819Z",
                    "iopub.status.busy": "2021-09-26T22:41:52.615124Z",
                    "iopub.status.idle": "2021-09-26T22:41:52.618576Z",
                    "shell.execute_reply": "2021-09-26T22:41:52.619047Z"
                }
            },
            "outputs": [],
            "source": [
                "ss.TDS.config.tf = 2"
            ]
        },
        {
            "cell_type": "code",
            "execution_count": 12,
            "metadata": {
                "ExecuteTime": {
                    "end_time": "2021-03-19T20:13:22.815687Z",
                    "start_time": "2021-03-19T20:13:22.557346Z"
                },
                "execution": {
                    "iopub.execute_input": "2021-09-26T22:41:52.621307Z",
                    "iopub.status.busy": "2021-09-26T22:41:52.620675Z",
                    "iopub.status.idle": "2021-09-26T22:41:52.952951Z",
                    "shell.execute_reply": "2021-09-26T22:41:52.961101Z"
                }
            },
            "outputs": [
                {
                    "data": {
                        "application/vnd.jupyter.widget-view+json": {
                            "model_id": "6d4551859e2441f59be5b601fd98d787",
                            "version_major": 2,
                            "version_minor": 0
                        },
                        "text/plain": [
                            "  0%|          | 0/100 [00:00<?, ?%/s]"
                        ]
                    },
                    "metadata": {},
                    "output_type": "display_data"
                },
                {
                    "name": "stderr",
                    "output_type": "stream",
                    "text": [
                        "Simulation completed in 0.0916 seconds.\n",
                        "Outputs to \"kundur_full_out.lst\" and \"kundur_full_out.npz\".\n",
                        "Outputs written in 0.0032 seconds.\n"
                    ]
                },
                {
                    "data": {
                        "text/plain": [
                            "True"
                        ]
                    },
                    "execution_count": 12,
                    "metadata": {},
                    "output_type": "execute_result"
                }
            ],
            "source": [
                "ss.TDS.run()"
            ]
        },
        {
            "cell_type": "code",
            "execution_count": 13,
            "metadata": {
                "ExecuteTime": {
                    "end_time": "2021-03-19T20:13:23.904691Z",
                    "start_time": "2021-03-19T20:13:22.817185Z"
                },
                "execution": {
                    "iopub.execute_input": "2021-09-26T22:41:52.965842Z",
                    "iopub.status.busy": "2021-09-26T22:41:52.964986Z",
                    "iopub.status.idle": "2021-09-26T22:41:53.817992Z",
                    "shell.execute_reply": "2021-09-26T22:41:53.817166Z"
                }
            },
            "outputs": [
                {
                    "data": {
                        "image/png": "[encoded data removed]",
                        "text/plain": [
                            "<Figure size 480x320 with 1 Axes>"
                        ]
                    },
                    "metadata": {
                        "needs_background": "light"
                    },
                    "output_type": "display_data"
                },
                {
                    "data": {
                        "text/plain": [
                            "(<Figure size 480x320 with 1 Axes>, <AxesSubplot:xlabel='Time [s]'>)"
                        ]
                    },
                    "execution_count": 13,
                    "metadata": {},
                    "output_type": "execute_result"
                }
            ],
            "source": [
                "ss.TDS.plotter.plot(ss.TGOV1.paux)"
            ]
        },
        {
            "cell_type": "code",
            "execution_count": 14,
            "metadata": {
                "ExecuteTime": {
                    "end_time": "2021-03-19T20:13:24.736064Z",
                    "start_time": "2021-03-19T20:13:23.906408Z"
                },
                "execution": {
                    "iopub.execute_input": "2021-09-26T22:41:53.839939Z",
                    "iopub.status.busy": "2021-09-26T22:41:53.827388Z",
                    "iopub.status.idle": "2021-09-26T22:41:54.670798Z",
                    "shell.execute_reply": "2021-09-26T22:41:54.671184Z"
                }
            },
            "outputs": [
                {
                    "data": {
                        "image/png": "[encoded data removed]",
                        "text/plain": [
                            "<Figure size 480x320 with 1 Axes>"
                        ]
                    },
                    "metadata": {
                        "needs_background": "light"
                    },
                    "output_type": "display_data"
                },
                {
                    "data": {
                        "text/plain": [
                            "(<Figure size 480x320 with 1 Axes>, <AxesSubplot:xlabel='Time [s]'>)"
                        ]
                    },
                    "execution_count": 14,
                    "metadata": {},
                    "output_type": "execute_result"
                }
            ],
            "source": [
                "ss.TDS.plotter.plot(ss.TGOV1.pout)"
            ]
        },
        {
            "cell_type": "code",
            "execution_count": 15,
            "metadata": {
                "ExecuteTime": {
                    "end_time": "2021-03-19T20:13:25.014751Z",
                    "start_time": "2021-03-19T20:13:24.739696Z"
                },
                "execution": {
                    "iopub.execute_input": "2021-09-26T22:41:54.675715Z",
                    "iopub.status.busy": "2021-09-26T22:41:54.674499Z",
                    "iopub.status.idle": "2021-09-26T22:41:55.292894Z",
                    "shell.execute_reply": "2021-09-26T22:41:55.293267Z"
                }
            },
            "outputs": [
                {
                    "data": {
                        "image/png": "[encoded data removed]",
                        "text/plain": [
                            "<Figure size 480x320 with 1 Axes>"
                        ]
                    },
                    "metadata": {
                        "needs_background": "light"
                    },
                    "output_type": "display_data"
                },
                {
                    "data": {
                        "text/plain": [
                            "(<Figure size 480x320 with 1 Axes>, <AxesSubplot:xlabel='Time [s]'>)"
                        ]
                    },
                    "execution_count": 15,
                    "metadata": {},
                    "output_type": "execute_result"
                }
            ],
            "source": [
                "ss.TDS.plotter.plot(ss.GENROU.omega)"
            ]
        },
        {
            "cell_type": "markdown",
            "metadata": {},
            "source": [
                "## Step 5: Set Another New Setpoints and New Ending TIme.\n",
                "\n",
                "In this example, we clear the auxiliary power previously set to `TGOV1.paux0.v`"
            ]
        },
        {
            "cell_type": "code",
            "execution_count": 16,
            "metadata": {
                "ExecuteTime": {
                    "end_time": "2021-03-19T20:13:25.018446Z",
                    "start_time": "2021-03-19T20:13:25.016455Z"
                },
                "execution": {
                    "iopub.execute_input": "2021-09-26T22:41:55.297967Z",
                    "iopub.status.busy": "2021-09-26T22:41:55.297473Z",
                    "iopub.status.idle": "2021-09-26T22:41:55.300246Z",
                    "shell.execute_reply": "2021-09-26T22:41:55.300764Z"
                }
            },
            "outputs": [],
            "source": [
                "# method 1: use in-place assignment again\n",
                "\n",
                "ss.TGOV1.paux0.v[0] = 0.\n",
                "\n",
                "# method 2: use ``ss.TGOV1.alter()``\n",
                "\n",
                "# ss.TGOV1.alter('paux0', 1, 0)\n",
                "\n",
                "# set the new ending time to 10 sec.\n",
                "ss.TDS.config.tf = 10"
            ]
        },
        {
            "cell_type": "code",
            "execution_count": 17,
            "metadata": {
                "ExecuteTime": {
                    "end_time": "2021-03-19T20:13:26.308257Z",
                    "start_time": "2021-03-19T20:13:25.019594Z"
                },
                "execution": {
                    "iopub.execute_input": "2021-09-26T22:41:55.304817Z",
                    "iopub.status.busy": "2021-09-26T22:41:55.304316Z",
                    "iopub.status.idle": "2021-09-26T22:41:56.777619Z",
                    "shell.execute_reply": "2021-09-26T22:41:56.778204Z"
                }
            },
            "outputs": [
                {
                    "data": {
                        "application/vnd.jupyter.widget-view+json": {
                            "model_id": "b99e933f27444045bbc750a67d6903f4",
                            "version_major": 2,
                            "version_minor": 0
                        },
                        "text/plain": [
                            "  0%|          | 0/100 [00:00<?, ?%/s]"
                        ]
                    },
                    "metadata": {},
                    "output_type": "display_data"
                },
                {
                    "name": "stderr",
                    "output_type": "stream",
                    "text": [
                        "Simulation completed in 0.6068 seconds.\n",
                        "Outputs to \"kundur_full_out.lst\" and \"kundur_full_out.npz\".\n",
                        "Outputs written in 0.0275 seconds.\n"
                    ]
                },
                {
                    "data": {
                        "text/plain": [
                            "True"
                        ]
                    },
                    "execution_count": 17,
                    "metadata": {},
                    "output_type": "execute_result"
                }
            ],
            "source": [
                "ss.TDS.run()"
            ]
        },
        {
            "cell_type": "code",
            "execution_count": 18,
            "metadata": {
                "ExecuteTime": {
                    "end_time": "2021-03-19T20:13:26.578840Z",
                    "start_time": "2021-03-19T20:13:26.313049Z"
                },
                "execution": {
                    "iopub.execute_input": "2021-09-26T22:41:56.780897Z",
                    "iopub.status.busy": "2021-09-26T22:41:56.780138Z",
                    "iopub.status.idle": "2021-09-26T22:41:56.988481Z",
                    "shell.execute_reply": "2021-09-26T22:41:56.989070Z"
                }
            },
            "outputs": [
                {
                    "data": {
                        "image/png": "[encoded data removed]",
                        "text/plain": [
                            "<Figure size 480x320 with 1 Axes>"
                        ]
                    },
                    "metadata": {
                        "needs_background": "light"
                    },
                    "output_type": "display_data"
                },
                {
                    "data": {
                        "text/plain": [
                            "(<Figure size 480x320 with 1 Axes>, <AxesSubplot:xlabel='Time [s]'>)"
                        ]
                    },
                    "execution_count": 18,
                    "metadata": {},
                    "output_type": "execute_result"
                }
            ],
            "source": [
                "ss.TDS.plotter.plot(ss.TGOV1.paux)"
            ]
        },
        {
            "cell_type": "code",
            "execution_count": 19,
            "metadata": {
                "ExecuteTime": {
                    "end_time": "2021-03-19T20:13:26.866303Z",
                    "start_time": "2021-03-19T20:13:26.583667Z"
                },
                "execution": {
                    "iopub.execute_input": "2021-09-26T22:41:56.991745Z",
                    "iopub.status.busy": "2021-09-26T22:41:56.991033Z",
                    "iopub.status.idle": "2021-09-26T22:41:57.284121Z",
                    "shell.execute_reply": "2021-09-26T22:41:57.284691Z"
                }
            },
            "outputs": [
                {
                    "data": {
                        "image/png": "[encoded data removed]",
                        "text/plain": [
                            "<Figure size 480x320 with 1 Axes>"
                        ]
                    },
                    "metadata": {
                        "needs_background": "light"
                    },
                    "output_type": "display_data"
                },
                {
                    "data": {
                        "text/plain": [
                            "(<Figure size 480x320 with 1 Axes>, <AxesSubplot:xlabel='Time [s]'>)"
                        ]
                    },
                    "execution_count": 19,
                    "metadata": {},
                    "output_type": "execute_result"
                }
            ],
            "source": [
                "ss.TDS.plotter.plot(ss.GENROU.omega)"
            ]
        },
        {
            "cell_type": "code",
            "execution_count": 20,
            "metadata": {
                "execution": {
                    "iopub.execute_input": "2021-09-26T22:41:57.287146Z",
                    "iopub.status.busy": "2021-09-26T22:41:57.286493Z",
                    "iopub.status.idle": "2021-09-26T22:41:58.279313Z",
                    "shell.execute_reply": "2021-09-26T22:41:58.278821Z"
                }
            },
            "outputs": [
                {
                    "name": "stdout",
                    "output_type": "stream",
                    "text": [
                        "\"/home/hacui/repos/andes/examples/kundur_full_out.npz\" removed.\r\n",
                        "\"/home/hacui/repos/andes/examples/kundur_full_out.txt\" removed.\r\n",
                        "\"/home/hacui/repos/andes/examples/kundur_full_out.lst\" removed.\r\n"
                    ]
                }
            ],
            "source": [
                "!andes misc -C"
            ]
        }
    ],
    "metadata": {
        "kernelspec": {
            "display_name": "Python 3 (ipykernel)",
            "language": "python",
            "name": "python3"
        },
        "language_info": {
            "codemirror_mode": {
                "name": "ipython",
                "version": 3
            },
            "file_extension": ".py",
            "mimetype": "text/x-python",
            "name": "python",
            "nbconvert_exporter": "python",
            "pygments_lexer": "ipython3",
            "version": "3.9.10"
        },
        "varInspector": {
            "cols": {
                "lenName": 16,
                "lenType": 16,
                "lenVar": 40
            },
            "kernels_config": {
                "python": {
                    "delete_cmd_postfix": "",
                    "delete_cmd_prefix": "del ",
                    "library": "var_list.py",
                    "varRefreshCmd": "print(var_dic_list())"
                },
                "r": {
                    "delete_cmd_postfix": ") ",
                    "delete_cmd_prefix": "rm(",
                    "library": "var_list.r",
                    "varRefreshCmd": "cat(var_dic_list()) "
                }
            },
            "types_to_exclude": [
                "module",
                "function",
                "builtin_function_or_method",
                "instance",
                "_Feature"
            ],
            "window_display": false
        }
    },
    "nbformat": 4,
    "nbformat_minor": 4
}