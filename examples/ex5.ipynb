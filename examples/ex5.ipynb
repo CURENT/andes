{
    "cells": [
        {
            "cell_type": "markdown",
            "metadata": {},
            "source": [
                "# Using CLI from Notebook"
            ]
        },
        {
            "cell_type": "markdown",
            "metadata": {},
            "source": [
                "This example notebook is a supplement to the ANDES tutorial. Make sure you have read the tutorial on using the CLI first.\n",
                "\n",
                "A brief version can be found at https://github.com/cuihantao/andes/blob/master/README.md#run-simulations"
            ]
        },
        {
            "cell_type": "markdown",
            "metadata": {},
            "source": [
                "## The `!` magic in iPython"
            ]
        },
        {
            "cell_type": "markdown",
            "metadata": {},
            "source": [
                "This example shows how to use the ANDES CLI from Jupyter Notebook.\n",
                "\n",
                "It is based on the iPython magic `!`.\n",
                "To run a command _from within_ IPython or Jupyter, place a `!` immediately before the command."
            ]
        },
        {
            "cell_type": "markdown",
            "metadata": {},
            "source": [
                "Conversely, all commands demonstrated in this notebook can be used in a terminal/shell by removing the preceeding `!` sign."
            ]
        },
        {
            "cell_type": "markdown",
            "metadata": {},
            "source": [
                "## Set up on Windows\n",
                "\n",
                "Windows users will need to install [MSYS2](https://www.msys2.org/) to support most of the Linux shell commands.\n",
                "\n",
                "To install MSYS2-base, uncomment the following line and run it:"
            ]
        },
        {
            "cell_type": "code",
            "execution_count": 1,
            "metadata": {
                "execution": {
                    "iopub.execute_input": "2021-09-26T22:41:51.245559Z",
                    "iopub.status.busy": "2021-09-26T22:41:51.245185Z",
                    "iopub.status.idle": "2021-09-26T22:41:51.248018Z",
                    "shell.execute_reply": "2021-09-26T22:41:51.247696Z"
                }
            },
            "outputs": [],
            "source": [
                "# !conda install -c msys2 -n base --yes m2-base"
            ]
        },
        {
            "cell_type": "markdown",
            "metadata": {},
            "source": [
                "## Running Shell Commands"
            ]
        },
        {
            "cell_type": "markdown",
            "metadata": {
                "pycharm": {
                    "name": "#%% md\n"
                }
            },
            "source": [
                "For example, to list the directory , use `!ls`. This is equivalent to executing `ls` from the terminal."
            ]
        },
        {
            "cell_type": "code",
            "execution_count": 2,
            "metadata": {
                "ExecuteTime": {
                    "end_time": "2021-03-18T00:45:24.639596Z",
                    "start_time": "2021-03-18T00:45:24.077682Z"
                },
                "execution": {
                    "iopub.execute_input": "2021-09-26T22:41:51.256015Z",
                    "iopub.status.busy": "2021-09-26T22:41:51.255664Z",
                    "iopub.status.idle": "2021-09-26T22:41:51.656973Z",
                    "shell.execute_reply": "2021-09-26T22:41:51.656673Z"
                },
                "pycharm": {
                    "name": "#%%\n"
                }
            },
            "outputs": [
                {
                    "name": "stdout",
                    "output_type": "stream",
                    "text": [
                        "demonstration  ex1.ipynb  ex3.ipynb  ex5.ipynb\tex7.ipynb  ex9.ipynb\r\n",
                        "ex10.ipynb     ex2.ipynb  ex4.ipynb  ex6.ipynb\tex8.ipynb  verification\r\n"
                    ]
                }
            ],
            "source": [
                "!ls"
            ]
        },
        {
            "cell_type": "markdown",
            "metadata": {
                "pycharm": {
                    "name": "#%% md\n"
                }
            },
            "source": [
                "Likewise, to run `andes`, use `!andes`. Addition arguments can be passed as usual."
            ]
        },
        {
            "cell_type": "code",
            "execution_count": 3,
            "metadata": {
                "ExecuteTime": {
                    "end_time": "2021-03-18T00:45:25.865997Z",
                    "start_time": "2021-03-18T00:45:24.640999Z"
                },
                "execution": {
                    "iopub.execute_input": "2021-09-26T22:41:51.660699Z",
                    "iopub.status.busy": "2021-09-26T22:41:51.660454Z",
                    "iopub.status.idle": "2021-09-26T22:41:52.350068Z",
                    "shell.execute_reply": "2021-09-26T22:41:52.349497Z"
                },
                "pycharm": {
                    "name": "#%%\n"
                }
            },
            "outputs": [
                {
                    "name": "stdout",
                    "output_type": "stream",
                    "text": [
                        "\r\n",
                        "    _           _         | Version 1.6.4.post10.dev0+gd1a4589d\r\n",
                        "   /_\\  _ _  __| |___ ___ | Python 3.9.10 on Linux, 04/19/2022 08:30:40 PM\r\n",
                        "  / _ \\| ' \\/ _` / -_|_-< | \r\n",
                        " /_/ \\_\\_||_\\__,_\\___/__/ | This program comes with ABSOLUTELY NO WARRANTY.\r\n",
                        "\r\n",
                        "usage: andes [-h] [-v {1,10,20,30,40}]\r\n",
                        "             {run,plot,doc,misc,prepare,prep,selftest,st,demo} ...\r\n",
                        "\r\n",
                        "positional arguments:\r\n",
                        "  {run,plot,doc,misc,prepare,prep,selftest,st,demo}\r\n",
                        "                        [run] run simulation routine; [plot] plot results;\r\n",
                        "                        [doc] quick documentation; [misc] misc. functions;\r\n",
                        "                        [prepare] prepare the numerical code; [selftest] run\r\n",
                        "                        self test;\r\n",
                        "\r\n",
                        "optional arguments:\r\n",
                        "  -h, --help            show this help message and exit\r\n",
                        "  -v {1,10,20,30,40}, --verbose {1,10,20,30,40}\r\n",
                        "                        Verbosity level in 10-DEBUG, 20-INFO, 30-WARNING, or\r\n",
                        "                        40-ERROR.\r\n"
                    ]
                }
            ],
            "source": [
                "!andes"
            ]
        },
        {
            "cell_type": "markdown",
            "metadata": {
                "pycharm": {
                    "name": "#%% md\n"
                }
            },
            "source": [
                "## Run a simulation"
            ]
        },
        {
            "cell_type": "markdown",
            "metadata": {},
            "source": [
                "Pass the path to the case file and other arguments to andes from the command line as follows."
            ]
        },
        {
            "cell_type": "code",
            "execution_count": 4,
            "metadata": {
                "ExecuteTime": {
                    "end_time": "2021-03-18T00:45:30.187230Z",
                    "start_time": "2021-03-18T00:45:25.867982Z"
                },
                "execution": {
                    "iopub.execute_input": "2021-09-26T22:41:52.354842Z",
                    "iopub.status.busy": "2021-09-26T22:41:52.353231Z",
                    "iopub.status.idle": "2021-09-26T22:41:56.765396Z",
                    "shell.execute_reply": "2021-09-26T22:41:56.764818Z"
                },
                "pycharm": {
                    "name": "#%%\n"
                }
            },
            "outputs": [
                {
                    "name": "stdout",
                    "output_type": "stream",
                    "text": [
                        "\n",
                        "    _           _         | Version 1.6.4.post10.dev0+gd1a4589d\n",
                        "   /_\\  _ _  __| |___ ___ | Python 3.9.10 on Linux, 04/19/2022 08:30:41 PM\n",
                        "  / _ \\| ' \\/ _` / -_|_-< | \n",
                        " /_/ \\_\\_||_\\__,_\\___/__/ | This program comes with ABSOLUTELY NO WARRANTY.\n",
                        "\n",
                        "Working directory: \"/home/hacui/repos/andes/examples\"\n",
                        "> Loaded config from file \"/home/hacui/.andes/andes.rc\"\n",
                        "> Loaded generated Python code in \"/home/hacui/.andes/pycode\".\n",
                        "Parsing input file \"../andes/cases/kundur/kundur_full.xlsx\"...\n",
                        "Input file parsed in 0.2502 seconds.\n",
                        "System internal structure set up in 0.0306 seconds.\n",
                        "-> System connectivity check results:\n",
                        "  No islanded bus detected.\n",
                        "  System is interconnected.\n",
                        "  Each island has a slack bus correctly defined and enabled.\n",
                        "\n",
                        "-> Power flow calculation\n",
                        "           Numba: Off\n",
                        "   Sparse solver: KLU\n",
                        " Solution method: NR method\n",
                        "Power flow initialized in 0.0029 seconds.\n",
                        "0: |F(x)| = 14.9282832\n",
                        "1: |F(x)| = 3.608627841\n",
                        "2: |F(x)| = 0.1701107882\n",
                        "3: |F(x)| = 0.002038626956\n",
                        "4: |F(x)| = 3.745104027e-07\n",
                        "Converged in 5 iterations in 0.0032 seconds.\n",
                        "Initialization for dynamics completed in 0.0278 seconds.\n",
                        "Initialization was successful.\n",
                        "Report saved to \"kundur_full_out.txt\" in 0.0016 seconds.\n",
                        "\n",
                        "-> Time Domain Simulation Summary:\n",
                        "Sparse Solver: KLU\n",
                        "Simulation time: 0.0-20.0 s.\n",
                        "Fixed step size: h=33.33 ms. Shrink if not converged.\n",
                        "<Toggle 1>: Line.Line_8 status changed to 0 at t=2.0 sec.                      \n",
                        "100%|########################################| 100.0/100 [00:01<00:00, 86.61%/s]\n",
                        "Simulation completed in 1.1546 seconds.\n",
                        "Outputs to \"kundur_full_out.lst\" and \"kundur_full_out.npz\".\n",
                        "Outputs written in 0.0235 seconds.\n",
                        "-> Single process finished in 1.6411 seconds.\n"
                    ]
                }
            ],
            "source": [
                "!andes run ../andes/cases/kundur/kundur_full.xlsx -r tds"
            ]
        },
        {
            "cell_type": "markdown",
            "metadata": {},
            "source": [
                "Case file names can be separated from the path, which can be passed to `-p`. The above command is equivanent to"
            ]
        },
        {
            "cell_type": "code",
            "execution_count": 5,
            "metadata": {
                "ExecuteTime": {
                    "end_time": "2021-03-18T20:19:38.699061Z",
                    "start_time": "2021-03-18T20:19:37.327764Z"
                },
                "execution": {
                    "iopub.execute_input": "2021-09-26T22:41:56.771768Z",
                    "iopub.status.busy": "2021-09-26T22:41:56.771261Z",
                    "iopub.status.idle": "2021-09-26T22:42:00.564323Z",
                    "shell.execute_reply": "2021-09-26T22:42:00.563938Z"
                }
            },
            "outputs": [
                {
                    "name": "stdout",
                    "output_type": "stream",
                    "text": [
                        "\n",
                        "    _           _         | Version 1.6.4.post10.dev0+gd1a4589d\n",
                        "   /_\\  _ _  __| |___ ___ | Python 3.9.10 on Linux, 04/19/2022 08:30:43 PM\n",
                        "  / _ \\| ' \\/ _` / -_|_-< | \n",
                        " /_/ \\_\\_||_\\__,_\\___/__/ | This program comes with ABSOLUTELY NO WARRANTY.\n",
                        "\n",
                        "Working directory: \"/home/hacui/repos/andes/examples\"\n",
                        "> Loaded config from file \"/home/hacui/.andes/andes.rc\"\n",
                        "> Loaded generated Python code in \"/home/hacui/.andes/pycode\".\n",
                        "Parsing input file \"../andes/cases/kundur/kundur_full.xlsx\"...\n",
                        "Input file parsed in 0.2501 seconds.\n",
                        "System internal structure set up in 0.0305 seconds.\n",
                        "-> System connectivity check results:\n",
                        "  No islanded bus detected.\n",
                        "  System is interconnected.\n",
                        "  Each island has a slack bus correctly defined and enabled.\n",
                        "\n",
                        "-> Power flow calculation\n",
                        "           Numba: Off\n",
                        "   Sparse solver: KLU\n",
                        " Solution method: NR method\n",
                        "Power flow initialized in 0.0029 seconds.\n",
                        "0: |F(x)| = 14.9282832\n",
                        "1: |F(x)| = 3.608627841\n",
                        "2: |F(x)| = 0.1701107882\n",
                        "3: |F(x)| = 0.002038626956\n",
                        "4: |F(x)| = 3.745104027e-07\n",
                        "Converged in 5 iterations in 0.0032 seconds.\n",
                        "Initialization for dynamics completed in 0.0277 seconds.\n",
                        "Initialization was successful.\n",
                        "Report saved to \"kundur_full_out.txt\" in 0.0016 seconds.\n",
                        "\n",
                        "-> Time Domain Simulation Summary:\n",
                        "Sparse Solver: KLU\n",
                        "Simulation time: 0.0-20.0 s.\n",
                        "Fixed step size: h=33.33 ms. Shrink if not converged.\n",
                        "<Toggle 1>: Line.Line_8 status changed to 0 at t=2.0 sec.                      \n",
                        "100%|########################################| 100.0/100 [00:01<00:00, 86.32%/s]\n",
                        "Simulation completed in 1.1584 seconds.\n",
                        "Outputs to \"kundur_full_out.lst\" and \"kundur_full_out.npz\".\n",
                        "Outputs written in 0.0237 seconds.\n",
                        "-> Single process finished in 1.6446 seconds.\n"
                    ]
                }
            ],
            "source": [
                "!andes run kundur_full.xlsx -p \"../andes/cases/kundur/\" -r tds"
            ]
        },
        {
            "cell_type": "code",
            "execution_count": 6,
            "metadata": {
                "ExecuteTime": {
                    "end_time": "2021-03-18T00:51:02.001910Z",
                    "start_time": "2021-03-18T00:51:01.485412Z"
                },
                "execution": {
                    "iopub.execute_input": "2021-09-26T22:42:00.567015Z",
                    "iopub.status.busy": "2021-09-26T22:42:00.566068Z",
                    "iopub.status.idle": "2021-09-26T22:42:00.736941Z",
                    "shell.execute_reply": "2021-09-26T22:42:00.736668Z"
                }
            },
            "outputs": [
                {
                    "name": "stdout",
                    "output_type": "stream",
                    "text": [
                        "/home/hacui/repos/andes/examples\r\n"
                    ]
                }
            ],
            "source": [
                "!pwd"
            ]
        },
        {
            "cell_type": "code",
            "execution_count": 7,
            "metadata": {
                "ExecuteTime": {
                    "end_time": "2021-03-18T00:53:47.808152Z",
                    "start_time": "2021-03-18T00:53:47.801977Z"
                },
                "execution": {
                    "iopub.execute_input": "2021-09-26T22:42:00.742580Z",
                    "iopub.status.busy": "2021-09-26T22:42:00.742249Z",
                    "iopub.status.idle": "2021-09-26T22:42:00.744781Z",
                    "shell.execute_reply": "2021-09-26T22:42:00.744429Z"
                }
            },
            "outputs": [
                {
                    "data": {
                        "text/plain": [
                            "True"
                        ]
                    },
                    "execution_count": 7,
                    "metadata": {},
                    "output_type": "execute_result"
                }
            ],
            "source": [
                "import os\n",
                "\n",
                "os.path.isfile('../andes/cases/kundur/kundur_full.xlsx')"
            ]
        },
        {
            "cell_type": "markdown",
            "metadata": {},
            "source": [
                "### PSS/E RAW and DYR Files"
            ]
        },
        {
            "cell_type": "markdown",
            "metadata": {},
            "source": [
                "To run a simulation using PSS/E raw and dyr files, pass the dyr file to argument `--addfile`. \n",
                "\n",
                "For example:"
            ]
        },
        {
            "cell_type": "code",
            "execution_count": 8,
            "metadata": {
                "ExecuteTime": {
                    "end_time": "2021-03-18T00:45:36.065075Z",
                    "start_time": "2021-03-18T00:45:31.719026Z"
                },
                "execution": {
                    "iopub.execute_input": "2021-09-26T22:42:00.748212Z",
                    "iopub.status.busy": "2021-09-26T22:42:00.747184Z",
                    "iopub.status.idle": "2021-09-26T22:42:03.214671Z",
                    "shell.execute_reply": "2021-09-26T22:42:03.214342Z"
                }
            },
            "outputs": [
                {
                    "name": "stdout",
                    "output_type": "stream",
                    "text": [
                        "\n",
                        "    _           _         | Version 1.6.4.post10.dev0+gd1a4589d\n",
                        "   /_\\  _ _  __| |___ ___ | Python 3.9.10 on Linux, 04/19/2022 08:30:46 PM\n",
                        "  / _ \\| ' \\/ _` / -_|_-< | \n",
                        " /_/ \\_\\_||_\\__,_\\___/__/ | This program comes with ABSOLUTELY NO WARRANTY.\n",
                        "\n",
                        "Working directory: \"/home/hacui/repos/andes/examples\"\n",
                        "> Loaded config from file \"/home/hacui/.andes/andes.rc\"\n",
                        "> Loaded generated Python code in \"/home/hacui/.andes/pycode\".\n",
                        "Parsing input file \"../andes/cases/kundur/kundur.raw\"...\n",
                        "  MODIFIED KUNDUR'S TWO-AREA TEST SYSTEM, DISTRIBUTED WITH ANDES\n",
                        "  SEE THE BOOK \"POWER SYSTEM STABILITY AND CONTROL\" FOR ORIGINAL DATA\n",
                        "Input file parsed in 0.0024 seconds.\n",
                        "Parsing additional file \"../andes/cases/kundur/kundur_full.dyr\"...\n",
                        "Addfile parsed in 0.2239 seconds.\n",
                        "System internal structure set up in 0.0297 seconds.\n",
                        "-> System connectivity check results:\n",
                        "  No islanded bus detected.\n",
                        "  System is interconnected.\n",
                        "  Each island has a slack bus correctly defined and enabled.\n",
                        "\n",
                        "-> Power flow calculation\n",
                        "           Numba: Off\n",
                        "   Sparse solver: KLU\n",
                        " Solution method: NR method\n",
                        "Power flow initialized in 0.0028 seconds.\n",
                        "0: |F(x)| = 3.175850023\n",
                        "1: |F(x)| = 3.176155228e-08\n",
                        "Converged in 2 iterations in 0.0014 seconds.\n",
                        "Initialization for dynamics completed in 0.0276 seconds.\n",
                        "Initialization was successful.\n",
                        "Report saved to \"kundur_out.txt\" in 0.0014 seconds.\n",
                        "\n",
                        "-> Time Domain Simulation Summary:\n",
                        "Sparse Solver: KLU\n",
                        "Simulation time: 0.0-20.0 s.\n",
                        "Fixed step size: h=33.33 ms. Shrink if not converged.\n",
                        "<Toggle Toggle_1>: Line.Line_8 status changed to 0 at t=2.0 sec.              \n",
                        "100%|########################################| 100.0/100 [00:01<00:00, 86.44%/s]\n",
                        "Simulation completed in 1.1569 seconds.\n",
                        "Outputs to \"kundur_out.lst\" and \"kundur_out.npz\".\n",
                        "Outputs written in 0.0235 seconds.\n",
                        "-> Single process finished in 1.6165 seconds.\n"
                    ]
                }
            ],
            "source": [
                "!andes run ../andes/cases/kundur/kundur.raw --addfile ../andes/cases/kundur/kundur_full.dyr -r tds"
            ]
        },
        {
            "cell_type": "markdown",
            "metadata": {
                "pycharm": {
                    "name": "#%% md\n"
                }
            },
            "source": [
                "## Check the output `lst` file"
            ]
        },
        {
            "cell_type": "code",
            "execution_count": 9,
            "metadata": {
                "ExecuteTime": {
                    "end_time": "2021-03-18T00:45:36.629852Z",
                    "start_time": "2021-03-18T00:45:36.066500Z"
                },
                "execution": {
                    "iopub.execute_input": "2021-09-26T22:42:03.218155Z",
                    "iopub.status.busy": "2021-09-26T22:42:03.217034Z",
                    "iopub.status.idle": "2021-09-26T22:42:03.382361Z",
                    "shell.execute_reply": "2021-09-26T22:42:03.381945Z"
                },
                "pycharm": {
                    "name": "#%%\n"
                }
            },
            "outputs": [
                {
                    "name": "stdout",
                    "output_type": "stream",
                    "text": [
                        "     0,                  Time [s],                            Time [s]\r\n",
                        "     1,            delta GENROU 1,                   $\\delta$ GENROU 1\r\n",
                        "     2,            delta GENROU 2,                   $\\delta$ GENROU 2\r\n",
                        "     3,            delta GENROU 3,                   $\\delta$ GENROU 3\r\n",
                        "     4,            delta GENROU 4,                   $\\delta$ GENROU 4\r\n",
                        "     5,            omega GENROU 1,                   $\\omega$ GENROU 1\r\n",
                        "     6,            omega GENROU 2,                   $\\omega$ GENROU 2\r\n",
                        "     7,            omega GENROU 3,                   $\\omega$ GENROU 3\r\n",
                        "     8,            omega GENROU 4,                   $\\omega$ GENROU 4\r\n",
                        "     9,              e1q GENROU 1,                     $e'_q$ GENROU 1\r\n",
                        "    10,              e1q GENROU 2,                     $e'_q$ GENROU 2\r\n",
                        "    11,              e1q GENROU 3,                     $e'_q$ GENROU 3\r\n",
                        "    12,              e1q GENROU 4,                     $e'_q$ GENROU 4\r\n",
                        "    13,              e1d GENROU 1,                     $e'_d$ GENROU 1\r\n",
                        "    14,              e1d GENROU 2,                     $e'_d$ GENROU 2\r\n",
                        "    15,              e1d GENROU 3,                     $e'_d$ GENROU 3\r\n",
                        "    16,              e1d GENROU 4,                     $e'_d$ GENROU 4\r\n",
                        "    17,              e2d GENROU 1,                    $e''_d$ GENROU 1\r\n",
                        "    18,              e2d GENROU 2,                    $e''_d$ GENROU 2\r\n",
                        "    19,              e2d GENROU 3,                    $e''_d$ GENROU 3\r\n",
                        "    20,              e2d GENROU 4,                    $e''_d$ GENROU 4\r\n",
                        "    21,              e2q GENROU 1,                    $e''_q$ GENROU 1\r\n",
                        "    22,              e2q GENROU 2,                    $e''_q$ GENROU 2\r\n",
                        "    23,              e2q GENROU 3,                    $e''_q$ GENROU 3\r\n",
                        "    24,              e2q GENROU 4,                    $e''_q$ GENROU 4\r\n",
                        "    25,             LAG_y TGOV1 1,                   $y_{LAG}$ TGOV1 1\r\n",
                        "    26,             LAG_y TGOV1 2,                   $y_{LAG}$ TGOV1 2\r\n",
                        "    27,             LAG_y TGOV1 3,                   $y_{LAG}$ TGOV1 3\r\n",
                        "    28,             LAG_y TGOV1 4,                   $y_{LAG}$ TGOV1 4\r\n",
                        "    29,              LL_x TGOV1 1,                   $x'_{LL}$ TGOV1 1\r\n",
                        "    30,              LL_x TGOV1 2,                   $x'_{LL}$ TGOV1 2\r\n",
                        "    31,              LL_x TGOV1 3,                   $x'_{LL}$ TGOV1 3\r\n",
                        "    32,              LL_x TGOV1 4,                   $x'_{LL}$ TGOV1 4\r\n",
                        "    33,                vp EXDC2 1,                       $V_p$ EXDC2 1\r\n",
                        "    34,                vp EXDC2 2,                       $V_p$ EXDC2 2\r\n",
                        "    35,                vp EXDC2 3,                       $V_p$ EXDC2 3\r\n",
                        "    36,                vp EXDC2 4,                       $V_p$ EXDC2 4\r\n",
                        "    37,              LS_y EXDC2 1,                    $y_{LS}$ EXDC2 1\r\n",
                        "    38,              LS_y EXDC2 2,                    $y_{LS}$ EXDC2 2\r\n",
                        "    39,              LS_y EXDC2 3,                    $y_{LS}$ EXDC2 3\r\n",
                        "    40,              LS_y EXDC2 4,                    $y_{LS}$ EXDC2 4\r\n",
                        "    41,              LL_x EXDC2 1,                   $x'_{LL}$ EXDC2 1\r\n",
                        "    42,              LL_x EXDC2 2,                   $x'_{LL}$ EXDC2 2\r\n",
                        "    43,              LL_x EXDC2 3,                   $x'_{LL}$ EXDC2 3\r\n",
                        "    44,              LL_x EXDC2 4,                   $x'_{LL}$ EXDC2 4\r\n",
                        "    45,              LA_y EXDC2 1,                    $y_{LA}$ EXDC2 1\r\n",
                        "    46,              LA_y EXDC2 2,                    $y_{LA}$ EXDC2 2\r\n",
                        "    47,              LA_y EXDC2 3,                    $y_{LA}$ EXDC2 3\r\n",
                        "    48,              LA_y EXDC2 4,                    $y_{LA}$ EXDC2 4\r\n",
                        "    49,               W_x EXDC2 1,                    $x'_{W}$ EXDC2 1\r\n",
                        "    50,               W_x EXDC2 2,                    $x'_{W}$ EXDC2 2\r\n",
                        "    51,               W_x EXDC2 3,                    $x'_{W}$ EXDC2 3\r\n",
                        "    52,               W_x EXDC2 4,                    $x'_{W}$ EXDC2 4\r\n",
                        "    53,                   a Bus 1,                      $\\theta$ Bus 1\r\n",
                        "    54,                   a Bus 2,                      $\\theta$ Bus 2\r\n",
                        "    55,                   a Bus 3,                      $\\theta$ Bus 3\r\n",
                        "    56,                   a Bus 4,                      $\\theta$ Bus 4\r\n",
                        "    57,                   a Bus 5,                      $\\theta$ Bus 5\r\n",
                        "    58,                   a Bus 6,                      $\\theta$ Bus 6\r\n",
                        "    59,                   a Bus 7,                      $\\theta$ Bus 7\r\n",
                        "    60,                   a Bus 8,                      $\\theta$ Bus 8\r\n",
                        "    61,                   a Bus 9,                      $\\theta$ Bus 9\r\n",
                        "    62,                  a Bus 10,                     $\\theta$ Bus 10\r\n",
                        "    63,                   v Bus 1,                           $V$ Bus 1\r\n",
                        "    64,                   v Bus 2,                           $V$ Bus 2\r\n",
                        "    65,                   v Bus 3,                           $V$ Bus 3\r\n",
                        "    66,                   v Bus 4,                           $V$ Bus 4\r\n",
                        "    67,                   v Bus 5,                           $V$ Bus 5\r\n",
                        "    68,                   v Bus 6,                           $V$ Bus 6\r\n",
                        "    69,                   v Bus 7,                           $V$ Bus 7\r\n",
                        "    70,                   v Bus 8,                           $V$ Bus 8\r\n",
                        "    71,                   v Bus 9,                           $V$ Bus 9\r\n",
                        "    72,                  v Bus 10,                          $V$ Bus 10\r\n",
                        "    73,                    q PV 2,                            $q$ PV 2\r\n",
                        "    74,                    q PV 3,                            $q$ PV 3\r\n",
                        "    75,                    q PV 4,                            $q$ PV 4\r\n",
                        "    76,                 q Slack 1,                         $q$ Slack 1\r\n",
                        "    77,                 p Slack 1,                         $p$ Slack 1\r\n",
                        "    78,               Id GENROU 1,                      $I_d$ GENROU 1\r\n",
                        "    79,               Id GENROU 2,                      $I_d$ GENROU 2\r\n",
                        "    80,               Id GENROU 3,                      $I_d$ GENROU 3\r\n",
                        "    81,               Id GENROU 4,                      $I_d$ GENROU 4\r\n",
                        "    82,               Iq GENROU 1,                      $I_q$ GENROU 1\r\n",
                        "    83,               Iq GENROU 2,                      $I_q$ GENROU 2\r\n",
                        "    84,               Iq GENROU 3,                      $I_q$ GENROU 3\r\n",
                        "    85,               Iq GENROU 4,                      $I_q$ GENROU 4\r\n",
                        "    86,               vd GENROU 1,                      $V_d$ GENROU 1\r\n",
                        "    87,               vd GENROU 2,                      $V_d$ GENROU 2\r\n",
                        "    88,               vd GENROU 3,                      $V_d$ GENROU 3\r\n",
                        "    89,               vd GENROU 4,                      $V_d$ GENROU 4\r\n",
                        "    90,               vq GENROU 1,                      $V_q$ GENROU 1\r\n",
                        "    91,               vq GENROU 2,                      $V_q$ GENROU 2\r\n",
                        "    92,               vq GENROU 3,                      $V_q$ GENROU 3\r\n",
                        "    93,               vq GENROU 4,                      $V_q$ GENROU 4\r\n",
                        "    94,               tm GENROU 1,                   $\\tau_m$ GENROU 1\r\n",
                        "    95,               tm GENROU 2,                   $\\tau_m$ GENROU 2\r\n",
                        "    96,               tm GENROU 3,                   $\\tau_m$ GENROU 3\r\n",
                        "    97,               tm GENROU 4,                   $\\tau_m$ GENROU 4\r\n",
                        "    98,               te GENROU 1,                   $\\tau_e$ GENROU 1\r\n",
                        "    99,               te GENROU 2,                   $\\tau_e$ GENROU 2\r\n",
                        "   100,               te GENROU 3,                   $\\tau_e$ GENROU 3\r\n",
                        "   101,               te GENROU 4,                   $\\tau_e$ GENROU 4\r\n",
                        "   102,               vf GENROU 1,                      $v_f$ GENROU 1\r\n",
                        "   103,               vf GENROU 2,                      $v_f$ GENROU 2\r\n",
                        "   104,               vf GENROU 3,                      $v_f$ GENROU 3\r\n",
                        "   105,               vf GENROU 4,                      $v_f$ GENROU 4\r\n",
                        "   106,           XadIfd GENROU 1,             $X_{ad}I_{fd}$ GENROU 1\r\n",
                        "   107,           XadIfd GENROU 2,             $X_{ad}I_{fd}$ GENROU 2\r\n",
                        "   108,           XadIfd GENROU 3,             $X_{ad}I_{fd}$ GENROU 3\r\n",
                        "   109,           XadIfd GENROU 4,             $X_{ad}I_{fd}$ GENROU 4\r\n",
                        "   110,               Pe GENROU 1,                      $P_e$ GENROU 1\r\n",
                        "   111,               Pe GENROU 2,                      $P_e$ GENROU 2\r\n",
                        "   112,               Pe GENROU 3,                      $P_e$ GENROU 3\r\n",
                        "   113,               Pe GENROU 4,                      $P_e$ GENROU 4\r\n",
                        "   114,               Qe GENROU 1,                      $Q_e$ GENROU 1\r\n",
                        "   115,               Qe GENROU 2,                      $Q_e$ GENROU 2\r\n",
                        "   116,               Qe GENROU 3,                      $Q_e$ GENROU 3\r\n",
                        "   117,               Qe GENROU 4,                      $Q_e$ GENROU 4\r\n",
                        "   118,             psid GENROU 1,                   $\\psi_d$ GENROU 1\r\n",
                        "   119,             psid GENROU 2,                   $\\psi_d$ GENROU 2\r\n",
                        "   120,             psid GENROU 3,                   $\\psi_d$ GENROU 3\r\n",
                        "   121,             psid GENROU 4,                   $\\psi_d$ GENROU 4\r\n",
                        "   122,             psiq GENROU 1,                   $\\psi_q$ GENROU 1\r\n",
                        "   123,             psiq GENROU 2,                   $\\psi_q$ GENROU 2\r\n",
                        "   124,             psiq GENROU 3,                   $\\psi_q$ GENROU 3\r\n",
                        "   125,             psiq GENROU 4,                   $\\psi_q$ GENROU 4\r\n",
                        "   126,            psi2q GENROU 1,                $\\psi_{aq}$ GENROU 1\r\n",
                        "   127,            psi2q GENROU 2,                $\\psi_{aq}$ GENROU 2\r\n",
                        "   128,            psi2q GENROU 3,                $\\psi_{aq}$ GENROU 3\r\n",
                        "   129,            psi2q GENROU 4,                $\\psi_{aq}$ GENROU 4\r\n",
                        "   130,            psi2d GENROU 1,                $\\psi_{ad}$ GENROU 1\r\n",
                        "   131,            psi2d GENROU 2,                $\\psi_{ad}$ GENROU 2\r\n",
                        "   132,            psi2d GENROU 3,                $\\psi_{ad}$ GENROU 3\r\n",
                        "   133,            psi2d GENROU 4,                $\\psi_{ad}$ GENROU 4\r\n",
                        "   134,             psi2 GENROU 1,                   $\\psi_a$ GENROU 1\r\n",
                        "   135,             psi2 GENROU 2,                   $\\psi_a$ GENROU 2\r\n",
                        "   136,             psi2 GENROU 3,                   $\\psi_a$ GENROU 3\r\n",
                        "   137,             psi2 GENROU 4,                   $\\psi_a$ GENROU 4\r\n",
                        "   138,               Se GENROU 1,          $S_e(|\\psi_{a}|)$ GENROU 1\r\n",
                        "   139,               Se GENROU 2,          $S_e(|\\psi_{a}|)$ GENROU 2\r\n",
                        "   140,               Se GENROU 3,          $S_e(|\\psi_{a}|)$ GENROU 3\r\n",
                        "   141,               Se GENROU 4,          $S_e(|\\psi_{a}|)$ GENROU 4\r\n",
                        "   142,           XaqI1q GENROU 1,             $X_{aq}I_{1q}$ GENROU 1\r\n",
                        "   143,           XaqI1q GENROU 2,             $X_{aq}I_{1q}$ GENROU 2\r\n",
                        "   144,           XaqI1q GENROU 3,             $X_{aq}I_{1q}$ GENROU 3\r\n",
                        "   145,           XaqI1q GENROU 4,             $X_{aq}I_{1q}$ GENROU 4\r\n",
                        "   146,              paux TGOV1 1,                   $P_{aux}$ TGOV1 1\r\n",
                        "   147,              paux TGOV1 2,                   $P_{aux}$ TGOV1 2\r\n",
                        "   148,              paux TGOV1 3,                   $P_{aux}$ TGOV1 3\r\n",
                        "   149,              paux TGOV1 4,                   $P_{aux}$ TGOV1 4\r\n",
                        "   150,              pout TGOV1 1,                   $P_{out}$ TGOV1 1\r\n",
                        "   151,              pout TGOV1 2,                   $P_{out}$ TGOV1 2\r\n",
                        "   152,              pout TGOV1 3,                   $P_{out}$ TGOV1 3\r\n",
                        "   153,              pout TGOV1 4,                   $P_{out}$ TGOV1 4\r\n",
                        "   154,              wref TGOV1 1,              $\\omega_{ref}$ TGOV1 1\r\n",
                        "   155,              wref TGOV1 2,              $\\omega_{ref}$ TGOV1 2\r\n",
                        "   156,              wref TGOV1 3,              $\\omega_{ref}$ TGOV1 3\r\n",
                        "   157,              wref TGOV1 4,              $\\omega_{ref}$ TGOV1 4\r\n",
                        "   158,              pref TGOV1 1,                   $P_{ref}$ TGOV1 1\r\n",
                        "   159,              pref TGOV1 2,                   $P_{ref}$ TGOV1 2\r\n",
                        "   160,              pref TGOV1 3,                   $P_{ref}$ TGOV1 3\r\n",
                        "   161,              pref TGOV1 4,                   $P_{ref}$ TGOV1 4\r\n",
                        "   162,                wd TGOV1 1,              $\\omega_{dev}$ TGOV1 1\r\n",
                        "   163,                wd TGOV1 2,              $\\omega_{dev}$ TGOV1 2\r\n",
                        "   164,                wd TGOV1 3,              $\\omega_{dev}$ TGOV1 3\r\n",
                        "   165,                wd TGOV1 4,              $\\omega_{dev}$ TGOV1 4\r\n",
                        "   166,                pd TGOV1 1,                       $P_d$ TGOV1 1\r\n",
                        "   167,                pd TGOV1 2,                       $P_d$ TGOV1 2\r\n",
                        "   168,                pd TGOV1 3,                       $P_d$ TGOV1 3\r\n",
                        "   169,                pd TGOV1 4,                       $P_d$ TGOV1 4\r\n",
                        "   170,              LL_y TGOV1 1,                    $y_{LL}$ TGOV1 1\r\n",
                        "   171,              LL_y TGOV1 2,                    $y_{LL}$ TGOV1 2\r\n",
                        "   172,              LL_y TGOV1 3,                    $y_{LL}$ TGOV1 3\r\n",
                        "   173,              LL_y TGOV1 4,                    $y_{LL}$ TGOV1 4\r\n",
                        "   174,                 v EXDC2 1,                  $E_{term}$ EXDC2 1\r\n",
                        "   175,                 v EXDC2 2,                  $E_{term}$ EXDC2 2\r\n",
                        "   176,                 v EXDC2 3,                  $E_{term}$ EXDC2 3\r\n",
                        "   177,                 v EXDC2 4,                  $E_{term}$ EXDC2 4\r\n",
                        "   178,              vout EXDC2 1,                   $v_{out}$ EXDC2 1\r\n",
                        "   179,              vout EXDC2 2,                   $v_{out}$ EXDC2 2\r\n",
                        "   180,              vout EXDC2 3,                   $v_{out}$ EXDC2 3\r\n",
                        "   181,              vout EXDC2 4,                   $v_{out}$ EXDC2 4\r\n",
                        "   182,              vref EXDC2 1,                   $V_{ref}$ EXDC2 1\r\n",
                        "   183,              vref EXDC2 2,                   $V_{ref}$ EXDC2 2\r\n",
                        "   184,              vref EXDC2 3,                   $V_{ref}$ EXDC2 3\r\n",
                        "   185,              vref EXDC2 4,                   $V_{ref}$ EXDC2 4\r\n",
                        "   186,                Se EXDC2 1,            $S_e(|V_{out}|)$ EXDC2 1\r\n",
                        "   187,                Se EXDC2 2,            $S_e(|V_{out}|)$ EXDC2 2\r\n",
                        "   188,                Se EXDC2 3,            $S_e(|V_{out}|)$ EXDC2 3\r\n",
                        "   189,                Se EXDC2 4,            $S_e(|V_{out}|)$ EXDC2 4\r\n",
                        "   190,                vi EXDC2 1,                       $V_i$ EXDC2 1\r\n",
                        "   191,                vi EXDC2 2,                       $V_i$ EXDC2 2\r\n",
                        "   192,                vi EXDC2 3,                       $V_i$ EXDC2 3\r\n",
                        "   193,                vi EXDC2 4,                       $V_i$ EXDC2 4\r\n",
                        "   194,              LL_y EXDC2 1,                    $y_{LL}$ EXDC2 1\r\n",
                        "   195,              LL_y EXDC2 2,                    $y_{LL}$ EXDC2 2\r\n",
                        "   196,              LL_y EXDC2 3,                    $y_{LL}$ EXDC2 3\r\n",
                        "   197,              LL_y EXDC2 4,                    $y_{LL}$ EXDC2 4\r\n",
                        "   198,               W_y EXDC2 1,                     $y_{W}$ EXDC2 1\r\n",
                        "   199,               W_y EXDC2 2,                     $y_{W}$ EXDC2 2\r\n",
                        "   200,               W_y EXDC2 3,                     $y_{W}$ EXDC2 3\r\n",
                        "   201,               W_y EXDC2 4,                     $y_{W}$ EXDC2 4\r\n"
                    ]
                }
            ],
            "source": [
                "!cat kundur_full_out.lst"
            ]
        },
        {
            "cell_type": "markdown",
            "metadata": {
                "pycharm": {
                    "name": "#%% md\n"
                }
            },
            "source": [
                "## Plot and save to file"
            ]
        },
        {
            "cell_type": "markdown",
            "metadata": {},
            "source": [
                "We found a limitation of using `andes plot` from within Notebook/iPython. The figure won't be displayed correctly. The workaround is to save the image as a file and display it from the notebook.\n",
                "\n",
                "Please let us know if you have better solutions."
            ]
        },
        {
            "cell_type": "code",
            "execution_count": 10,
            "metadata": {
                "ExecuteTime": {
                    "end_time": "2021-03-18T00:45:39.374231Z",
                    "start_time": "2021-03-18T00:45:36.631417Z"
                },
                "execution": {
                    "iopub.execute_input": "2021-09-26T22:42:03.386065Z",
                    "iopub.status.busy": "2021-09-26T22:42:03.384821Z",
                    "iopub.status.idle": "2021-09-26T22:42:04.785443Z",
                    "shell.execute_reply": "2021-09-26T22:42:04.785161Z"
                },
                "scrolled": true
            },
            "outputs": [
                {
                    "name": "stdout",
                    "output_type": "stream",
                    "text": [
                        "Figure saved to \"kundur_full_out_1.png\".\r\n",
                        "Figure(640x480)\r\n"
                    ]
                }
            ],
            "source": [
                "!andes plot kundur_full_out.lst 0 5 6 --save"
            ]
        },
        {
            "cell_type": "markdown",
            "metadata": {},
            "source": [
                "## Display image"
            ]
        },
        {
            "cell_type": "code",
            "execution_count": 11,
            "metadata": {
                "ExecuteTime": {
                    "end_time": "2021-03-18T00:45:39.391336Z",
                    "start_time": "2021-03-18T00:45:39.376617Z"
                },
                "execution": {
                    "iopub.execute_input": "2021-09-26T22:42:04.788767Z",
                    "iopub.status.busy": "2021-09-26T22:42:04.788494Z",
                    "iopub.status.idle": "2021-09-26T22:42:04.792063Z",
                    "shell.execute_reply": "2021-09-26T22:42:04.792268Z"
                },
                "pycharm": {
                    "name": "#%%\n"
                }
            },
            "outputs": [
                {
                    "data": {
                        "image/png": "[encoded data removed]",
                        "text/plain": [
                            "<IPython.core.display.Image object>"
                        ]
                    },
                    "execution_count": 11,
                    "metadata": {},
                    "output_type": "execute_result"
                }
            ],
            "source": [
                "from IPython.display import Image\n",
                "Image(\"kundur_full_out_1.png\")"
            ]
        },
        {
            "cell_type": "markdown",
            "metadata": {},
            "source": [
                "## Using `xargs` for index lookup"
            ]
        },
        {
            "cell_type": "markdown",
            "metadata": {},
            "source": [
                "A convenient tool in Linux/macOS is `xargs`, which turns the standard output of one program into arguments for another.\n",
                "\n",
                "`andes plot --xargs` accepts an input of search pattern for variable names and returns a list of arguments, including the matched indices, that can be understood by `andes plot`.\n"
            ]
        },
        {
            "cell_type": "markdown",
            "metadata": {},
            "source": [
                "To illustrate, let's look at an example output of `andes plot --xargs`."
            ]
        },
        {
            "cell_type": "code",
            "execution_count": 12,
            "metadata": {
                "ExecuteTime": {
                    "end_time": "2021-03-18T00:45:40.703534Z",
                    "start_time": "2021-03-18T00:45:39.394998Z"
                },
                "execution": {
                    "iopub.execute_input": "2021-09-26T22:42:04.795384Z",
                    "iopub.status.busy": "2021-09-26T22:42:04.794246Z",
                    "iopub.status.idle": "2021-09-26T22:42:05.381130Z",
                    "shell.execute_reply": "2021-09-26T22:42:05.380872Z"
                }
            },
            "outputs": [
                {
                    "name": "stdout",
                    "output_type": "stream",
                    "text": [
                        "kundur_full_out.lst 0 5 6 7 8\r\n"
                    ]
                }
            ],
            "source": [
                "!andes plot kundur_full_out.lst --xargs \"omega GENROU\""
            ]
        },
        {
            "cell_type": "markdown",
            "metadata": {},
            "source": [
                "The output consists of the lst file name, the default x-axis index `0`, and the indices for the found variables. The full output can be passed to `andes plot` without modification."
            ]
        },
        {
            "cell_type": "markdown",
            "metadata": {},
            "source": [
                "We use the following command to pass the arguments:"
            ]
        },
        {
            "cell_type": "code",
            "execution_count": 13,
            "metadata": {
                "ExecuteTime": {
                    "end_time": "2021-03-18T00:45:43.751254Z",
                    "start_time": "2021-03-18T00:45:40.704926Z"
                },
                "execution": {
                    "iopub.execute_input": "2021-09-26T22:42:05.383935Z",
                    "iopub.status.busy": "2021-09-26T22:42:05.383640Z",
                    "iopub.status.idle": "2021-09-26T22:42:06.464911Z",
                    "shell.execute_reply": "2021-09-26T22:42:06.464568Z"
                }
            },
            "outputs": [
                {
                    "name": "stdout",
                    "output_type": "stream",
                    "text": [
                        "Figure(640x480)\r\n"
                    ]
                }
            ],
            "source": [
                "!andes plot kundur_full_out.lst --xargs \"omega GENROU\" | xargs andes plot"
            ]
        },
        {
            "cell_type": "markdown",
            "metadata": {},
            "source": [
                "where `|` is the pipe operator in shell for piping the standard output of the left-hand side to the right-hand side, `xargs` captures the pipe-in and appends it to `andes plot`. \n",
                "\n",
                "The command is equivalent to manually running"
            ]
        },
        {
            "cell_type": "code",
            "execution_count": 14,
            "metadata": {
                "ExecuteTime": {
                    "end_time": "2021-03-18T00:45:46.697152Z",
                    "start_time": "2021-03-18T00:45:43.752578Z"
                },
                "execution": {
                    "iopub.execute_input": "2021-09-26T22:42:06.469374Z",
                    "iopub.status.busy": "2021-09-26T22:42:06.468941Z",
                    "iopub.status.idle": "2021-09-26T22:42:07.904385Z",
                    "shell.execute_reply": "2021-09-26T22:42:07.904584Z"
                }
            },
            "outputs": [
                {
                    "name": "stdout",
                    "output_type": "stream",
                    "text": [
                        "Figure(640x480)\r\n"
                    ]
                }
            ],
            "source": [
                "!andes plot kundur_full_out.lst 5 6 7 8"
            ]
        },
        {
            "cell_type": "markdown",
            "metadata": {},
            "source": [
                "## Cleanup"
            ]
        },
        {
            "cell_type": "markdown",
            "metadata": {},
            "source": [
                "Remove the saved `png` image files."
            ]
        },
        {
            "cell_type": "code",
            "execution_count": 15,
            "metadata": {
                "ExecuteTime": {
                    "end_time": "2021-03-18T00:45:47.287001Z",
                    "start_time": "2021-03-18T00:45:46.698453Z"
                },
                "execution": {
                    "iopub.execute_input": "2021-09-26T22:42:07.908464Z",
                    "iopub.status.busy": "2021-09-26T22:42:07.908222Z",
                    "iopub.status.idle": "2021-09-26T22:42:08.064952Z",
                    "shell.execute_reply": "2021-09-26T22:42:08.065218Z"
                }
            },
            "outputs": [
                {
                    "name": "stdout",
                    "output_type": "stream",
                    "text": [
                        "removed 'kundur_full_out_1.png'\r\n"
                    ]
                }
            ],
            "source": [
                "!rm -v *.png"
            ]
        },
        {
            "cell_type": "code",
            "execution_count": 16,
            "metadata": {
                "ExecuteTime": {
                    "end_time": "2021-03-18T00:45:48.521518Z",
                    "start_time": "2021-03-18T00:45:47.288522Z"
                },
                "execution": {
                    "iopub.execute_input": "2021-09-26T22:42:08.067965Z",
                    "iopub.status.busy": "2021-09-26T22:42:08.067679Z",
                    "iopub.status.idle": "2021-09-26T22:42:08.594268Z",
                    "shell.execute_reply": "2021-09-26T22:42:08.593930Z"
                }
            },
            "outputs": [
                {
                    "name": "stdout",
                    "output_type": "stream",
                    "text": [
                        "\"/home/hacui/repos/andes/examples/kundur_full_out.npz\" removed.\r\n",
                        "\"/home/hacui/repos/andes/examples/kundur_full_out.txt\" removed.\r\n",
                        "\"/home/hacui/repos/andes/examples/kundur_out.lst\" removed.\r\n",
                        "\"/home/hacui/repos/andes/examples/kundur_out.npz\" removed.\r\n",
                        "\"/home/hacui/repos/andes/examples/kundur_full_out.lst\" removed.\r\n",
                        "\"/home/hacui/repos/andes/examples/kundur_out.txt\" removed.\r\n"
                    ]
                }
            ],
            "source": [
                "!andes misc -C"
            ]
        }
    ],
    "metadata": {
        "interpreter": {
            "hash": "4c42303ec617988e96980582546035234a0dbb343f6614254a1d5bddbb9babb9"
        },
        "kernelspec": {
            "display_name": "Python 3 (ipykernel)",
            "language": "python",
            "name": "python3"
        },
        "language_info": {
            "codemirror_mode": {
                "name": "ipython",
                "version": 3
            },
            "file_extension": ".py",
            "mimetype": "text/x-python",
            "name": "python",
            "nbconvert_exporter": "python",
            "pygments_lexer": "ipython3",
            "version": "3.9.10"
        },
        "pycharm": {
            "stem_cell": {
                "cell_type": "raw",
                "metadata": {
                    "collapsed": false
                },
                "source": []
            }
        },
        "varInspector": {
            "cols": {
                "lenName": 16,
                "lenType": 16,
                "lenVar": 40
            },
            "kernels_config": {
                "python": {
                    "delete_cmd_postfix": "",
                    "delete_cmd_prefix": "del ",
                    "library": "var_list.py",
                    "varRefreshCmd": "print(var_dic_list())"
                },
                "r": {
                    "delete_cmd_postfix": ") ",
                    "delete_cmd_prefix": "rm(",
                    "library": "var_list.r",
                    "varRefreshCmd": "cat(var_dic_list()) "
                }
            },
            "types_to_exclude": [
                "module",
                "function",
                "builtin_function_or_method",
                "instance",
                "_Feature"
            ],
            "window_display": false
        }
    },
    "nbformat": 4,
    "nbformat_minor": 4
}