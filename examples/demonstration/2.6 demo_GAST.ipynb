{
    "cells": [
        {
            "cell_type": "markdown",
            "metadata": {},
            "source": [
                "# ANDES Demonstration of GAST on IEEE 14-Bus System\n",
                "\n",
                "Prepared by Jinning Wang. Last revised on October 18, 2021."
            ]
        },
        {
            "cell_type": "code",
            "execution_count": 8,
            "metadata": {
                "execution": {
                    "iopub.execute_input": "2021-09-26T22:41:50.949182Z",
                    "iopub.status.busy": "2021-09-26T22:41:50.948875Z",
                    "iopub.status.idle": "2021-09-26T22:41:51.715473Z",
                    "shell.execute_reply": "2021-09-26T22:41:51.715029Z"
                }
            },
            "outputs": [],
            "source": [
                "import andes\n",
                "from andes.utils.paths import get_case\n",
                "\n",
                "andes.config_logger(stream_level=20)"
            ]
        },
        {
            "cell_type": "code",
            "execution_count": 9,
            "metadata": {
                "execution": {
                    "iopub.execute_input": "2021-09-26T22:41:51.718124Z",
                    "iopub.status.busy": "2021-09-26T22:41:51.717830Z",
                    "iopub.status.idle": "2021-09-26T22:41:52.415346Z",
                    "shell.execute_reply": "2021-09-26T22:41:52.415616Z"
                },
                "scrolled": true
            },
            "outputs": [
                {
                    "name": "stderr",
                    "output_type": "stream",
                    "text": [
                        "Working directory: \"/Users/jinningwang/Documents/work/andes/examples/demonstration\"\n",
                        "Loaded config from file \"/Users/jinningwang/.andes/andes.rc\"\n",
                        "Reloaded generated Python code of module \"pycode\".\n",
                        "Generated code for <GAST> is stale.\n",
                        "Numerical code generation (rapid incremental mode) started...\n"
                    ]
                },
                {
                    "name": "stdout",
                    "output_type": "stream",
                    "text": [
                        "Generating code for 1 models on 8 processes.\n"
                    ]
                },
                {
                    "name": "stderr",
                    "output_type": "stream",
                    "text": [
                        "Saved generated pycode to \"/Users/jinningwang/.andes/pycode\"\n",
                        "Reloaded generated Python code of module \"pycode\".\n",
                        "Generated numerical code for 1 models in 0.2405 seconds.\n",
                        "Parsing input file \"/Users/jinningwang/Documents/work/andes/andes/cases/ieee14/ieee14_gast.xlsx\"...\n",
                        "Input file parsed in 0.0849 seconds.\n",
                        "System internal structure set up in 0.0319 seconds.\n"
                    ]
                },
                {
                    "data": {
                        "text/plain": [
                            "True"
                        ]
                    },
                    "execution_count": 9,
                    "metadata": {},
                    "output_type": "execute_result"
                }
            ],
            "source": [
                "ss = andes.load(get_case('ieee14/ieee14_gast.xlsx'),\n",
                "                setup=False,\n",
                "                no_output=True)\n",
                "ss.setup()"
            ]
        },
        {
            "cell_type": "markdown",
            "metadata": {},
            "source": [
                "# Simulation\n",
                "\n",
                "Governor ``GAST_1`` is connected to ``GENROU_5``."
            ]
        },
        {
            "cell_type": "code",
            "execution_count": 10,
            "metadata": {
                "execution": {
                    "iopub.execute_input": "2021-09-26T22:41:52.417917Z",
                    "iopub.status.busy": "2021-09-26T22:41:52.417501Z",
                    "iopub.status.idle": "2021-09-26T22:41:52.439169Z",
                    "shell.execute_reply": "2021-09-26T22:41:52.439419Z"
                },
                "scrolled": false
            },
            "outputs": [
                {
                    "name": "stderr",
                    "output_type": "stream",
                    "text": [
                        "-> System connectivity check results:\n",
                        "  No islanded bus detected.\n",
                        "  A total of 1 island(s) detected.\n",
                        "  Each island has a slack bus correctly defined and enabled.\n",
                        "\n",
                        "-> Power flow calculation\n",
                        "   Sparse solver: KLU\n",
                        " Solution method: NR method\n",
                        " Sparse addition: Fast in-place (kvxopt)\n",
                        "Numba compilation initiated, parallel=False, cache=True.\n",
                        "Power flow initialized.\n",
                        "0: |F(x)| = 0.5605182134\n",
                        "1: |F(x)| = 0.006202200332\n",
                        "2: |F(x)| = 5.819382825e-06\n",
                        "3: |F(x)| = 6.967745825e-12\n",
                        "Converged in 4 iterations in 0.0042 seconds.\n",
                        "Numba compilation initiated, parallel=False, cache=True.\n",
                        "/Users/jinningwang/.andes/pycode/AC8B.py:98: RuntimeWarning: invalid value encountered in sqrt\n",
                        "  return (array([[FEX_y*INT_y - vf0], [-FEX_y + select([less_equal(IN, 0),less_equal(IN, 0.433),less_equal(IN, 0.75),less_equal(IN, 1),greater(IN, 1)], [ones_like(IN),1 - 0.577*IN,sqrt(0.75 - IN**2),1.732 - 1.732*IN,zeros_like(IN)], default=nan)], [-IN*INT_y + KC*XadIfd]]))\n",
                        "/Users/jinningwang/.andes/pycode/AC8B.py:101: RuntimeWarning: invalid value encountered in sqrt\n",
                        "  return (array([[FEX_y, INT_y, 0], [0, -1, select([less_equal(IN, 0),less_equal(IN, 0.433),less_equal(IN, 0.75),less_equal(IN, 1),full(IN.shape,True)], [zeros_like(IN),-0.577*ones_like(IN),-IN/sqrt(0.75 - IN**2),-1.732*ones_like(IN),zeros_like(IN)], default=nan)], [-IN, 0, -INT_y]]))\n",
                        "Initialization for dynamics completed in 14.8766 seconds.\n",
                        "Initialization was successful.\n"
                    ]
                },
                {
                    "data": {
                        "text/plain": [
                            "True"
                        ]
                    },
                    "execution_count": 10,
                    "metadata": {},
                    "output_type": "execute_result"
                }
            ],
            "source": [
                "ss.PFlow.run()"
            ]
        },
        {
            "cell_type": "code",
            "execution_count": 11,
            "metadata": {
                "execution": {
                    "iopub.execute_input": "2021-09-26T22:41:52.442840Z",
                    "iopub.status.busy": "2021-09-26T22:41:52.442389Z",
                    "iopub.status.idle": "2021-09-26T22:41:56.170885Z",
                    "shell.execute_reply": "2021-09-26T22:41:56.171492Z"
                },
                "scrolled": true
            },
            "outputs": [
                {
                    "name": "stderr",
                    "output_type": "stream",
                    "text": [
                        "\n",
                        "-> Time Domain Simulation Summary:\n",
                        "Sparse Solver: KLU\n",
                        "Simulation time: 0.0-20 s.\n",
                        "Fixed step size: h=33.33 ms. Shrink if not converged.\n"
                    ]
                },
                {
                    "name": "stdout",
                    "output_type": "stream",
                    "text": [
                        "<Toggle Toggle_1>: Line.Line_1 status changed to 0 at t=1.0 sec.    \n",
                        "<Toggle Toggle_2>: Line.Line_1 status changed to 1 at t=1.1 sec.    \n",
                        "100%|████████████████████████████████| 100/100 [00:01<00:00, 74.94%/s]"
                    ]
                },
                {
                    "name": "stderr",
                    "output_type": "stream",
                    "text": [
                        "Simulation completed in 1.3348 seconds.\n"
                    ]
                },
                {
                    "name": "stdout",
                    "output_type": "stream",
                    "text": [
                        "\n"
                    ]
                },
                {
                    "data": {
                        "text/plain": [
                            "True"
                        ]
                    },
                    "execution_count": 11,
                    "metadata": {},
                    "output_type": "execute_result"
                }
            ],
            "source": [
                "ss.TDS.config.tf = 20\n",
                "ss.TDS.run()"
            ]
        },
        {
            "cell_type": "code",
            "execution_count": 12,
            "metadata": {
                "execution": {
                    "iopub.execute_input": "2021-09-26T22:41:56.174327Z",
                    "iopub.status.busy": "2021-09-26T22:41:56.173526Z",
                    "iopub.status.idle": "2021-09-26T22:41:56.179960Z",
                    "shell.execute_reply": "2021-09-26T22:41:56.179271Z"
                }
            },
            "outputs": [
                {
                    "data": {
                        "text/plain": [
                            "0"
                        ]
                    },
                    "execution_count": 12,
                    "metadata": {},
                    "output_type": "execute_result"
                }
            ],
            "source": [
                "ss.exit_code"
            ]
        },
        {
            "cell_type": "code",
            "execution_count": 13,
            "metadata": {
                "execution": {
                    "iopub.execute_input": "2021-09-26T22:41:56.186528Z",
                    "iopub.status.busy": "2021-09-26T22:41:56.186073Z",
                    "iopub.status.idle": "2021-09-26T22:41:56.995950Z",
                    "shell.execute_reply": "2021-09-26T22:41:56.996561Z"
                }
            },
            "outputs": [
                {
                    "data": {
                        "image/png": "[encoded data removed]",
                        "text/plain": [
                            "<Figure size 600x400 with 1 Axes>"
                        ]
                    },
                    "metadata": {
                        "needs_background": "light"
                    },
                    "output_type": "display_data"
                },
                {
                    "data": {
                        "image/png": "[encoded data removed]",
                        "text/plain": [
                            "<Figure size 600x400 with 1 Axes>"
                        ]
                    },
                    "metadata": {
                        "needs_background": "light"
                    },
                    "output_type": "display_data"
                },
                {
                    "data": {
                        "text/plain": [
                            "(<Figure size 600x400 with 1 Axes>, <AxesSubplot:xlabel='Time [s]'>)"
                        ]
                    },
                    "execution_count": 13,
                    "metadata": {},
                    "output_type": "execute_result"
                }
            ],
            "source": [
                "ss.TDS.plt.plot(ss.GAST.pout)\n",
                "ss.TDS.plt.plot(ss.GENROU.tm,\n",
                "                a=(2,3,4))"
            ]
        },
        {
            "cell_type": "markdown",
            "metadata": {},
            "source": [
                "## Cleanup"
            ]
        },
        {
            "cell_type": "code",
            "execution_count": 14,
            "metadata": {
                "execution": {
                    "iopub.execute_input": "2021-09-26T22:41:57.710348Z",
                    "iopub.status.busy": "2021-09-26T22:41:57.709278Z",
                    "iopub.status.idle": "2021-09-26T22:41:58.781477Z",
                    "shell.execute_reply": "2021-09-26T22:41:58.781216Z"
                }
            },
            "outputs": [
                {
                    "name": "stdout",
                    "output_type": "stream",
                    "text": [
                        "\r\n",
                        "    _           _         | Version 1.5.0.post11.dev0+g5f397e0b\r\n",
                        "   /_\\  _ _  __| |___ ___ | Python 3.7.10 on Darwin, 10/22/2021 04:45:47 PM\r\n",
                        "  / _ \\| ' \\/ _` / -_|_-< | \r\n",
                        " /_/ \\_\\_||_\\__,_\\___/__/ | This program comes with ABSOLUTELY NO WARRANTY.\r\n",
                        "\r\n",
                        "No output file found in the working directory.\r\n"
                    ]
                }
            ],
            "source": [
                "!andes misc -C"
            ]
        }
    ],
    "metadata": {
        "hide_input": false,
        "interpreter": {
            "hash": "b8c542af61804583455bb3cc02c5acff1b7eab71b36b048085e6e502c5a0f30d"
        },
        "kernelspec": {
            "display_name": "Python 3 (ipykernel)",
            "language": "python",
            "name": "python3"
        },
        "language_info": {
            "codemirror_mode": {
                "name": "ipython",
                "version": 3
            },
            "file_extension": ".py",
            "mimetype": "text/x-python",
            "name": "python",
            "nbconvert_exporter": "python",
            "pygments_lexer": "ipython3",
            "version": "3.7.10"
        },
        "toc": {
            "base_numbering": 1,
            "nav_menu": {},
            "number_sections": true,
            "sideBar": true,
            "skip_h1_title": false,
            "title_cell": "Table of Contents",
            "title_sidebar": "Contents",
            "toc_cell": false,
            "toc_position": {},
            "toc_section_display": true,
            "toc_window_display": false
        },
        "varInspector": {
            "cols": {
                "lenName": 16,
                "lenType": 16,
                "lenVar": 40
            },
            "kernels_config": {
                "python": {
                    "delete_cmd_postfix": "",
                    "delete_cmd_prefix": "del ",
                    "library": "var_list.py",
                    "varRefreshCmd": "print(var_dic_list())"
                },
                "r": {
                    "delete_cmd_postfix": ") ",
                    "delete_cmd_prefix": "rm(",
                    "library": "var_list.r",
                    "varRefreshCmd": "cat(var_dic_list()) "
                }
            },
            "types_to_exclude": [
                "module",
                "function",
                "builtin_function_or_method",
                "instance",
                "_Feature"
            ],
            "window_display": false
        }
    },
    "nbformat": 4,
    "nbformat_minor": 2
}