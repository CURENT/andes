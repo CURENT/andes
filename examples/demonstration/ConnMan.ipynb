{
 "cells": [
  {
   "cell_type": "markdown",
   "metadata": {},
   "source": [
    "# Connectivity Manager"
   ]
  },
  {
   "cell_type": "markdown",
   "metadata": {},
   "source": [
    "In version 1.9.3, `ConnMan` is introduced to manage the bus related connectivity changes.\n",
    "\n",
    "It is an attribute `conn` of the `System` instance."
   ]
  },
  {
   "cell_type": "code",
   "execution_count": 1,
   "metadata": {},
   "outputs": [],
   "source": [
    "import andes"
   ]
  },
  {
   "cell_type": "code",
   "execution_count": 2,
   "metadata": {},
   "outputs": [],
   "source": [
    "andes.config_logger(stream_level=20)"
   ]
  },
  {
   "cell_type": "markdown",
   "metadata": {},
   "source": [
    "## Scenario 1\n",
    "\n",
    "For buses that are turned off by case file, the connectivity is updated in the `System.setup()`.\n",
    "\n",
    "We can see that the connected devices to off-line buses are turned off."
   ]
  },
  {
   "cell_type": "code",
   "execution_count": 3,
   "metadata": {},
   "outputs": [
    {
     "name": "stderr",
     "output_type": "stream",
     "text": [
      "Working directory: \"/Users/jinningwang/work/andes/examples/demonstration\"\n",
      "> Loaded generated Python code in \"/Users/jinningwang/.andes/pycode\".\n",
      "Generated code for <PQ> is stale.\n",
      "Numerical code generation (rapid incremental mode) started...\n"
     ]
    },
    {
     "name": "stdout",
     "output_type": "stream",
     "text": [
      "Generating code for 1 models on 12 processes.\n"
     ]
    },
    {
     "name": "stderr",
     "output_type": "stream",
     "text": [
      "Saved generated pycode to \"/Users/jinningwang/.andes/pycode\"\n",
      "> Reloaded generated Python code of module \"pycode\".\n",
      "Generated numerical code for 1 models in 0.1019 seconds.\n",
      "Parsing input file \"/Users/jinningwang/work/andes/andes/cases/ieee14/ieee14_conn.xlsx\"...\n",
      "Input file parsed in 0.2000 seconds.\n",
      "Entering connectivity update.\n",
      "Following bus(es) are turned off: [15]\n",
      "-> System connectivity update results:\n",
      "In <ACLine>, turn off ['Line_21']\n",
      "In <StaticGen>, turn off [6]\n",
      "In <StaticLoad>, turn off ['PQ_12']\n",
      "In <StaticShunt>, turn off ['Shunt_3']\n",
      "-> System connectivity check results:\n",
      "  1 islanded bus detected.\n",
      "  System is interconnected.\n",
      "  Each island has a slack bus correctly defined and enabled.\n",
      "System internal structure set up in 0.0207 seconds.\n"
     ]
    }
   ],
   "source": [
    "ss = andes.load(andes.get_case('ieee14/ieee14_conn.xlsx'),\n",
    "                setup=True, no_output=True, default_config=True)"
   ]
  },
  {
   "cell_type": "code",
   "execution_count": 4,
   "metadata": {},
   "outputs": [
    {
     "name": "stderr",
     "output_type": "stream",
     "text": [
      "-> System connectivity check results:\n",
      "  1 islanded bus detected.\n",
      "  System is interconnected.\n",
      "  Each island has a slack bus correctly defined and enabled.\n",
      "\n",
      "-> Power flow calculation\n",
      "           Numba: Off\n",
      "   Sparse solver: KLU\n",
      " Solution method: NR method\n",
      "Power flow initialized in 0.0109 seconds.\n",
      "0: |F(x)| = 0.5605182134\n",
      "1: |F(x)| = 0.006202200332\n",
      "2: |F(x)| = 5.819382825e-06\n",
      "3: |F(x)| = 6.964193111e-12\n",
      "Converged in 4 iterations in 0.0106 seconds.\n"
     ]
    }
   ],
   "source": [
    "_ = ss.PFlow.run()"
   ]
  },
  {
   "cell_type": "markdown",
   "metadata": {},
   "source": [
    "As expected, there is no power injection from the turned off devices.\n",
    "\n",
    "Note: `Line.a1.e` is the active power injection at the from_bus (`bus1`)."
   ]
  },
  {
   "cell_type": "code",
   "execution_count": 5,
   "metadata": {},
   "outputs": [
    {
     "data": {
      "text/plain": [
       "array([0.])"
      ]
     },
     "execution_count": 5,
     "metadata": {},
     "output_type": "execute_result"
    }
   ],
   "source": [
    "ss.Line.get(src='a1', attr='e', idx=['Line_21'])"
   ]
  },
  {
   "cell_type": "markdown",
   "metadata": {},
   "source": [
    "`PV.a.e` is the active power injection at the connected bus."
   ]
  },
  {
   "cell_type": "code",
   "execution_count": 6,
   "metadata": {},
   "outputs": [
    {
     "data": {
      "text/plain": [
       "array([-0.])"
      ]
     },
     "execution_count": 6,
     "metadata": {},
     "output_type": "execute_result"
    }
   ],
   "source": [
    "ss.PV.get(src='a', attr='e', idx=[6])"
   ]
  },
  {
   "cell_type": "markdown",
   "metadata": {},
   "source": [
    "Similarly, `PQ.a.e` is the active power injection at the connected bus."
   ]
  },
  {
   "cell_type": "code",
   "execution_count": 7,
   "metadata": {},
   "outputs": [
    {
     "data": {
      "text/plain": [
       "array([0.])"
      ]
     },
     "execution_count": 7,
     "metadata": {},
     "output_type": "execute_result"
    }
   ],
   "source": [
    "ss.PQ.get(src='a', attr='e', idx=['PQ_12'])"
   ]
  },
  {
   "cell_type": "code",
   "execution_count": 8,
   "metadata": {},
   "outputs": [
    {
     "name": "stderr",
     "output_type": "stream",
     "text": [
      "Initialization for dynamics completed in 0.0181 seconds.\n",
      "Initialization was successful.\n"
     ]
    },
    {
     "data": {
      "application/vnd.jupyter.widget-view+json": {
       "model_id": "d2b6e221b5034f9a914bd9fd1bbc5c70",
       "version_major": 2,
       "version_minor": 0
      },
      "text/plain": [
       "  0%|          | 0/100 [00:00<?, ?%/s]"
      ]
     },
     "metadata": {},
     "output_type": "display_data"
    },
    {
     "name": "stderr",
     "output_type": "stream",
     "text": [
      "Simulation to t=20.00 sec completed in 0.2641 seconds.\n"
     ]
    },
    {
     "data": {
      "text/plain": [
       "True"
      ]
     },
     "execution_count": 8,
     "metadata": {},
     "output_type": "execute_result"
    }
   ],
   "source": [
    "ss.TDS.run()"
   ]
  },
  {
   "cell_type": "markdown",
   "metadata": {},
   "source": [
    "Turned off devices will not inject power in TDS."
   ]
  },
  {
   "cell_type": "code",
   "execution_count": 9,
   "metadata": {},
   "outputs": [
    {
     "data": {
      "text/plain": [
       "array([0.])"
      ]
     },
     "execution_count": 9,
     "metadata": {},
     "output_type": "execute_result"
    }
   ],
   "source": [
    "ss.Line.get(src='a1', attr='e', idx=['Line_21'])"
   ]
  },
  {
   "cell_type": "markdown",
   "metadata": {},
   "source": [
    "## Scenario 2\n",
    "\n",
    "Between successful PFlow solve and TDS initialization, turn off bus(es)."
   ]
  },
  {
   "cell_type": "markdown",
   "metadata": {},
   "source": [
    "We load a case but do not set it up."
   ]
  },
  {
   "cell_type": "code",
   "execution_count": 10,
   "metadata": {},
   "outputs": [
    {
     "name": "stderr",
     "output_type": "stream",
     "text": [
      "Working directory: \"/Users/jinningwang/work/andes/examples/demonstration\"\n",
      "> Reloaded generated Python code of module \"pycode\".\n",
      "Generated code for <PQ> is stale.\n",
      "Numerical code generation (rapid incremental mode) started...\n"
     ]
    },
    {
     "name": "stdout",
     "output_type": "stream",
     "text": [
      "Generating code for 1 models on 12 processes.\n"
     ]
    },
    {
     "name": "stderr",
     "output_type": "stream",
     "text": [
      "Saved generated pycode to \"/Users/jinningwang/.andes/pycode\"\n",
      "> Reloaded generated Python code of module \"pycode\".\n",
      "Generated numerical code for 1 models in 0.0971 seconds.\n",
      "Parsing input file \"/Users/jinningwang/work/andes/andes/cases/ieee14/ieee14_conn.xlsx\"...\n",
      "Input file parsed in 0.0676 seconds.\n"
     ]
    }
   ],
   "source": [
    "ss = andes.load(andes.get_case('ieee14/ieee14_conn.xlsx'),\n",
    "                setup=False, no_output=True, default_config=True)"
   ]
  },
  {
   "cell_type": "markdown",
   "metadata": {},
   "source": [
    "First, let's turn on the bus manually.\n",
    "\n",
    "> Note: it will ***not*** touch the connectivity manager to update bus online status before system setup."
   ]
  },
  {
   "cell_type": "code",
   "execution_count": 11,
   "metadata": {},
   "outputs": [],
   "source": [
    "ss.Bus.set(src='u', attr='v', idx=15, value=1)"
   ]
  },
  {
   "cell_type": "code",
   "execution_count": 12,
   "metadata": {},
   "outputs": [
    {
     "name": "stderr",
     "output_type": "stream",
     "text": [
      "System internal structure set up in 0.0202 seconds.\n"
     ]
    },
    {
     "data": {
      "text/plain": [
       "True"
      ]
     },
     "execution_count": 12,
     "metadata": {},
     "output_type": "execute_result"
    }
   ],
   "source": [
    "ss.setup()"
   ]
  },
  {
   "cell_type": "code",
   "execution_count": 13,
   "metadata": {},
   "outputs": [
    {
     "name": "stderr",
     "output_type": "stream",
     "text": [
      "-> System connectivity check results:\n",
      "  No islanded bus detected.\n",
      "  System is interconnected.\n",
      "  Each island has a slack bus correctly defined and enabled.\n",
      "\n",
      "-> Power flow calculation\n",
      "           Numba: Off\n",
      "   Sparse solver: KLU\n",
      " Solution method: NR method\n",
      "Power flow initialized in 0.0179 seconds.\n",
      "0: |F(x)| = 0.7800160444\n",
      "1: |F(x)| = 0.03157368515\n",
      "2: |F(x)| = 4.343734372e-05\n",
      "3: |F(x)| = 8.270892304e-11\n",
      "Converged in 4 iterations in 0.0045 seconds.\n"
     ]
    },
    {
     "data": {
      "text/plain": [
       "True"
      ]
     },
     "execution_count": 13,
     "metadata": {},
     "output_type": "execute_result"
    }
   ],
   "source": [
    "ss.PFlow.run()"
   ]
  },
  {
   "cell_type": "markdown",
   "metadata": {},
   "source": [
    "Next, let's make a change on the parameter `Bus.name`."
   ]
  },
  {
   "cell_type": "code",
   "execution_count": 14,
   "metadata": {},
   "outputs": [],
   "source": [
    "ss.Bus.set(src='name', attr='v', idx=15, value='BUSTEST')"
   ]
  },
  {
   "cell_type": "markdown",
   "metadata": {},
   "source": [
    "Such a change will not set the connectivity action flag."
   ]
  },
  {
   "cell_type": "code",
   "execution_count": 15,
   "metadata": {},
   "outputs": [
    {
     "data": {
      "text/plain": [
       "False"
      ]
     },
     "execution_count": 15,
     "metadata": {},
     "output_type": "execute_result"
    }
   ],
   "source": [
    "ss.conn.is_needed"
   ]
  },
  {
   "cell_type": "markdown",
   "metadata": {},
   "source": [
    "In contrast, if changes are made to `Bus.u.v`, the connectivity action flag is set."
   ]
  },
  {
   "cell_type": "code",
   "execution_count": 16,
   "metadata": {},
   "outputs": [
    {
     "name": "stderr",
     "output_type": "stream",
     "text": [
      "Bus turned off: [15]\n",
      "Bus connectivity is touched, resolve PFlow before running EIG or TDS!\n"
     ]
    },
    {
     "data": {
      "text/plain": [
       "True"
      ]
     },
     "execution_count": 16,
     "metadata": {},
     "output_type": "execute_result"
    }
   ],
   "source": [
    "ss.Bus.set(src='u', attr='v', idx=15, value=0)\n",
    "ss.conn.is_needed"
   ]
  },
  {
   "cell_type": "markdown",
   "metadata": {},
   "source": [
    "Remember to run the `PFlow` again if updates are made to the bus online status,\n",
    "since this will reset the `PFlow` convergence flag."
   ]
  },
  {
   "cell_type": "code",
   "execution_count": 17,
   "metadata": {},
   "outputs": [
    {
     "data": {
      "text/plain": [
       "False"
      ]
     },
     "execution_count": 17,
     "metadata": {},
     "output_type": "execute_result"
    }
   ],
   "source": [
    "ss.PFlow.converged"
   ]
  },
  {
   "cell_type": "code",
   "execution_count": 18,
   "metadata": {},
   "outputs": [
    {
     "name": "stderr",
     "output_type": "stream",
     "text": [
      "-> System connectivity check results:\n",
      "  No islanded bus detected.\n",
      "  System is interconnected.\n",
      "  Each island has a slack bus correctly defined and enabled.\n",
      "\n",
      "-> Power flow calculation\n",
      "           Numba: Off\n",
      "   Sparse solver: KLU\n",
      " Solution method: NR method\n",
      "Entering connectivity update.\n",
      "Following bus(es) are turned off: [15]\n",
      "-> System connectivity update results:\n",
      "In <ACLine>, turn off ['Line_21']\n",
      "In <StaticGen>, turn off [6]\n",
      "In <StaticLoad>, turn off ['PQ_12']\n",
      "In <StaticShunt>, turn off ['Shunt_3']\n",
      "-> System connectivity check results:\n",
      "  1 islanded bus detected.\n",
      "  System is interconnected.\n",
      "  Each island has a slack bus correctly defined and enabled.\n",
      "Power flow initialized in 0.0051 seconds.\n",
      "0: |F(x)| = 0.5605182134\n",
      "1: |F(x)| = 0.006202200332\n",
      "2: |F(x)| = 5.819382825e-06\n",
      "3: |F(x)| = 6.964193111e-12\n",
      "Converged in 4 iterations in 0.0096 seconds.\n"
     ]
    },
    {
     "data": {
      "text/plain": [
       "True"
      ]
     },
     "execution_count": 18,
     "metadata": {},
     "output_type": "execute_result"
    }
   ],
   "source": [
    "ss.PFlow.run()"
   ]
  },
  {
   "cell_type": "code",
   "execution_count": 19,
   "metadata": {},
   "outputs": [
    {
     "name": "stderr",
     "output_type": "stream",
     "text": [
      "Initialization for dynamics completed in 0.0208 seconds.\n",
      "Initialization was successful.\n",
      "\n",
      "-> Eigenvalue Analysis:\n",
      "4 states are associated with zero time constants. \n",
      "  Positive       0\n",
      "  Zeros          1\n",
      "  Negative      62\n",
      "Eigenvalue analysis finished in 0.0017 seconds.\n"
     ]
    },
    {
     "data": {
      "text/plain": [
       "True"
      ]
     },
     "execution_count": 19,
     "metadata": {},
     "output_type": "execute_result"
    }
   ],
   "source": [
    "ss.EIG.run()"
   ]
  },
  {
   "cell_type": "code",
   "execution_count": 20,
   "metadata": {},
   "outputs": [
    {
     "name": "stderr",
     "output_type": "stream",
     "text": [
      "\n",
      "-> Time Domain Simulation Summary:\n",
      "Sparse Solver: KLU\n",
      "Simulation time: 0.0-20.0 s.\n",
      "Fixed step size: h=33.33 ms. Shrink if not converged.\n"
     ]
    },
    {
     "data": {
      "application/vnd.jupyter.widget-view+json": {
       "model_id": "196c92bd10734959b35aa9a27743f2d0",
       "version_major": 2,
       "version_minor": 0
      },
      "text/plain": [
       "  0%|          | 0/100 [00:00<?, ?%/s]"
      ]
     },
     "metadata": {},
     "output_type": "display_data"
    },
    {
     "name": "stderr",
     "output_type": "stream",
     "text": [
      "Simulation to t=20.00 sec completed in 0.2661 seconds.\n"
     ]
    },
    {
     "data": {
      "text/plain": [
       "True"
      ]
     },
     "execution_count": 20,
     "metadata": {},
     "output_type": "execute_result"
    }
   ],
   "source": [
    "ss.TDS.run()"
   ]
  },
  {
   "cell_type": "markdown",
   "metadata": {},
   "source": [
    "> **NOTE:** Turn on a bus will not automatically turn on the connected devices."
   ]
  },
  {
   "cell_type": "markdown",
   "metadata": {},
   "source": [
    "There are two cases that are not supported yet:\n",
    "\n",
    "1. It is not supported to turn on a bus after successfully setting up a system.\n",
    "1. It is not supported to turn on or off a bus after TDS initialization."
   ]
  }
 ],
 "metadata": {
  "kernelspec": {
   "display_name": "ams",
   "language": "python",
   "name": "python3"
  },
  "language_info": {
   "codemirror_mode": {
    "name": "ipython",
    "version": 3
   },
   "file_extension": ".py",
   "mimetype": "text/x-python",
   "name": "python",
   "nbconvert_exporter": "python",
   "pygments_lexer": "ipython3",
   "version": "3.10.0"
  }
 },
 "nbformat": 4,
 "nbformat_minor": 2
}
