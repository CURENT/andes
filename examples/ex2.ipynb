{
    "cells": [
        {
            "cell_type": "markdown",
            "metadata": {},
            "source": [
                "# Working with Data\n",
                "\n",
                "This example shows how to work with the data of a loaded test system, including parameters and variables."
            ]
        },
        {
            "cell_type": "code",
            "execution_count": 1,
            "metadata": {
                "ExecuteTime": {
                    "end_time": "2021-03-19T01:57:43.135158Z",
                    "start_time": "2021-03-19T01:57:42.407900Z"
                },
                "execution": {
                    "iopub.execute_input": "2021-09-26T22:41:51.026526Z",
                    "iopub.status.busy": "2021-09-26T22:41:51.026141Z",
                    "iopub.status.idle": "2021-09-26T22:41:51.758845Z",
                    "shell.execute_reply": "2021-09-26T22:41:51.758473Z"
                }
            },
            "outputs": [],
            "source": [
                "import andes\n",
                "from andes.utils.paths import get_case\n",
                "\n",
                "andes.config_logger()"
            ]
        },
        {
            "cell_type": "markdown",
            "metadata": {},
            "source": [
                "To show all the rows and columns, change the pandas configuration with"
            ]
        },
        {
            "cell_type": "code",
            "execution_count": 2,
            "metadata": {
                "ExecuteTime": {
                    "end_time": "2021-03-19T01:57:43.381726Z",
                    "start_time": "2021-03-19T01:57:43.140307Z"
                },
                "execution": {
                    "iopub.execute_input": "2021-09-26T22:41:51.761987Z",
                    "iopub.status.busy": "2021-09-26T22:41:51.761718Z",
                    "iopub.status.idle": "2021-09-26T22:41:51.965566Z",
                    "shell.execute_reply": "2021-09-26T22:41:51.965217Z"
                }
            },
            "outputs": [],
            "source": [
                "import pandas as pd\n",
                "\n",
                "pd.options.display.max_columns = None\n",
                "pd.options.display.max_rows = None"
            ]
        },
        {
            "cell_type": "markdown",
            "metadata": {},
            "source": [
                "Let's load the Kundur's system."
            ]
        },
        {
            "cell_type": "markdown",
            "metadata": {},
            "source": [
                "## Load System from an ANDES XLSX File\n",
                "\n",
                "The ANDES xlsx file is the best supported format. Other formats can be converted to the xlsx format.\n",
                "\n",
                "See the link below for more about format conversion.\n",
                "https://github.com/cuihantao/andes/blob/master/README.md#format-converter"
            ]
        },
        {
            "cell_type": "markdown",
            "metadata": {},
            "source": [
                "As previously shown, test cases can be loaded with ``andes.run()``:"
            ]
        },
        {
            "cell_type": "code",
            "execution_count": 3,
            "metadata": {
                "ExecuteTime": {
                    "end_time": "2021-03-19T01:57:43.965479Z",
                    "start_time": "2021-03-19T01:57:43.383941Z"
                },
                "execution": {
                    "iopub.execute_input": "2021-09-26T22:41:51.968113Z",
                    "iopub.status.busy": "2021-09-26T22:41:51.967833Z",
                    "iopub.status.idle": "2021-09-26T22:41:52.429156Z",
                    "shell.execute_reply": "2021-09-26T22:41:52.429542Z"
                }
            },
            "outputs": [
                {
                    "name": "stderr",
                    "output_type": "stream",
                    "text": [
                        "Working directory: \"/home/hacui/repos/andes/examples\"\n",
                        "> Loaded generated Python code in \"/home/hacui/.andes/pycode\".\n",
                        "Parsing input file \"/home/hacui/repos/andes/andes/cases/kundur/kundur_full.xlsx\"...\n",
                        "Input file parsed in 0.1394 seconds.\n",
                        "System internal structure set up in 0.0319 seconds.\n",
                        "-> System connectivity check results:\n",
                        "  No islanded bus detected.\n",
                        "  System is interconnected.\n",
                        "  Each island has a slack bus correctly defined and enabled.\n",
                        "\n",
                        "-> Power flow calculation\n",
                        "           Numba: Off\n",
                        "   Sparse solver: KLU\n",
                        " Solution method: NR method\n",
                        "Power flow initialized in 0.0036 seconds.\n",
                        "0: |F(x)| = 14.9282832\n",
                        "1: |F(x)| = 3.608627841\n",
                        "2: |F(x)| = 0.1701107882\n",
                        "3: |F(x)| = 0.002038626956\n",
                        "4: |F(x)| = 3.745104027e-07\n",
                        "Converged in 5 iterations in 0.0074 seconds.\n",
                        "Report saved to \"kundur_full_out.txt\" in 0.0010 seconds.\n"
                    ]
                },
                {
                    "name": "stdout",
                    "output_type": "stream",
                    "text": [
                        "-> Single process finished in 0.3582 seconds.\n"
                    ]
                }
            ],
            "source": [
                "ss = andes.run(get_case('kundur/kundur_full.xlsx'),\n",
                "               default_config=True)  # one can remove `default_config=True` to use custom config file"
            ]
        },
        {
            "cell_type": "markdown",
            "metadata": {},
            "source": [
                "Alternatively, one can load a test case _without setting up_ using `andes.load(..., setup=False)`. Note that `setup=False` option.\n",
                "It is useful to apply parameter changes to an existing test case."
            ]
        },
        {
            "cell_type": "code",
            "execution_count": 4,
            "metadata": {
                "ExecuteTime": {
                    "end_time": "2021-03-19T01:57:44.168248Z",
                    "start_time": "2021-03-19T01:57:43.970545Z"
                },
                "execution": {
                    "iopub.execute_input": "2021-09-26T22:41:52.433901Z",
                    "iopub.status.busy": "2021-09-26T22:41:52.431622Z",
                    "iopub.status.idle": "2021-09-26T22:41:52.626472Z",
                    "shell.execute_reply": "2021-09-26T22:41:52.626800Z"
                }
            },
            "outputs": [
                {
                    "name": "stderr",
                    "output_type": "stream",
                    "text": [
                        "Working directory: \"/home/hacui/repos/andes/examples\"\n",
                        "> Reloaded generated Python code of module \"pycode\".\n",
                        "Parsing input file \"/home/hacui/repos/andes/andes/cases/kundur/kundur_full.xlsx\"...\n",
                        "Input file parsed in 0.1263 seconds.\n"
                    ]
                }
            ],
            "source": [
                "ss = andes.load(get_case('kundur/kundur_full.xlsx'), \n",
                "                default_config=True, \n",
                "                setup=False)"
            ]
        },
        {
            "cell_type": "markdown",
            "metadata": {
                "ExecuteTime": {
                    "end_time": "2021-03-18T00:25:32.261166Z",
                    "start_time": "2021-03-18T00:25:32.256088Z"
                }
            },
            "source": [
                "For example, we can toggle the connectivity status `u` of `Line_3` to `0` using"
            ]
        },
        {
            "cell_type": "code",
            "execution_count": 5,
            "metadata": {
                "ExecuteTime": {
                    "end_time": "2021-03-19T01:57:44.176858Z",
                    "start_time": "2021-03-19T01:57:44.173846Z"
                },
                "execution": {
                    "iopub.execute_input": "2021-09-26T22:41:52.628710Z",
                    "iopub.status.busy": "2021-09-26T22:41:52.628330Z",
                    "iopub.status.idle": "2021-09-26T22:41:52.631669Z",
                    "shell.execute_reply": "2021-09-26T22:41:52.632025Z"
                }
            },
            "outputs": [],
            "source": [
                "ss.Line.alter('u', 'Line_3', 0)"
            ]
        },
        {
            "cell_type": "markdown",
            "metadata": {},
            "source": [
                "When done, remember to set up the system before running calculation routines:"
            ]
        },
        {
            "cell_type": "code",
            "execution_count": 6,
            "metadata": {
                "ExecuteTime": {
                    "end_time": "2021-03-19T01:57:44.266523Z",
                    "start_time": "2021-03-19T01:57:44.181450Z"
                },
                "execution": {
                    "iopub.execute_input": "2021-09-26T22:41:52.634009Z",
                    "iopub.status.busy": "2021-09-26T22:41:52.633570Z",
                    "iopub.status.idle": "2021-09-26T22:41:52.723455Z",
                    "shell.execute_reply": "2021-09-26T22:41:52.724002Z"
                }
            },
            "outputs": [
                {
                    "name": "stderr",
                    "output_type": "stream",
                    "text": [
                        "System internal structure set up in 0.0366 seconds.\n",
                        "-> System connectivity check results:\n",
                        "  No islanded bus detected.\n",
                        "  System is interconnected.\n",
                        "  Each island has a slack bus correctly defined and enabled.\n",
                        "\n",
                        "-> Power flow calculation\n",
                        "           Numba: Off\n",
                        "   Sparse solver: KLU\n",
                        " Solution method: NR method\n",
                        "Power flow initialized in 0.0049 seconds.\n",
                        "0: |F(x)| = 14.9282832\n",
                        "1: |F(x)| = 3.579044433\n",
                        "2: |F(x)| = 0.119268955\n",
                        "3: |F(x)| = 0.03278820195\n",
                        "4: |F(x)| = 2.880943096e-05\n",
                        "5: |F(x)| = 3.93747257e-11\n",
                        "Converged in 6 iterations in 0.0122 seconds.\n",
                        "Report saved to \"kundur_full_out.txt\" in 0.0016 seconds.\n"
                    ]
                },
                {
                    "data": {
                        "text/plain": [
                            "True"
                        ]
                    },
                    "execution_count": 6,
                    "metadata": {},
                    "output_type": "execute_result"
                }
            ],
            "source": [
                "ss.setup()\n",
                "\n",
                "ss.PFlow.run()"
            ]
        },
        {
            "cell_type": "markdown",
            "metadata": {},
            "source": [
                "After setting up the system, adding or removing devices are not yet allowed."
            ]
        },
        {
            "cell_type": "markdown",
            "metadata": {
                "ExecuteTime": {
                    "end_time": "2021-03-18T00:28:42.135119Z",
                    "start_time": "2021-03-18T00:28:42.128972Z"
                }
            },
            "source": [
                "## Load System from PSS/E RAW and DYR Files\n",
                "\n",
                "ANDES supports loading systems from PSS/E RAW and DYR files.\n",
                "\n",
                "The PSS/E v32 raw format is best supported.\n",
                "\n",
                "Note that this feature is experimental. We try out best to support this format, but the compatibility is not guaranteed."
            ]
        },
        {
            "cell_type": "code",
            "execution_count": 7,
            "metadata": {
                "ExecuteTime": {
                    "end_time": "2021-03-19T01:57:44.274794Z",
                    "start_time": "2021-03-19T01:57:44.271077Z"
                },
                "execution": {
                    "iopub.execute_input": "2021-09-26T22:41:52.727707Z",
                    "iopub.status.busy": "2021-09-26T22:41:52.726149Z",
                    "iopub.status.idle": "2021-09-26T22:41:52.731861Z",
                    "shell.execute_reply": "2021-09-26T22:41:52.732410Z"
                }
            },
            "outputs": [],
            "source": [
                "raw_path = get_case('kundur/kundur.raw')\n",
                "dyr_path = get_case('kundur/kundur_full.dyr')"
            ]
        },
        {
            "cell_type": "markdown",
            "metadata": {},
            "source": [
                "The raw file is passed to the positional argument, whereas the dyr file is passed to `addfile`."
            ]
        },
        {
            "cell_type": "code",
            "execution_count": 8,
            "metadata": {
                "ExecuteTime": {
                    "end_time": "2021-03-19T01:57:44.606632Z",
                    "start_time": "2021-03-19T01:57:44.277112Z"
                },
                "execution": {
                    "iopub.execute_input": "2021-09-26T22:41:52.735486Z",
                    "iopub.status.busy": "2021-09-26T22:41:52.734401Z",
                    "iopub.status.idle": "2021-09-26T22:41:53.107538Z",
                    "shell.execute_reply": "2021-09-26T22:41:53.106943Z"
                }
            },
            "outputs": [
                {
                    "name": "stderr",
                    "output_type": "stream",
                    "text": [
                        "Working directory: \"/home/hacui/repos/andes/examples\"\n",
                        "> Reloaded generated Python code of module \"pycode\".\n",
                        "Parsing input file \"/home/hacui/repos/andes/andes/cases/kundur/kundur.raw\"...\n",
                        "  MODIFIED KUNDUR'S TWO-AREA TEST SYSTEM, DISTRIBUTED WITH ANDES\n",
                        "  SEE THE BOOK \"POWER SYSTEM STABILITY AND CONTROL\" FOR ORIGINAL DATA\n",
                        "Input file parsed in 0.0047 seconds.\n",
                        "Parsing additional file \"/home/hacui/repos/andes/andes/cases/kundur/kundur_full.dyr\"...\n",
                        "Addfile parsed in 0.0912 seconds.\n",
                        "System internal structure set up in 0.0310 seconds.\n",
                        "-> System connectivity check results:\n",
                        "  No islanded bus detected.\n",
                        "  System is interconnected.\n",
                        "  Each island has a slack bus correctly defined and enabled.\n",
                        "\n",
                        "-> Power flow calculation\n",
                        "           Numba: Off\n",
                        "   Sparse solver: KLU\n",
                        " Solution method: NR method\n",
                        "Power flow initialized in 0.0037 seconds.\n",
                        "0: |F(x)| = 3.175850023\n",
                        "1: |F(x)| = 3.176155228e-08\n",
                        "Converged in 2 iterations in 0.0044 seconds.\n",
                        "Report saved to \"kundur_out.txt\" in 0.0006 seconds.\n"
                    ]
                },
                {
                    "name": "stdout",
                    "output_type": "stream",
                    "text": [
                        "-> Single process finished in 0.2371 seconds.\n"
                    ]
                }
            ],
            "source": [
                "ss = andes.run(raw_path, addfile=dyr_path, default_config=True)"
            ]
        },
        {
            "cell_type": "markdown",
            "metadata": {},
            "source": [
                "### Attributes for storing values"
            ]
        },
        {
            "cell_type": "markdown",
            "metadata": {},
            "source": [
                "Parameters are stored as attributes of the model. For example, `ss.GENROU.M`, the machine starting time constant (`2H`), is stored in `ss.GENROU.M`."
            ]
        },
        {
            "cell_type": "code",
            "execution_count": 9,
            "metadata": {
                "ExecuteTime": {
                    "end_time": "2021-03-19T01:57:44.618529Z",
                    "start_time": "2021-03-19T01:57:44.611845Z"
                },
                "execution": {
                    "iopub.execute_input": "2021-09-26T22:41:53.110215Z",
                    "iopub.status.busy": "2021-09-26T22:41:53.109452Z",
                    "iopub.status.idle": "2021-09-26T22:41:53.115421Z",
                    "shell.execute_reply": "2021-09-26T22:41:53.116038Z"
                }
            },
            "outputs": [
                {
                    "data": {
                        "text/plain": [
                            "NumParam: GENROU.M, v=[117.   117.   111.15 111.15], vin=[13.   13.   12.35 12.35]"
                        ]
                    },
                    "execution_count": 9,
                    "metadata": {},
                    "output_type": "execute_result"
                }
            ],
            "source": [
                "ss.GENROU.M"
            ]
        },
        {
            "cell_type": "markdown",
            "metadata": {},
            "source": [
                "It is an instance of `NumParam`, which contains fields `v` for the values after converting to system-base per unit values."
            ]
        },
        {
            "cell_type": "code",
            "execution_count": 10,
            "metadata": {
                "ExecuteTime": {
                    "end_time": "2021-03-19T01:57:44.629108Z",
                    "start_time": "2021-03-19T01:57:44.623058Z"
                },
                "execution": {
                    "iopub.execute_input": "2021-09-26T22:41:53.120712Z",
                    "iopub.status.busy": "2021-09-26T22:41:53.117859Z",
                    "iopub.status.idle": "2021-09-26T22:41:53.122771Z",
                    "shell.execute_reply": "2021-09-26T22:41:53.123377Z"
                }
            },
            "outputs": [
                {
                    "data": {
                        "text/plain": [
                            "array([117.  , 117.  , 111.15, 111.15])"
                        ]
                    },
                    "execution_count": 10,
                    "metadata": {},
                    "output_type": "execute_result"
                }
            ],
            "source": [
                "ss.GENROU.M.v"
            ]
        },
        {
            "cell_type": "markdown",
            "metadata": {},
            "source": [
                "And field `vin` is for the original input data."
            ]
        },
        {
            "cell_type": "code",
            "execution_count": 11,
            "metadata": {
                "ExecuteTime": {
                    "end_time": "2021-03-19T01:57:44.639730Z",
                    "start_time": "2021-03-19T01:57:44.633864Z"
                },
                "execution": {
                    "iopub.execute_input": "2021-09-26T22:41:53.126169Z",
                    "iopub.status.busy": "2021-09-26T22:41:53.125381Z",
                    "iopub.status.idle": "2021-09-26T22:41:53.131834Z",
                    "shell.execute_reply": "2021-09-26T22:41:53.132558Z"
                }
            },
            "outputs": [
                {
                    "data": {
                        "text/plain": [
                            "array([13.  , 13.  , 12.35, 12.35])"
                        ]
                    },
                    "execution_count": 11,
                    "metadata": {},
                    "output_type": "execute_result"
                }
            ],
            "source": [
                "ss.GENROU.M.vin"
            ]
        },
        {
            "cell_type": "markdown",
            "metadata": {},
            "source": [
                "### Tabulated view"
            ]
        },
        {
            "cell_type": "markdown",
            "metadata": {},
            "source": [
                "ANDES provides tabulated **view** of model parameters by using DataFrame. Each model object has an attribute called `cache` for caching the parameter dataframes."
            ]
        },
        {
            "cell_type": "markdown",
            "metadata": {},
            "source": [
                "The original parameters from the input file are stored in `cache.df_in` of the model object. For `GENROU`, do"
            ]
        },
        {
            "cell_type": "code",
            "execution_count": 12,
            "metadata": {
                "ExecuteTime": {
                    "end_time": "2021-03-19T01:57:44.681593Z",
                    "start_time": "2021-03-19T01:57:44.644323Z"
                },
                "execution": {
                    "iopub.execute_input": "2021-09-26T22:41:53.135811Z",
                    "iopub.status.busy": "2021-09-26T22:41:53.134902Z",
                    "iopub.status.idle": "2021-09-26T22:41:53.170616Z",
                    "shell.execute_reply": "2021-09-26T22:41:53.171215Z"
                }
            },
            "outputs": [
                {
                    "data": {
                        "text/html": [
                            "<div>\n",
                            "<style scoped>\n",
                            "    .dataframe tbody tr th:only-of-type {\n",
                            "        vertical-align: middle;\n",
                            "    }\n",
                            "\n",
                            "    .dataframe tbody tr th {\n",
                            "        vertical-align: top;\n",
                            "    }\n",
                            "\n",
                            "    .dataframe thead th {\n",
                            "        text-align: right;\n",
                            "    }\n",
                            "</style>\n",
                            "<table border=\"1\" class=\"dataframe\">\n",
                            "  <thead>\n",
                            "    <tr style=\"text-align: right;\">\n",
                            "      <th></th>\n",
                            "      <th>idx</th>\n",
                            "      <th>u</th>\n",
                            "      <th>name</th>\n",
                            "      <th>bus</th>\n",
                            "      <th>gen</th>\n",
                            "      <th>coi</th>\n",
                            "      <th>coi2</th>\n",
                            "      <th>Sn</th>\n",
                            "      <th>Vn</th>\n",
                            "      <th>fn</th>\n",
                            "      <th>D</th>\n",
                            "      <th>M</th>\n",
                            "      <th>ra</th>\n",
                            "      <th>xl</th>\n",
                            "      <th>xd1</th>\n",
                            "      <th>kp</th>\n",
                            "      <th>kw</th>\n",
                            "      <th>S10</th>\n",
                            "      <th>S12</th>\n",
                            "      <th>gammap</th>\n",
                            "      <th>gammaq</th>\n",
                            "      <th>xd</th>\n",
                            "      <th>xq</th>\n",
                            "      <th>xd2</th>\n",
                            "      <th>xq1</th>\n",
                            "      <th>xq2</th>\n",
                            "      <th>Td10</th>\n",
                            "      <th>Td20</th>\n",
                            "      <th>Tq10</th>\n",
                            "      <th>Tq20</th>\n",
                            "    </tr>\n",
                            "    <tr>\n",
                            "      <th>uid</th>\n",
                            "      <th></th>\n",
                            "      <th></th>\n",
                            "      <th></th>\n",
                            "      <th></th>\n",
                            "      <th></th>\n",
                            "      <th></th>\n",
                            "      <th></th>\n",
                            "      <th></th>\n",
                            "      <th></th>\n",
                            "      <th></th>\n",
                            "      <th></th>\n",
                            "      <th></th>\n",
                            "      <th></th>\n",
                            "      <th></th>\n",
                            "      <th></th>\n",
                            "      <th></th>\n",
                            "      <th></th>\n",
                            "      <th></th>\n",
                            "      <th></th>\n",
                            "      <th></th>\n",
                            "      <th></th>\n",
                            "      <th></th>\n",
                            "      <th></th>\n",
                            "      <th></th>\n",
                            "      <th></th>\n",
                            "      <th></th>\n",
                            "      <th></th>\n",
                            "      <th></th>\n",
                            "      <th></th>\n",
                            "      <th></th>\n",
                            "    </tr>\n",
                            "  </thead>\n",
                            "  <tbody>\n",
                            "    <tr>\n",
                            "      <th>0</th>\n",
                            "      <td>GENROU_1</td>\n",
                            "      <td>1.0</td>\n",
                            "      <td>GENROU_1</td>\n",
                            "      <td>1</td>\n",
                            "      <td>1</td>\n",
                            "      <td>None</td>\n",
                            "      <td>None</td>\n",
                            "      <td>900.0</td>\n",
                            "      <td>20.0</td>\n",
                            "      <td>60.0</td>\n",
                            "      <td>0.0</td>\n",
                            "      <td>13.00</td>\n",
                            "      <td>0.0</td>\n",
                            "      <td>0.06</td>\n",
                            "      <td>0.3</td>\n",
                            "      <td>0.0</td>\n",
                            "      <td>0.0</td>\n",
                            "      <td>0.0</td>\n",
                            "      <td>0.0</td>\n",
                            "      <td>1.0</td>\n",
                            "      <td>1.0</td>\n",
                            "      <td>1.8</td>\n",
                            "      <td>1.7</td>\n",
                            "      <td>0.25</td>\n",
                            "      <td>0.55</td>\n",
                            "      <td>0.25</td>\n",
                            "      <td>8.0</td>\n",
                            "      <td>0.03</td>\n",
                            "      <td>0.4</td>\n",
                            "      <td>0.05</td>\n",
                            "    </tr>\n",
                            "    <tr>\n",
                            "      <th>1</th>\n",
                            "      <td>GENROU_2</td>\n",
                            "      <td>1.0</td>\n",
                            "      <td>GENROU_2</td>\n",
                            "      <td>2</td>\n",
                            "      <td>2</td>\n",
                            "      <td>None</td>\n",
                            "      <td>None</td>\n",
                            "      <td>900.0</td>\n",
                            "      <td>20.0</td>\n",
                            "      <td>60.0</td>\n",
                            "      <td>0.0</td>\n",
                            "      <td>13.00</td>\n",
                            "      <td>0.0</td>\n",
                            "      <td>0.06</td>\n",
                            "      <td>0.3</td>\n",
                            "      <td>0.0</td>\n",
                            "      <td>0.0</td>\n",
                            "      <td>0.0</td>\n",
                            "      <td>0.0</td>\n",
                            "      <td>1.0</td>\n",
                            "      <td>1.0</td>\n",
                            "      <td>1.8</td>\n",
                            "      <td>1.7</td>\n",
                            "      <td>0.25</td>\n",
                            "      <td>0.55</td>\n",
                            "      <td>0.25</td>\n",
                            "      <td>8.0</td>\n",
                            "      <td>0.03</td>\n",
                            "      <td>0.4</td>\n",
                            "      <td>0.05</td>\n",
                            "    </tr>\n",
                            "    <tr>\n",
                            "      <th>2</th>\n",
                            "      <td>GENROU_3</td>\n",
                            "      <td>1.0</td>\n",
                            "      <td>GENROU_3</td>\n",
                            "      <td>3</td>\n",
                            "      <td>3</td>\n",
                            "      <td>None</td>\n",
                            "      <td>None</td>\n",
                            "      <td>900.0</td>\n",
                            "      <td>20.0</td>\n",
                            "      <td>60.0</td>\n",
                            "      <td>0.0</td>\n",
                            "      <td>12.35</td>\n",
                            "      <td>0.0</td>\n",
                            "      <td>0.06</td>\n",
                            "      <td>0.3</td>\n",
                            "      <td>0.0</td>\n",
                            "      <td>0.0</td>\n",
                            "      <td>0.0</td>\n",
                            "      <td>0.0</td>\n",
                            "      <td>1.0</td>\n",
                            "      <td>1.0</td>\n",
                            "      <td>1.8</td>\n",
                            "      <td>1.7</td>\n",
                            "      <td>0.25</td>\n",
                            "      <td>0.55</td>\n",
                            "      <td>0.25</td>\n",
                            "      <td>8.0</td>\n",
                            "      <td>0.03</td>\n",
                            "      <td>0.4</td>\n",
                            "      <td>0.05</td>\n",
                            "    </tr>\n",
                            "    <tr>\n",
                            "      <th>3</th>\n",
                            "      <td>GENROU_4</td>\n",
                            "      <td>1.0</td>\n",
                            "      <td>GENROU_4</td>\n",
                            "      <td>4</td>\n",
                            "      <td>4</td>\n",
                            "      <td>None</td>\n",
                            "      <td>None</td>\n",
                            "      <td>900.0</td>\n",
                            "      <td>20.0</td>\n",
                            "      <td>60.0</td>\n",
                            "      <td>0.0</td>\n",
                            "      <td>12.35</td>\n",
                            "      <td>0.0</td>\n",
                            "      <td>0.06</td>\n",
                            "      <td>0.3</td>\n",
                            "      <td>0.0</td>\n",
                            "      <td>0.0</td>\n",
                            "      <td>0.0</td>\n",
                            "      <td>0.0</td>\n",
                            "      <td>1.0</td>\n",
                            "      <td>1.0</td>\n",
                            "      <td>1.8</td>\n",
                            "      <td>1.7</td>\n",
                            "      <td>0.25</td>\n",
                            "      <td>0.55</td>\n",
                            "      <td>0.25</td>\n",
                            "      <td>8.0</td>\n",
                            "      <td>0.03</td>\n",
                            "      <td>0.4</td>\n",
                            "      <td>0.05</td>\n",
                            "    </tr>\n",
                            "  </tbody>\n",
                            "</table>\n",
                            "</div>"
                        ],
                        "text/plain": [
                            "          idx    u      name  bus  gen   coi  coi2     Sn    Vn    fn    D  \\\n",
                            "uid                                                                          \n",
                            "0    GENROU_1  1.0  GENROU_1    1    1  None  None  900.0  20.0  60.0  0.0   \n",
                            "1    GENROU_2  1.0  GENROU_2    2    2  None  None  900.0  20.0  60.0  0.0   \n",
                            "2    GENROU_3  1.0  GENROU_3    3    3  None  None  900.0  20.0  60.0  0.0   \n",
                            "3    GENROU_4  1.0  GENROU_4    4    4  None  None  900.0  20.0  60.0  0.0   \n",
                            "\n",
                            "         M   ra    xl  xd1   kp   kw  S10  S12  gammap  gammaq   xd   xq  \\\n",
                            "uid                                                                        \n",
                            "0    13.00  0.0  0.06  0.3  0.0  0.0  0.0  0.0     1.0     1.0  1.8  1.7   \n",
                            "1    13.00  0.0  0.06  0.3  0.0  0.0  0.0  0.0     1.0     1.0  1.8  1.7   \n",
                            "2    12.35  0.0  0.06  0.3  0.0  0.0  0.0  0.0     1.0     1.0  1.8  1.7   \n",
                            "3    12.35  0.0  0.06  0.3  0.0  0.0  0.0  0.0     1.0     1.0  1.8  1.7   \n",
                            "\n",
                            "      xd2   xq1   xq2  Td10  Td20  Tq10  Tq20  \n",
                            "uid                                            \n",
                            "0    0.25  0.55  0.25   8.0  0.03   0.4  0.05  \n",
                            "1    0.25  0.55  0.25   8.0  0.03   0.4  0.05  \n",
                            "2    0.25  0.55  0.25   8.0  0.03   0.4  0.05  \n",
                            "3    0.25  0.55  0.25   8.0  0.03   0.4  0.05  "
                        ]
                    },
                    "execution_count": 12,
                    "metadata": {},
                    "output_type": "execute_result"
                }
            ],
            "source": [
                "ss.GENROU.cache.df_in"
            ]
        },
        {
            "cell_type": "markdown",
            "metadata": {},
            "source": [
                "Parameters will be **converted** to per-unit in the system base after loading. This process have been done if `andes.run` is used for loading the data file.\n",
                "\n",
                "To inspect the converted parameters, check the `cache.df` parameter."
            ]
        },
        {
            "cell_type": "code",
            "execution_count": 13,
            "metadata": {
                "ExecuteTime": {
                    "end_time": "2021-03-19T01:57:44.721712Z",
                    "start_time": "2021-03-19T01:57:44.686492Z"
                },
                "execution": {
                    "iopub.execute_input": "2021-09-26T22:41:53.173678Z",
                    "iopub.status.busy": "2021-09-26T22:41:53.173050Z",
                    "iopub.status.idle": "2021-09-26T22:41:53.207341Z",
                    "shell.execute_reply": "2021-09-26T22:41:53.208345Z"
                },
                "scrolled": true
            },
            "outputs": [
                {
                    "data": {
                        "text/html": [
                            "<div>\n",
                            "<style scoped>\n",
                            "    .dataframe tbody tr th:only-of-type {\n",
                            "        vertical-align: middle;\n",
                            "    }\n",
                            "\n",
                            "    .dataframe tbody tr th {\n",
                            "        vertical-align: top;\n",
                            "    }\n",
                            "\n",
                            "    .dataframe thead th {\n",
                            "        text-align: right;\n",
                            "    }\n",
                            "</style>\n",
                            "<table border=\"1\" class=\"dataframe\">\n",
                            "  <thead>\n",
                            "    <tr style=\"text-align: right;\">\n",
                            "      <th></th>\n",
                            "      <th>idx</th>\n",
                            "      <th>u</th>\n",
                            "      <th>name</th>\n",
                            "      <th>bus</th>\n",
                            "      <th>gen</th>\n",
                            "      <th>coi</th>\n",
                            "      <th>coi2</th>\n",
                            "      <th>Sn</th>\n",
                            "      <th>Vn</th>\n",
                            "      <th>fn</th>\n",
                            "      <th>D</th>\n",
                            "      <th>M</th>\n",
                            "      <th>ra</th>\n",
                            "      <th>xl</th>\n",
                            "      <th>xd1</th>\n",
                            "      <th>kp</th>\n",
                            "      <th>kw</th>\n",
                            "      <th>S10</th>\n",
                            "      <th>S12</th>\n",
                            "      <th>gammap</th>\n",
                            "      <th>gammaq</th>\n",
                            "      <th>xd</th>\n",
                            "      <th>xq</th>\n",
                            "      <th>xd2</th>\n",
                            "      <th>xq1</th>\n",
                            "      <th>xq2</th>\n",
                            "      <th>Td10</th>\n",
                            "      <th>Td20</th>\n",
                            "      <th>Tq10</th>\n",
                            "      <th>Tq20</th>\n",
                            "    </tr>\n",
                            "    <tr>\n",
                            "      <th>uid</th>\n",
                            "      <th></th>\n",
                            "      <th></th>\n",
                            "      <th></th>\n",
                            "      <th></th>\n",
                            "      <th></th>\n",
                            "      <th></th>\n",
                            "      <th></th>\n",
                            "      <th></th>\n",
                            "      <th></th>\n",
                            "      <th></th>\n",
                            "      <th></th>\n",
                            "      <th></th>\n",
                            "      <th></th>\n",
                            "      <th></th>\n",
                            "      <th></th>\n",
                            "      <th></th>\n",
                            "      <th></th>\n",
                            "      <th></th>\n",
                            "      <th></th>\n",
                            "      <th></th>\n",
                            "      <th></th>\n",
                            "      <th></th>\n",
                            "      <th></th>\n",
                            "      <th></th>\n",
                            "      <th></th>\n",
                            "      <th></th>\n",
                            "      <th></th>\n",
                            "      <th></th>\n",
                            "      <th></th>\n",
                            "      <th></th>\n",
                            "    </tr>\n",
                            "  </thead>\n",
                            "  <tbody>\n",
                            "    <tr>\n",
                            "      <th>0</th>\n",
                            "      <td>GENROU_1</td>\n",
                            "      <td>1.0</td>\n",
                            "      <td>GENROU_1</td>\n",
                            "      <td>1</td>\n",
                            "      <td>1</td>\n",
                            "      <td>None</td>\n",
                            "      <td>None</td>\n",
                            "      <td>900.0</td>\n",
                            "      <td>20.0</td>\n",
                            "      <td>60.0</td>\n",
                            "      <td>0.0</td>\n",
                            "      <td>117.00</td>\n",
                            "      <td>0.0</td>\n",
                            "      <td>0.006667</td>\n",
                            "      <td>0.033333</td>\n",
                            "      <td>0.0</td>\n",
                            "      <td>0.0</td>\n",
                            "      <td>0.0</td>\n",
                            "      <td>0.0</td>\n",
                            "      <td>1.0</td>\n",
                            "      <td>1.0</td>\n",
                            "      <td>0.2</td>\n",
                            "      <td>0.188889</td>\n",
                            "      <td>0.027778</td>\n",
                            "      <td>0.061111</td>\n",
                            "      <td>0.027778</td>\n",
                            "      <td>8.0</td>\n",
                            "      <td>0.03</td>\n",
                            "      <td>0.4</td>\n",
                            "      <td>0.05</td>\n",
                            "    </tr>\n",
                            "    <tr>\n",
                            "      <th>1</th>\n",
                            "      <td>GENROU_2</td>\n",
                            "      <td>1.0</td>\n",
                            "      <td>GENROU_2</td>\n",
                            "      <td>2</td>\n",
                            "      <td>2</td>\n",
                            "      <td>None</td>\n",
                            "      <td>None</td>\n",
                            "      <td>900.0</td>\n",
                            "      <td>20.0</td>\n",
                            "      <td>60.0</td>\n",
                            "      <td>0.0</td>\n",
                            "      <td>117.00</td>\n",
                            "      <td>0.0</td>\n",
                            "      <td>0.006667</td>\n",
                            "      <td>0.033333</td>\n",
                            "      <td>0.0</td>\n",
                            "      <td>0.0</td>\n",
                            "      <td>0.0</td>\n",
                            "      <td>0.0</td>\n",
                            "      <td>1.0</td>\n",
                            "      <td>1.0</td>\n",
                            "      <td>0.2</td>\n",
                            "      <td>0.188889</td>\n",
                            "      <td>0.027778</td>\n",
                            "      <td>0.061111</td>\n",
                            "      <td>0.027778</td>\n",
                            "      <td>8.0</td>\n",
                            "      <td>0.03</td>\n",
                            "      <td>0.4</td>\n",
                            "      <td>0.05</td>\n",
                            "    </tr>\n",
                            "    <tr>\n",
                            "      <th>2</th>\n",
                            "      <td>GENROU_3</td>\n",
                            "      <td>1.0</td>\n",
                            "      <td>GENROU_3</td>\n",
                            "      <td>3</td>\n",
                            "      <td>3</td>\n",
                            "      <td>None</td>\n",
                            "      <td>None</td>\n",
                            "      <td>900.0</td>\n",
                            "      <td>20.0</td>\n",
                            "      <td>60.0</td>\n",
                            "      <td>0.0</td>\n",
                            "      <td>111.15</td>\n",
                            "      <td>0.0</td>\n",
                            "      <td>0.006667</td>\n",
                            "      <td>0.033333</td>\n",
                            "      <td>0.0</td>\n",
                            "      <td>0.0</td>\n",
                            "      <td>0.0</td>\n",
                            "      <td>0.0</td>\n",
                            "      <td>1.0</td>\n",
                            "      <td>1.0</td>\n",
                            "      <td>0.2</td>\n",
                            "      <td>0.188889</td>\n",
                            "      <td>0.027778</td>\n",
                            "      <td>0.061111</td>\n",
                            "      <td>0.027778</td>\n",
                            "      <td>8.0</td>\n",
                            "      <td>0.03</td>\n",
                            "      <td>0.4</td>\n",
                            "      <td>0.05</td>\n",
                            "    </tr>\n",
                            "    <tr>\n",
                            "      <th>3</th>\n",
                            "      <td>GENROU_4</td>\n",
                            "      <td>1.0</td>\n",
                            "      <td>GENROU_4</td>\n",
                            "      <td>4</td>\n",
                            "      <td>4</td>\n",
                            "      <td>None</td>\n",
                            "      <td>None</td>\n",
                            "      <td>900.0</td>\n",
                            "      <td>20.0</td>\n",
                            "      <td>60.0</td>\n",
                            "      <td>0.0</td>\n",
                            "      <td>111.15</td>\n",
                            "      <td>0.0</td>\n",
                            "      <td>0.006667</td>\n",
                            "      <td>0.033333</td>\n",
                            "      <td>0.0</td>\n",
                            "      <td>0.0</td>\n",
                            "      <td>0.0</td>\n",
                            "      <td>0.0</td>\n",
                            "      <td>1.0</td>\n",
                            "      <td>1.0</td>\n",
                            "      <td>0.2</td>\n",
                            "      <td>0.188889</td>\n",
                            "      <td>0.027778</td>\n",
                            "      <td>0.061111</td>\n",
                            "      <td>0.027778</td>\n",
                            "      <td>8.0</td>\n",
                            "      <td>0.03</td>\n",
                            "      <td>0.4</td>\n",
                            "      <td>0.05</td>\n",
                            "    </tr>\n",
                            "  </tbody>\n",
                            "</table>\n",
                            "</div>"
                        ],
                        "text/plain": [
                            "          idx    u      name  bus  gen   coi  coi2     Sn    Vn    fn    D  \\\n",
                            "uid                                                                          \n",
                            "0    GENROU_1  1.0  GENROU_1    1    1  None  None  900.0  20.0  60.0  0.0   \n",
                            "1    GENROU_2  1.0  GENROU_2    2    2  None  None  900.0  20.0  60.0  0.0   \n",
                            "2    GENROU_3  1.0  GENROU_3    3    3  None  None  900.0  20.0  60.0  0.0   \n",
                            "3    GENROU_4  1.0  GENROU_4    4    4  None  None  900.0  20.0  60.0  0.0   \n",
                            "\n",
                            "          M   ra        xl       xd1   kp   kw  S10  S12  gammap  gammaq   xd  \\\n",
                            "uid                                                                             \n",
                            "0    117.00  0.0  0.006667  0.033333  0.0  0.0  0.0  0.0     1.0     1.0  0.2   \n",
                            "1    117.00  0.0  0.006667  0.033333  0.0  0.0  0.0  0.0     1.0     1.0  0.2   \n",
                            "2    111.15  0.0  0.006667  0.033333  0.0  0.0  0.0  0.0     1.0     1.0  0.2   \n",
                            "3    111.15  0.0  0.006667  0.033333  0.0  0.0  0.0  0.0     1.0     1.0  0.2   \n",
                            "\n",
                            "           xq       xd2       xq1       xq2  Td10  Td20  Tq10  Tq20  \n",
                            "uid                                                                  \n",
                            "0    0.188889  0.027778  0.061111  0.027778   8.0  0.03   0.4  0.05  \n",
                            "1    0.188889  0.027778  0.061111  0.027778   8.0  0.03   0.4  0.05  \n",
                            "2    0.188889  0.027778  0.061111  0.027778   8.0  0.03   0.4  0.05  \n",
                            "3    0.188889  0.027778  0.061111  0.027778   8.0  0.03   0.4  0.05  "
                        ]
                    },
                    "execution_count": 13,
                    "metadata": {},
                    "output_type": "execute_result"
                }
            ],
            "source": [
                "ss.GENROU.cache.df"
            ]
        },
        {
            "cell_type": "markdown",
            "metadata": {},
            "source": [
                "One will notice the converted parameters such as `M`, `xl`, and all other impedances."
            ]
        },
        {
            "cell_type": "markdown",
            "metadata": {},
            "source": [
                "**It is very important to notice that `cache.df` and `cache.df_in` are both views. Altering data in these views will NOT alter the underlying parameter values.**\n",
                "\n",
                "To alter values, see the example below."
            ]
        },
        {
            "cell_type": "markdown",
            "metadata": {},
            "source": [
                "One may have noticed that `ss.GENROU.cache.df` and `ss.GENROU.as_df()` returns\n",
                "the same dataframe. The difference is that the latter creates a new dataframe everytime it is\n",
                "called, but the former caches the dataframe when it is initally accessed."
            ]
        },
        {
            "cell_type": "markdown",
            "metadata": {},
            "source": [
                "### Altering parameters"
            ]
        },
        {
            "cell_type": "markdown",
            "metadata": {},
            "source": [
                "Parameters can be altered by calling the `alter` method on a model instance. \n",
                "\n",
                "We first look up the original value through `get`. \n",
                "\n",
                "Either `v` or `vin` can be passed to argument `attr` to retrieve the converted or the original data. Here we are retrieving the original input data. If `attr` is not provided, `get` returns the value after per-unit conversion, which is the value used for calculation, by default. "
            ]
        },
        {
            "cell_type": "code",
            "execution_count": 14,
            "metadata": {
                "ExecuteTime": {
                    "end_time": "2021-03-19T01:57:44.732256Z",
                    "start_time": "2021-03-19T01:57:44.726208Z"
                },
                "execution": {
                    "iopub.execute_input": "2021-09-26T22:41:53.212924Z",
                    "iopub.status.busy": "2021-09-26T22:41:53.211899Z",
                    "iopub.status.idle": "2021-09-26T22:41:53.218292Z",
                    "shell.execute_reply": "2021-09-26T22:41:53.218865Z"
                }
            },
            "outputs": [
                {
                    "data": {
                        "text/plain": [
                            "13.0"
                        ]
                    },
                    "execution_count": 14,
                    "metadata": {},
                    "output_type": "execute_result"
                }
            ],
            "source": [
                "ss.GENROU.get(\"M\", \"GENROU_1\", attr='vin')"
            ]
        },
        {
            "cell_type": "markdown",
            "metadata": {},
            "source": [
                "To change the `M` of `GENROU_1` to `10`, do"
            ]
        },
        {
            "cell_type": "code",
            "execution_count": 15,
            "metadata": {
                "ExecuteTime": {
                    "end_time": "2021-03-19T01:57:44.740180Z",
                    "start_time": "2021-03-19T01:57:44.736736Z"
                },
                "execution": {
                    "iopub.execute_input": "2021-09-26T22:41:53.221616Z",
                    "iopub.status.busy": "2021-09-26T22:41:53.220894Z",
                    "iopub.status.idle": "2021-09-26T22:41:53.224631Z",
                    "shell.execute_reply": "2021-09-26T22:41:53.225167Z"
                },
                "pycharm": {
                    "name": "#%%\n"
                }
            },
            "outputs": [],
            "source": [
                "ss.GENROU.alter(\"M\", \"GENROU_1\", 10)"
            ]
        },
        {
            "cell_type": "markdown",
            "metadata": {},
            "source": [
                "The value set through `alter` is always the data before per-unit conversion - just like it should have been in an input file. ANDES will perform the conversion and set `vin` and `v` correctly."
            ]
        },
        {
            "cell_type": "markdown",
            "metadata": {},
            "source": [
                "Parameters altered through `Model.alter()` can be saved as a new system using"
            ]
        },
        {
            "cell_type": "code",
            "execution_count": 16,
            "metadata": {
                "ExecuteTime": {
                    "end_time": "2021-03-19T01:57:46.442430Z",
                    "start_time": "2021-03-19T01:57:44.741232Z"
                },
                "execution": {
                    "iopub.execute_input": "2021-09-26T22:41:53.227858Z",
                    "iopub.status.busy": "2021-09-26T22:41:53.227125Z",
                    "iopub.status.idle": "2021-09-26T22:41:53.566469Z",
                    "shell.execute_reply": "2021-09-26T22:41:53.567053Z"
                }
            },
            "outputs": [
                {
                    "name": "stderr",
                    "output_type": "stream",
                    "text": [
                        "xlsx file written to \"new_system.xlsx\"\n"
                    ]
                },
                {
                    "data": {
                        "text/plain": [
                            "True"
                        ]
                    },
                    "execution_count": 16,
                    "metadata": {},
                    "output_type": "execute_result"
                }
            ],
            "source": [
                "andes.io.xlsx.write(ss, 'new_system.xlsx', overwrite=True)"
            ]
        },
        {
            "cell_type": "markdown",
            "metadata": {},
            "source": [
                "### In-place update"
            ]
        },
        {
            "cell_type": "markdown",
            "metadata": {},
            "source": [
                "`alter()` can be used to change the value of `ConstService` to modify the\n",
                "equation that depend on such `ConstService`. For example, the distributed PV\n",
                "model `PVD1` implements a `ConstService` called `pref0` to store the initial\n",
                "value of the power reference. An equation associated with variable `Pref`\n",
                "enforces that `0 = Pref - pref0`.\n",
                "\n",
                "If one needs to modify `Pref`, it has to be done through modifying `pref0`.\n",
                "Modifying `Pref` directly will not take any effect since the variable will be\n",
                "overwritten by the solution of equations. \n",
                "\n",
                "To update `pref0` for a `PVD1` device with `idx = \"PVD_1\"`, one can do\n",
                "\n",
                "`ss.PVD1.alter('pref0', 'PVD_1', 0.005)`\n",
                "\n",
                "or, using keyword arguments in any order, \n",
                "\n",
                "`ss.PVD1.alter(src='pref0', idx='PVD_1', value=0.005)`\n",
                "\n",
                "If `PVD_1` is the first (i.e., 0-th in the Python indexing) in the idx list, this modification is equivalent to setting\n",
                "\n",
                "`ss.PVD1.pref0.v[0] = 0.005`.\n",
                "\n",
                "Since index `0` is given, the array `ss.PVD1.pref0.v` is updated in-place."
            ]
        },
        {
            "cell_type": "markdown",
            "metadata": {},
            "source": [
                "When one needs to modify the `pref0` of all `PVD1` devices to 0.005, one can do\n",
                "\n",
                "`ss.PVD1.alter('pref0', ss.PVD1.idx.v, 0.005)`\n",
                "\n",
                "This is equivalent to \n",
                "\n",
                "`ss.PVD1.pref0.v[:] = 0.005`\n",
                "\n",
                "Note the `[:]` in the above line. This is a slice operation so that the\n",
                "assignment happens in-place.\n",
                "\n",
                "One must never do out-of-place assignment, i.e.,\n",
                "\n",
                "`ss.PVD1.pref0.v = 0.005` \n",
                "\n",
                "or \n",
                "\n",
                "`ss.PVD1.pref0.v = 0.005 * np.ones_line(ss.PVD1.pref0.v)`\n",
                "\n",
                "because the assignment will point `ss.PVD1.pref0.v` to a new array. Internally,\n",
                "ANDES reuses the memory for all arrays, meaning that their addresses are assumed\n",
                "to be constant. If one modifies `ss.PVD1.pref0.v` out of place, the previous\n",
                "memory will no longer be accessible through `ss.PVD1.pref0.v`.\n",
                "\n",
                "On the safe side, one should modify variables using `alter()` or, at least,\n",
                "always use in-place assignment to internal arrays."
            ]
        },
        {
            "cell_type": "markdown",
            "metadata": {},
            "source": [
                "### Refreshing the view"
            ]
        },
        {
            "cell_type": "markdown",
            "metadata": {},
            "source": [
                "As mentioned, `cache.df` and `cache.df_in` are *cached* views and will not be automatically updated for inspection.\n",
                "\n",
                "This is generally not an issue if one performs the simulation after altering data. However, if one needs to inspect the data again, `cache.refresh()` needs to be called manually.\n"
            ]
        },
        {
            "cell_type": "code",
            "execution_count": 17,
            "metadata": {
                "ExecuteTime": {
                    "end_time": "2021-03-19T01:57:46.458001Z",
                    "start_time": "2021-03-19T01:57:46.447362Z"
                },
                "execution": {
                    "iopub.execute_input": "2021-09-26T22:41:53.572499Z",
                    "iopub.status.busy": "2021-09-26T22:41:53.570745Z",
                    "iopub.status.idle": "2021-09-26T22:41:53.580096Z",
                    "shell.execute_reply": "2021-09-26T22:41:53.580667Z"
                },
                "pycharm": {
                    "name": "#%%\n"
                }
            },
            "outputs": [],
            "source": [
                "ss.GENROU.cache.refresh()"
            ]
        },
        {
            "cell_type": "code",
            "execution_count": 18,
            "metadata": {
                "ExecuteTime": {
                    "end_time": "2021-03-19T01:57:46.492578Z",
                    "start_time": "2021-03-19T01:57:46.462694Z"
                },
                "execution": {
                    "iopub.execute_input": "2021-09-26T22:41:53.583427Z",
                    "iopub.status.busy": "2021-09-26T22:41:53.582671Z",
                    "iopub.status.idle": "2021-09-26T22:41:53.619262Z",
                    "shell.execute_reply": "2021-09-26T22:41:53.619964Z"
                },
                "pycharm": {
                    "name": "#%%\n"
                }
            },
            "outputs": [
                {
                    "data": {
                        "text/html": [
                            "<div>\n",
                            "<style scoped>\n",
                            "    .dataframe tbody tr th:only-of-type {\n",
                            "        vertical-align: middle;\n",
                            "    }\n",
                            "\n",
                            "    .dataframe tbody tr th {\n",
                            "        vertical-align: top;\n",
                            "    }\n",
                            "\n",
                            "    .dataframe thead th {\n",
                            "        text-align: right;\n",
                            "    }\n",
                            "</style>\n",
                            "<table border=\"1\" class=\"dataframe\">\n",
                            "  <thead>\n",
                            "    <tr style=\"text-align: right;\">\n",
                            "      <th></th>\n",
                            "      <th>idx</th>\n",
                            "      <th>u</th>\n",
                            "      <th>name</th>\n",
                            "      <th>bus</th>\n",
                            "      <th>gen</th>\n",
                            "      <th>coi</th>\n",
                            "      <th>coi2</th>\n",
                            "      <th>Sn</th>\n",
                            "      <th>Vn</th>\n",
                            "      <th>fn</th>\n",
                            "      <th>D</th>\n",
                            "      <th>M</th>\n",
                            "      <th>ra</th>\n",
                            "      <th>xl</th>\n",
                            "      <th>xd1</th>\n",
                            "      <th>kp</th>\n",
                            "      <th>kw</th>\n",
                            "      <th>S10</th>\n",
                            "      <th>S12</th>\n",
                            "      <th>gammap</th>\n",
                            "      <th>gammaq</th>\n",
                            "      <th>xd</th>\n",
                            "      <th>xq</th>\n",
                            "      <th>xd2</th>\n",
                            "      <th>xq1</th>\n",
                            "      <th>xq2</th>\n",
                            "      <th>Td10</th>\n",
                            "      <th>Td20</th>\n",
                            "      <th>Tq10</th>\n",
                            "      <th>Tq20</th>\n",
                            "    </tr>\n",
                            "    <tr>\n",
                            "      <th>uid</th>\n",
                            "      <th></th>\n",
                            "      <th></th>\n",
                            "      <th></th>\n",
                            "      <th></th>\n",
                            "      <th></th>\n",
                            "      <th></th>\n",
                            "      <th></th>\n",
                            "      <th></th>\n",
                            "      <th></th>\n",
                            "      <th></th>\n",
                            "      <th></th>\n",
                            "      <th></th>\n",
                            "      <th></th>\n",
                            "      <th></th>\n",
                            "      <th></th>\n",
                            "      <th></th>\n",
                            "      <th></th>\n",
                            "      <th></th>\n",
                            "      <th></th>\n",
                            "      <th></th>\n",
                            "      <th></th>\n",
                            "      <th></th>\n",
                            "      <th></th>\n",
                            "      <th></th>\n",
                            "      <th></th>\n",
                            "      <th></th>\n",
                            "      <th></th>\n",
                            "      <th></th>\n",
                            "      <th></th>\n",
                            "      <th></th>\n",
                            "    </tr>\n",
                            "  </thead>\n",
                            "  <tbody>\n",
                            "    <tr>\n",
                            "      <th>0</th>\n",
                            "      <td>GENROU_1</td>\n",
                            "      <td>1.0</td>\n",
                            "      <td>GENROU_1</td>\n",
                            "      <td>1</td>\n",
                            "      <td>1</td>\n",
                            "      <td>None</td>\n",
                            "      <td>None</td>\n",
                            "      <td>900.0</td>\n",
                            "      <td>20.0</td>\n",
                            "      <td>60.0</td>\n",
                            "      <td>0.0</td>\n",
                            "      <td>10.00</td>\n",
                            "      <td>0.0</td>\n",
                            "      <td>0.06</td>\n",
                            "      <td>0.3</td>\n",
                            "      <td>0.0</td>\n",
                            "      <td>0.0</td>\n",
                            "      <td>0.0</td>\n",
                            "      <td>0.0</td>\n",
                            "      <td>1.0</td>\n",
                            "      <td>1.0</td>\n",
                            "      <td>1.8</td>\n",
                            "      <td>1.7</td>\n",
                            "      <td>0.25</td>\n",
                            "      <td>0.55</td>\n",
                            "      <td>0.25</td>\n",
                            "      <td>8.0</td>\n",
                            "      <td>0.03</td>\n",
                            "      <td>0.4</td>\n",
                            "      <td>0.05</td>\n",
                            "    </tr>\n",
                            "    <tr>\n",
                            "      <th>1</th>\n",
                            "      <td>GENROU_2</td>\n",
                            "      <td>1.0</td>\n",
                            "      <td>GENROU_2</td>\n",
                            "      <td>2</td>\n",
                            "      <td>2</td>\n",
                            "      <td>None</td>\n",
                            "      <td>None</td>\n",
                            "      <td>900.0</td>\n",
                            "      <td>20.0</td>\n",
                            "      <td>60.0</td>\n",
                            "      <td>0.0</td>\n",
                            "      <td>13.00</td>\n",
                            "      <td>0.0</td>\n",
                            "      <td>0.06</td>\n",
                            "      <td>0.3</td>\n",
                            "      <td>0.0</td>\n",
                            "      <td>0.0</td>\n",
                            "      <td>0.0</td>\n",
                            "      <td>0.0</td>\n",
                            "      <td>1.0</td>\n",
                            "      <td>1.0</td>\n",
                            "      <td>1.8</td>\n",
                            "      <td>1.7</td>\n",
                            "      <td>0.25</td>\n",
                            "      <td>0.55</td>\n",
                            "      <td>0.25</td>\n",
                            "      <td>8.0</td>\n",
                            "      <td>0.03</td>\n",
                            "      <td>0.4</td>\n",
                            "      <td>0.05</td>\n",
                            "    </tr>\n",
                            "    <tr>\n",
                            "      <th>2</th>\n",
                            "      <td>GENROU_3</td>\n",
                            "      <td>1.0</td>\n",
                            "      <td>GENROU_3</td>\n",
                            "      <td>3</td>\n",
                            "      <td>3</td>\n",
                            "      <td>None</td>\n",
                            "      <td>None</td>\n",
                            "      <td>900.0</td>\n",
                            "      <td>20.0</td>\n",
                            "      <td>60.0</td>\n",
                            "      <td>0.0</td>\n",
                            "      <td>12.35</td>\n",
                            "      <td>0.0</td>\n",
                            "      <td>0.06</td>\n",
                            "      <td>0.3</td>\n",
                            "      <td>0.0</td>\n",
                            "      <td>0.0</td>\n",
                            "      <td>0.0</td>\n",
                            "      <td>0.0</td>\n",
                            "      <td>1.0</td>\n",
                            "      <td>1.0</td>\n",
                            "      <td>1.8</td>\n",
                            "      <td>1.7</td>\n",
                            "      <td>0.25</td>\n",
                            "      <td>0.55</td>\n",
                            "      <td>0.25</td>\n",
                            "      <td>8.0</td>\n",
                            "      <td>0.03</td>\n",
                            "      <td>0.4</td>\n",
                            "      <td>0.05</td>\n",
                            "    </tr>\n",
                            "    <tr>\n",
                            "      <th>3</th>\n",
                            "      <td>GENROU_4</td>\n",
                            "      <td>1.0</td>\n",
                            "      <td>GENROU_4</td>\n",
                            "      <td>4</td>\n",
                            "      <td>4</td>\n",
                            "      <td>None</td>\n",
                            "      <td>None</td>\n",
                            "      <td>900.0</td>\n",
                            "      <td>20.0</td>\n",
                            "      <td>60.0</td>\n",
                            "      <td>0.0</td>\n",
                            "      <td>12.35</td>\n",
                            "      <td>0.0</td>\n",
                            "      <td>0.06</td>\n",
                            "      <td>0.3</td>\n",
                            "      <td>0.0</td>\n",
                            "      <td>0.0</td>\n",
                            "      <td>0.0</td>\n",
                            "      <td>0.0</td>\n",
                            "      <td>1.0</td>\n",
                            "      <td>1.0</td>\n",
                            "      <td>1.8</td>\n",
                            "      <td>1.7</td>\n",
                            "      <td>0.25</td>\n",
                            "      <td>0.55</td>\n",
                            "      <td>0.25</td>\n",
                            "      <td>8.0</td>\n",
                            "      <td>0.03</td>\n",
                            "      <td>0.4</td>\n",
                            "      <td>0.05</td>\n",
                            "    </tr>\n",
                            "  </tbody>\n",
                            "</table>\n",
                            "</div>"
                        ],
                        "text/plain": [
                            "          idx    u      name  bus  gen   coi  coi2     Sn    Vn    fn    D  \\\n",
                            "uid                                                                          \n",
                            "0    GENROU_1  1.0  GENROU_1    1    1  None  None  900.0  20.0  60.0  0.0   \n",
                            "1    GENROU_2  1.0  GENROU_2    2    2  None  None  900.0  20.0  60.0  0.0   \n",
                            "2    GENROU_3  1.0  GENROU_3    3    3  None  None  900.0  20.0  60.0  0.0   \n",
                            "3    GENROU_4  1.0  GENROU_4    4    4  None  None  900.0  20.0  60.0  0.0   \n",
                            "\n",
                            "         M   ra    xl  xd1   kp   kw  S10  S12  gammap  gammaq   xd   xq  \\\n",
                            "uid                                                                        \n",
                            "0    10.00  0.0  0.06  0.3  0.0  0.0  0.0  0.0     1.0     1.0  1.8  1.7   \n",
                            "1    13.00  0.0  0.06  0.3  0.0  0.0  0.0  0.0     1.0     1.0  1.8  1.7   \n",
                            "2    12.35  0.0  0.06  0.3  0.0  0.0  0.0  0.0     1.0     1.0  1.8  1.7   \n",
                            "3    12.35  0.0  0.06  0.3  0.0  0.0  0.0  0.0     1.0     1.0  1.8  1.7   \n",
                            "\n",
                            "      xd2   xq1   xq2  Td10  Td20  Tq10  Tq20  \n",
                            "uid                                            \n",
                            "0    0.25  0.55  0.25   8.0  0.03   0.4  0.05  \n",
                            "1    0.25  0.55  0.25   8.0  0.03   0.4  0.05  \n",
                            "2    0.25  0.55  0.25   8.0  0.03   0.4  0.05  \n",
                            "3    0.25  0.55  0.25   8.0  0.03   0.4  0.05  "
                        ]
                    },
                    "execution_count": 18,
                    "metadata": {},
                    "output_type": "execute_result"
                }
            ],
            "source": [
                "ss.GENROU.cache.df_in"
            ]
        },
        {
            "cell_type": "markdown",
            "metadata": {},
            "source": [
                "Alternatively, one can call the `as_df()` function to build a new dataframe *without overwriting* the cache:"
            ]
        },
        {
            "cell_type": "code",
            "execution_count": 19,
            "metadata": {},
            "outputs": [
                {
                    "data": {
                        "text/html": [
                            "<div>\n",
                            "<style scoped>\n",
                            "    .dataframe tbody tr th:only-of-type {\n",
                            "        vertical-align: middle;\n",
                            "    }\n",
                            "\n",
                            "    .dataframe tbody tr th {\n",
                            "        vertical-align: top;\n",
                            "    }\n",
                            "\n",
                            "    .dataframe thead th {\n",
                            "        text-align: right;\n",
                            "    }\n",
                            "</style>\n",
                            "<table border=\"1\" class=\"dataframe\">\n",
                            "  <thead>\n",
                            "    <tr style=\"text-align: right;\">\n",
                            "      <th></th>\n",
                            "      <th>idx</th>\n",
                            "      <th>u</th>\n",
                            "      <th>name</th>\n",
                            "      <th>bus</th>\n",
                            "      <th>gen</th>\n",
                            "      <th>coi</th>\n",
                            "      <th>coi2</th>\n",
                            "      <th>Sn</th>\n",
                            "      <th>Vn</th>\n",
                            "      <th>fn</th>\n",
                            "      <th>D</th>\n",
                            "      <th>M</th>\n",
                            "      <th>ra</th>\n",
                            "      <th>xl</th>\n",
                            "      <th>xd1</th>\n",
                            "      <th>kp</th>\n",
                            "      <th>kw</th>\n",
                            "      <th>S10</th>\n",
                            "      <th>S12</th>\n",
                            "      <th>gammap</th>\n",
                            "      <th>gammaq</th>\n",
                            "      <th>xd</th>\n",
                            "      <th>xq</th>\n",
                            "      <th>xd2</th>\n",
                            "      <th>xq1</th>\n",
                            "      <th>xq2</th>\n",
                            "      <th>Td10</th>\n",
                            "      <th>Td20</th>\n",
                            "      <th>Tq10</th>\n",
                            "      <th>Tq20</th>\n",
                            "    </tr>\n",
                            "    <tr>\n",
                            "      <th>uid</th>\n",
                            "      <th></th>\n",
                            "      <th></th>\n",
                            "      <th></th>\n",
                            "      <th></th>\n",
                            "      <th></th>\n",
                            "      <th></th>\n",
                            "      <th></th>\n",
                            "      <th></th>\n",
                            "      <th></th>\n",
                            "      <th></th>\n",
                            "      <th></th>\n",
                            "      <th></th>\n",
                            "      <th></th>\n",
                            "      <th></th>\n",
                            "      <th></th>\n",
                            "      <th></th>\n",
                            "      <th></th>\n",
                            "      <th></th>\n",
                            "      <th></th>\n",
                            "      <th></th>\n",
                            "      <th></th>\n",
                            "      <th></th>\n",
                            "      <th></th>\n",
                            "      <th></th>\n",
                            "      <th></th>\n",
                            "      <th></th>\n",
                            "      <th></th>\n",
                            "      <th></th>\n",
                            "      <th></th>\n",
                            "      <th></th>\n",
                            "    </tr>\n",
                            "  </thead>\n",
                            "  <tbody>\n",
                            "    <tr>\n",
                            "      <th>0</th>\n",
                            "      <td>GENROU_1</td>\n",
                            "      <td>1.0</td>\n",
                            "      <td>GENROU_1</td>\n",
                            "      <td>1</td>\n",
                            "      <td>1</td>\n",
                            "      <td>None</td>\n",
                            "      <td>None</td>\n",
                            "      <td>900.0</td>\n",
                            "      <td>20.0</td>\n",
                            "      <td>60.0</td>\n",
                            "      <td>0.0</td>\n",
                            "      <td>90.00</td>\n",
                            "      <td>0.0</td>\n",
                            "      <td>0.006667</td>\n",
                            "      <td>0.033333</td>\n",
                            "      <td>0.0</td>\n",
                            "      <td>0.0</td>\n",
                            "      <td>0.0</td>\n",
                            "      <td>0.0</td>\n",
                            "      <td>1.0</td>\n",
                            "      <td>1.0</td>\n",
                            "      <td>0.2</td>\n",
                            "      <td>0.188889</td>\n",
                            "      <td>0.027778</td>\n",
                            "      <td>0.061111</td>\n",
                            "      <td>0.027778</td>\n",
                            "      <td>8.0</td>\n",
                            "      <td>0.03</td>\n",
                            "      <td>0.4</td>\n",
                            "      <td>0.05</td>\n",
                            "    </tr>\n",
                            "    <tr>\n",
                            "      <th>1</th>\n",
                            "      <td>GENROU_2</td>\n",
                            "      <td>1.0</td>\n",
                            "      <td>GENROU_2</td>\n",
                            "      <td>2</td>\n",
                            "      <td>2</td>\n",
                            "      <td>None</td>\n",
                            "      <td>None</td>\n",
                            "      <td>900.0</td>\n",
                            "      <td>20.0</td>\n",
                            "      <td>60.0</td>\n",
                            "      <td>0.0</td>\n",
                            "      <td>117.00</td>\n",
                            "      <td>0.0</td>\n",
                            "      <td>0.006667</td>\n",
                            "      <td>0.033333</td>\n",
                            "      <td>0.0</td>\n",
                            "      <td>0.0</td>\n",
                            "      <td>0.0</td>\n",
                            "      <td>0.0</td>\n",
                            "      <td>1.0</td>\n",
                            "      <td>1.0</td>\n",
                            "      <td>0.2</td>\n",
                            "      <td>0.188889</td>\n",
                            "      <td>0.027778</td>\n",
                            "      <td>0.061111</td>\n",
                            "      <td>0.027778</td>\n",
                            "      <td>8.0</td>\n",
                            "      <td>0.03</td>\n",
                            "      <td>0.4</td>\n",
                            "      <td>0.05</td>\n",
                            "    </tr>\n",
                            "    <tr>\n",
                            "      <th>2</th>\n",
                            "      <td>GENROU_3</td>\n",
                            "      <td>1.0</td>\n",
                            "      <td>GENROU_3</td>\n",
                            "      <td>3</td>\n",
                            "      <td>3</td>\n",
                            "      <td>None</td>\n",
                            "      <td>None</td>\n",
                            "      <td>900.0</td>\n",
                            "      <td>20.0</td>\n",
                            "      <td>60.0</td>\n",
                            "      <td>0.0</td>\n",
                            "      <td>111.15</td>\n",
                            "      <td>0.0</td>\n",
                            "      <td>0.006667</td>\n",
                            "      <td>0.033333</td>\n",
                            "      <td>0.0</td>\n",
                            "      <td>0.0</td>\n",
                            "      <td>0.0</td>\n",
                            "      <td>0.0</td>\n",
                            "      <td>1.0</td>\n",
                            "      <td>1.0</td>\n",
                            "      <td>0.2</td>\n",
                            "      <td>0.188889</td>\n",
                            "      <td>0.027778</td>\n",
                            "      <td>0.061111</td>\n",
                            "      <td>0.027778</td>\n",
                            "      <td>8.0</td>\n",
                            "      <td>0.03</td>\n",
                            "      <td>0.4</td>\n",
                            "      <td>0.05</td>\n",
                            "    </tr>\n",
                            "    <tr>\n",
                            "      <th>3</th>\n",
                            "      <td>GENROU_4</td>\n",
                            "      <td>1.0</td>\n",
                            "      <td>GENROU_4</td>\n",
                            "      <td>4</td>\n",
                            "      <td>4</td>\n",
                            "      <td>None</td>\n",
                            "      <td>None</td>\n",
                            "      <td>900.0</td>\n",
                            "      <td>20.0</td>\n",
                            "      <td>60.0</td>\n",
                            "      <td>0.0</td>\n",
                            "      <td>111.15</td>\n",
                            "      <td>0.0</td>\n",
                            "      <td>0.006667</td>\n",
                            "      <td>0.033333</td>\n",
                            "      <td>0.0</td>\n",
                            "      <td>0.0</td>\n",
                            "      <td>0.0</td>\n",
                            "      <td>0.0</td>\n",
                            "      <td>1.0</td>\n",
                            "      <td>1.0</td>\n",
                            "      <td>0.2</td>\n",
                            "      <td>0.188889</td>\n",
                            "      <td>0.027778</td>\n",
                            "      <td>0.061111</td>\n",
                            "      <td>0.027778</td>\n",
                            "      <td>8.0</td>\n",
                            "      <td>0.03</td>\n",
                            "      <td>0.4</td>\n",
                            "      <td>0.05</td>\n",
                            "    </tr>\n",
                            "  </tbody>\n",
                            "</table>\n",
                            "</div>"
                        ],
                        "text/plain": [
                            "          idx    u      name  bus  gen   coi  coi2     Sn    Vn    fn    D  \\\n",
                            "uid                                                                          \n",
                            "0    GENROU_1  1.0  GENROU_1    1    1  None  None  900.0  20.0  60.0  0.0   \n",
                            "1    GENROU_2  1.0  GENROU_2    2    2  None  None  900.0  20.0  60.0  0.0   \n",
                            "2    GENROU_3  1.0  GENROU_3    3    3  None  None  900.0  20.0  60.0  0.0   \n",
                            "3    GENROU_4  1.0  GENROU_4    4    4  None  None  900.0  20.0  60.0  0.0   \n",
                            "\n",
                            "          M   ra        xl       xd1   kp   kw  S10  S12  gammap  gammaq   xd  \\\n",
                            "uid                                                                             \n",
                            "0     90.00  0.0  0.006667  0.033333  0.0  0.0  0.0  0.0     1.0     1.0  0.2   \n",
                            "1    117.00  0.0  0.006667  0.033333  0.0  0.0  0.0  0.0     1.0     1.0  0.2   \n",
                            "2    111.15  0.0  0.006667  0.033333  0.0  0.0  0.0  0.0     1.0     1.0  0.2   \n",
                            "3    111.15  0.0  0.006667  0.033333  0.0  0.0  0.0  0.0     1.0     1.0  0.2   \n",
                            "\n",
                            "           xq       xd2       xq1       xq2  Td10  Td20  Tq10  Tq20  \n",
                            "uid                                                                  \n",
                            "0    0.188889  0.027778  0.061111  0.027778   8.0  0.03   0.4  0.05  \n",
                            "1    0.188889  0.027778  0.061111  0.027778   8.0  0.03   0.4  0.05  \n",
                            "2    0.188889  0.027778  0.061111  0.027778   8.0  0.03   0.4  0.05  \n",
                            "3    0.188889  0.027778  0.061111  0.027778   8.0  0.03   0.4  0.05  "
                        ]
                    },
                    "execution_count": 19,
                    "metadata": {},
                    "output_type": "execute_result"
                }
            ],
            "source": [
                "ss.GENROU.as_df()"
            ]
        },
        {
            "cell_type": "markdown",
            "metadata": {},
            "source": [
                "## Variables"
            ]
        },
        {
            "cell_type": "markdown",
            "metadata": {},
            "source": [
                "### Snapshots"
            ]
        },
        {
            "cell_type": "markdown",
            "metadata": {},
            "source": [
                "One might also want to check the variable values in a similar way to that for a parameter. Certainly, a variable has a `v` attribute which stores values. \n",
                "\n",
                "**It is important to note that `v` only holds the values at the last program state.** Such program state could be the solution of power flow, the initialization of time-domain simulation, or the end of a simulation disturbances. "
            ]
        },
        {
            "cell_type": "markdown",
            "metadata": {},
            "source": [
                "Since we have only ran power flow for ``ss``, ``ss.Bus.v.v`` are the voltage magnitude solutions, where the first `v` is for \"voltage\", and the second `v` is the first `v`'s value attribute."
            ]
        },
        {
            "cell_type": "code",
            "execution_count": 20,
            "metadata": {
                "ExecuteTime": {
                    "end_time": "2021-03-19T01:57:46.497826Z",
                    "start_time": "2021-03-19T01:57:46.494209Z"
                },
                "execution": {
                    "iopub.execute_input": "2021-09-26T22:41:53.623325Z",
                    "iopub.status.busy": "2021-09-26T22:41:53.622522Z",
                    "iopub.status.idle": "2021-09-26T22:41:53.631840Z",
                    "shell.execute_reply": "2021-09-26T22:41:53.633842Z"
                }
            },
            "outputs": [
                {
                    "data": {
                        "text/plain": [
                            "array([1.        , 1.        , 1.        , 1.        , 0.98337472,\n",
                            "       0.96908585, 0.9562181 , 0.95400018, 0.96856366, 0.98377143])"
                        ]
                    },
                    "execution_count": 20,
                    "metadata": {},
                    "output_type": "execute_result"
                }
            ],
            "source": [
                "ss.Bus.v.v"
            ]
        },
        {
            "cell_type": "markdown",
            "metadata": {},
            "source": [
                "Variables hold more than values. They have an attribute `a` for the addresses indexing into the corresponding type of array."
            ]
        },
        {
            "cell_type": "markdown",
            "metadata": {},
            "source": [
                "There are two system-level arrays, `ss.dae.x` and `ss.dae.y` for the right-hand-side of the differential and algebraic equations, respectively. "
            ]
        },
        {
            "cell_type": "code",
            "execution_count": 21,
            "metadata": {
                "ExecuteTime": {
                    "end_time": "2021-03-19T01:57:46.502680Z",
                    "start_time": "2021-03-19T01:57:46.499574Z"
                },
                "execution": {
                    "iopub.execute_input": "2021-09-26T22:41:53.637756Z",
                    "iopub.status.busy": "2021-09-26T22:41:53.636881Z",
                    "iopub.status.idle": "2021-09-26T22:41:53.644532Z",
                    "shell.execute_reply": "2021-09-26T22:41:53.645478Z"
                }
            },
            "outputs": [
                {
                    "data": {
                        "text/plain": [
                            "andes.core.var.Algeb"
                        ]
                    },
                    "execution_count": 21,
                    "metadata": {},
                    "output_type": "execute_result"
                }
            ],
            "source": [
                "type(ss.Bus.v)"
            ]
        },
        {
            "cell_type": "markdown",
            "metadata": {},
            "source": [
                "`ss.Bus.v` is an algebraic variable, thus `ss.Bus.v.a` holds the indices into ``ss.dae.g``."
            ]
        },
        {
            "cell_type": "code",
            "execution_count": 22,
            "metadata": {
                "ExecuteTime": {
                    "end_time": "2021-03-19T01:57:46.508151Z",
                    "start_time": "2021-03-19T01:57:46.504486Z"
                },
                "execution": {
                    "iopub.execute_input": "2021-09-26T22:41:53.651249Z",
                    "iopub.status.busy": "2021-09-26T22:41:53.649274Z",
                    "iopub.status.idle": "2021-09-26T22:41:53.660558Z",
                    "shell.execute_reply": "2021-09-26T22:41:53.661510Z"
                }
            },
            "outputs": [
                {
                    "data": {
                        "text/plain": [
                            "array([1.        , 1.        , 1.        , 1.        , 0.98337472,\n",
                            "       0.96908585, 0.9562181 , 0.95400018, 0.96856366, 0.98377143])"
                        ]
                    },
                    "execution_count": 22,
                    "metadata": {},
                    "output_type": "execute_result"
                }
            ],
            "source": [
                "ss.dae.y[ss.Bus.v.a]"
            ]
        },
        {
            "cell_type": "markdown",
            "metadata": {},
            "source": [
                "We can see that these two values are the same."
            ]
        },
        {
            "cell_type": "markdown",
            "metadata": {},
            "source": [
                "### Time series"
            ]
        },
        {
            "cell_type": "markdown",
            "metadata": {},
            "source": [
                "After a time-domain simulation, the time series of the variables can be retrieved through `ss.dae.ts`. Let's first run a simulation."
            ]
        },
        {
            "cell_type": "code",
            "execution_count": 23,
            "metadata": {
                "ExecuteTime": {
                    "end_time": "2021-03-19T01:57:48.088224Z",
                    "start_time": "2021-03-19T01:57:46.510076Z"
                },
                "execution": {
                    "iopub.execute_input": "2021-09-26T22:41:53.665872Z",
                    "iopub.status.busy": "2021-09-26T22:41:53.665049Z",
                    "iopub.status.idle": "2021-09-26T22:41:54.800200Z",
                    "shell.execute_reply": "2021-09-26T22:41:54.800737Z"
                }
            },
            "outputs": [
                {
                    "name": "stderr",
                    "output_type": "stream",
                    "text": [
                        "\n",
                        "-> Time Domain Simulation Summary:\n",
                        "Sparse Solver: KLU\n",
                        "Simulation time: 0.0-20.0 s.\n",
                        "Fixed step size: h=33.33 ms. Shrink if not converged.\n",
                        "Initialization for dynamics completed in 0.0489 seconds.\n",
                        "Initialization was successful.\n"
                    ]
                },
                {
                    "data": {
                        "application/vnd.jupyter.widget-view+json": {
                            "model_id": "2429fb4a50554e308c65f5d1c4f839d4",
                            "version_major": 2,
                            "version_minor": 0
                        },
                        "text/plain": [
                            "  0%|          | 0/100 [00:00<?, ?%/s]"
                        ]
                    },
                    "metadata": {},
                    "output_type": "display_data"
                },
                {
                    "name": "stdout",
                    "output_type": "stream",
                    "text": [
                        "<Toggle Toggle_1>: Line.Line_8 status changed to 0 at t=2.0 sec.\n"
                    ]
                },
                {
                    "name": "stderr",
                    "output_type": "stream",
                    "text": [
                        "Simulation completed in 1.1192 seconds.\n",
                        "Outputs to \"kundur_out.lst\" and \"kundur_out.npz\".\n",
                        "Outputs written in 0.0226 seconds.\n"
                    ]
                },
                {
                    "data": {
                        "text/plain": [
                            "True"
                        ]
                    },
                    "execution_count": 23,
                    "metadata": {},
                    "output_type": "execute_result"
                }
            ],
            "source": [
                "ss.TDS.run()"
            ]
        },
        {
            "cell_type": "code",
            "execution_count": 24,
            "metadata": {
                "ExecuteTime": {
                    "end_time": "2021-03-19T01:57:48.098566Z",
                    "start_time": "2021-03-19T01:57:48.094479Z"
                },
                "execution": {
                    "iopub.execute_input": "2021-09-26T22:41:54.803246Z",
                    "iopub.status.busy": "2021-09-26T22:41:54.802554Z",
                    "iopub.status.idle": "2021-09-26T22:41:54.808083Z",
                    "shell.execute_reply": "2021-09-26T22:41:54.807578Z"
                }
            },
            "outputs": [
                {
                    "data": {
                        "text/plain": [
                            "<andes.variables.dae.DAETimeSeries at 0x7f7bc75c1b50>"
                        ]
                    },
                    "execution_count": 24,
                    "metadata": {},
                    "output_type": "execute_result"
                }
            ],
            "source": [
                "ss.dae.ts"
            ]
        },
        {
            "cell_type": "markdown",
            "metadata": {},
            "source": [
                "`ss.dae.ts` has four commonly used attributes: `t` for time stamps, `xy` for variables (differential and then algebraic), `z` for discontinuous states, and `df` for the dataframe of all.\n",
                "\n",
                "- Each point in `ss.dae.ts.t` correspond to a row in `ss.dae.ts.xy`.\n",
                "- Each column in `ss.dae.ts.xy` correspond to a variable, whose name can be located in `ss.dae.xy_name`, for all timestamps.\n",
                "- `z` is not stored by default unless one enables it before simulation by setting `ss.TDS.config.store_z = 1`. \n",
                "- `df` is not built by default but can be manually triggered after simulation by calling `ss.dae.ts.unpack(df=True)`"
            ]
        },
        {
            "cell_type": "markdown",
            "metadata": {},
            "source": [
                "The following are some statistics of the shapes of arrays:"
            ]
        },
        {
            "cell_type": "code",
            "execution_count": 25,
            "metadata": {
                "ExecuteTime": {
                    "end_time": "2021-03-19T01:57:48.107524Z",
                    "start_time": "2021-03-19T01:57:48.103549Z"
                },
                "execution": {
                    "iopub.execute_input": "2021-09-26T22:41:54.812055Z",
                    "iopub.status.busy": "2021-09-26T22:41:54.811606Z",
                    "iopub.status.idle": "2021-09-26T22:41:54.815761Z",
                    "shell.execute_reply": "2021-09-26T22:41:54.815414Z"
                }
            },
            "outputs": [
                {
                    "data": {
                        "text/plain": [
                            "(603,)"
                        ]
                    },
                    "execution_count": 25,
                    "metadata": {},
                    "output_type": "execute_result"
                }
            ],
            "source": [
                "ss.dae.ts.t.shape"
            ]
        },
        {
            "cell_type": "code",
            "execution_count": 26,
            "metadata": {
                "ExecuteTime": {
                    "end_time": "2021-03-19T01:57:48.116573Z",
                    "start_time": "2021-03-19T01:57:48.110379Z"
                },
                "execution": {
                    "iopub.execute_input": "2021-09-26T22:41:54.818527Z",
                    "iopub.status.busy": "2021-09-26T22:41:54.817728Z",
                    "iopub.status.idle": "2021-09-26T22:41:54.823096Z",
                    "shell.execute_reply": "2021-09-26T22:41:54.823642Z"
                }
            },
            "outputs": [
                {
                    "data": {
                        "text/plain": [
                            "(603, 201)"
                        ]
                    },
                    "execution_count": 26,
                    "metadata": {},
                    "output_type": "execute_result"
                }
            ],
            "source": [
                "ss.dae.ts.xy.shape  # x-axis is for time stamps, and y-axis is for variables"
            ]
        },
        {
            "cell_type": "code",
            "execution_count": 27,
            "metadata": {
                "ExecuteTime": {
                    "end_time": "2021-03-19T01:57:48.125081Z",
                    "start_time": "2021-03-19T01:57:48.119155Z"
                },
                "execution": {
                    "iopub.execute_input": "2021-09-26T22:41:54.826233Z",
                    "iopub.status.busy": "2021-09-26T22:41:54.825522Z",
                    "iopub.status.idle": "2021-09-26T22:41:54.846410Z",
                    "shell.execute_reply": "2021-09-26T22:41:54.847005Z"
                }
            },
            "outputs": [
                {
                    "data": {
                        "text/plain": [
                            "201"
                        ]
                    },
                    "execution_count": 27,
                    "metadata": {},
                    "output_type": "execute_result"
                }
            ],
            "source": [
                "len(ss.dae.xy_name)"
            ]
        },
        {
            "cell_type": "markdown",
            "metadata": {},
            "source": [
                "### Extracting Variable Data"
            ]
        },
        {
            "cell_type": "markdown",
            "metadata": {},
            "source": [
                "Let's extract the data for rotor speed (variable `omega`) of `GENROU` generators.\n",
                "The first step to extract variable data is to determine the type of the variable: differential or algebraic.\n",
                "One can print the variable to see the type:"
            ]
        },
        {
            "cell_type": "code",
            "execution_count": 28,
            "metadata": {},
            "outputs": [
                {
                    "data": {
                        "text/plain": [
                            "State: GENROU.omega, a=[4 5 6 7], v=[1.00165687 1.00166417 1.00182915 1.00184744], e=[-0.00251535 -0.00375723  0.00131868  0.00182826]"
                        ]
                    },
                    "execution_count": 28,
                    "metadata": {},
                    "output_type": "execute_result"
                }
            ],
            "source": [
                "ss.GENROU.omega"
            ]
        },
        {
            "cell_type": "markdown",
            "metadata": {},
            "source": [
                "The output shows that `omega` is a state (differential variable), which should be looked up in `ss.dae.x`. For algebraic variables such as `ss.Bus.v`, they should be looked up in `ss.dae.y`.\n",
                "\n",
                "Therefore, all `omega` variables can be extracted as follows:"
            ]
        },
        {
            "cell_type": "code",
            "execution_count": 29,
            "metadata": {},
            "outputs": [],
            "source": [
                "omega = ss.dae.ts.x[:, ss.GENROU.omega.a]"
            ]
        },
        {
            "cell_type": "markdown",
            "metadata": {},
            "source": [
                "where the `:` in the first axis will access such data for all time stamps, and\n",
                "`ss.GENROU.omega.a` stores the addresses  of all `omega` into `ss.dae.x`."
            ]
        },
        {
            "cell_type": "markdown",
            "metadata": {},
            "source": [
                "To access all bus voltages (algebraic variable `v`) of the generators, one can use:"
            ]
        },
        {
            "cell_type": "code",
            "execution_count": 30,
            "metadata": {},
            "outputs": [
                {
                    "data": {
                        "text/plain": [
                            "array([[1.        , 1.        , 1.        , 1.        ],\n",
                            "       [1.        , 1.        , 1.        , 1.        ],\n",
                            "       [1.        , 1.        , 1.        , 1.        ],\n",
                            "       ...,\n",
                            "       [1.00240968, 1.00148908, 0.99526693, 1.00007159],\n",
                            "       [1.00249935, 1.00159007, 0.99515528, 0.99997846],\n",
                            "       [1.00259067, 1.0016924 , 0.99504062, 0.999883  ]])"
                        ]
                    },
                    "execution_count": 30,
                    "metadata": {},
                    "output_type": "execute_result"
                }
            ],
            "source": [
                "ss.dae.ts.y[:, ss.GENROU.v.a]"
            ]
        },
        {
            "cell_type": "markdown",
            "metadata": {},
            "source": [
                "These data correspond to the timestamps stored in `ss.dae.ts.t`. One can process such data as necessary. \n",
                "\n",
                "To show verify the extracted data, we plot them with `ss.TDS.plt.plot_data`."
            ]
        },
        {
            "cell_type": "code",
            "execution_count": 31,
            "metadata": {},
            "outputs": [
                {
                    "data": {
                        "image/png": "[encoded data removed]",
                        "text/plain": [
                            "<Figure size 480x320 with 1 Axes>"
                        ]
                    },
                    "metadata": {
                        "needs_background": "light"
                    },
                    "output_type": "display_data"
                },
                {
                    "data": {
                        "text/plain": [
                            "(<Figure size 480x320 with 1 Axes>, <AxesSubplot:>)"
                        ]
                    },
                    "execution_count": 31,
                    "metadata": {},
                    "output_type": "execute_result"
                }
            ],
            "source": [
                "ss.TDS.plt.plot_data(ss.dae.ts.t, omega )"
            ]
        },
        {
            "cell_type": "markdown",
            "metadata": {},
            "source": [
                "## Altering Fault duration"
            ]
        },
        {
            "cell_type": "markdown",
            "metadata": {},
            "source": [
                "``Alter`` can be used for updating any model parameter. We show another example\n",
                "of updating the duration of a fault. Using the `ieee14_fault.xlsx` test case, we have"
            ]
        },
        {
            "cell_type": "code",
            "execution_count": 32,
            "metadata": {},
            "outputs": [
                {
                    "name": "stderr",
                    "output_type": "stream",
                    "text": [
                        "Working directory: \"/home/hacui/repos/andes/examples\"\n",
                        "> Loaded config from file \"/home/hacui/.andes/andes.rc\"\n",
                        "> Reloaded generated Python code of module \"pycode\".\n",
                        "Parsing input file \"/home/hacui/repos/andes/andes/cases/ieee14/ieee14_fault.xlsx\"...\n",
                        "Input file parsed in 0.0546 seconds.\n",
                        "System internal structure set up in 0.0348 seconds.\n",
                        "-> System connectivity check results:\n",
                        "  No islanded bus detected.\n",
                        "  System is interconnected.\n",
                        "  Each island has a slack bus correctly defined and enabled.\n",
                        "\n",
                        "-> Power flow calculation\n",
                        "           Numba: Off\n",
                        "   Sparse solver: KLU\n",
                        " Solution method: NR method\n",
                        "Power flow initialized in 0.0037 seconds.\n",
                        "0: |F(x)| = 0.5605182134\n",
                        "1: |F(x)| = 0.006202200332\n",
                        "2: |F(x)| = 5.819382824e-06\n",
                        "3: |F(x)| = 6.96508129e-12\n",
                        "Converged in 4 iterations in 0.0047 seconds.\n",
                        "Initialization for dynamics completed in 0.0353 seconds.\n",
                        "Initialization was successful.\n",
                        "Report saved to \"ieee14_fault_out.txt\" in 0.0021 seconds.\n"
                    ]
                },
                {
                    "name": "stdout",
                    "output_type": "stream",
                    "text": [
                        "-> Single process finished in 0.3141 seconds.\n"
                    ]
                }
            ],
            "source": [
                "ss = andes.run(get_case(\"ieee14/ieee14_fault.xlsx\"))"
            ]
        },
        {
            "cell_type": "markdown",
            "metadata": {},
            "source": [
                "Again, if you need to add devices, you should use ``ss = andes.load(..,\n",
                "setup=False)`` and ``ss.setup()`` instead of ``andes.run()``.\n",
                "\n",
                "List the existing ``Fault`` devices:"
            ]
        },
        {
            "cell_type": "code",
            "execution_count": 33,
            "metadata": {},
            "outputs": [
                {
                    "data": {
                        "text/html": [
                            "<div>\n",
                            "<style scoped>\n",
                            "    .dataframe tbody tr th:only-of-type {\n",
                            "        vertical-align: middle;\n",
                            "    }\n",
                            "\n",
                            "    .dataframe tbody tr th {\n",
                            "        vertical-align: top;\n",
                            "    }\n",
                            "\n",
                            "    .dataframe thead th {\n",
                            "        text-align: right;\n",
                            "    }\n",
                            "</style>\n",
                            "<table border=\"1\" class=\"dataframe\">\n",
                            "  <thead>\n",
                            "    <tr style=\"text-align: right;\">\n",
                            "      <th></th>\n",
                            "      <th>idx</th>\n",
                            "      <th>u</th>\n",
                            "      <th>name</th>\n",
                            "      <th>bus</th>\n",
                            "      <th>tf</th>\n",
                            "      <th>tc</th>\n",
                            "      <th>xf</th>\n",
                            "      <th>rf</th>\n",
                            "    </tr>\n",
                            "    <tr>\n",
                            "      <th>uid</th>\n",
                            "      <th></th>\n",
                            "      <th></th>\n",
                            "      <th></th>\n",
                            "      <th></th>\n",
                            "      <th></th>\n",
                            "      <th></th>\n",
                            "      <th></th>\n",
                            "      <th></th>\n",
                            "    </tr>\n",
                            "  </thead>\n",
                            "  <tbody>\n",
                            "    <tr>\n",
                            "      <th>0</th>\n",
                            "      <td>1</td>\n",
                            "      <td>1.0</td>\n",
                            "      <td>Fault_1</td>\n",
                            "      <td>9</td>\n",
                            "      <td>1.0</td>\n",
                            "      <td>1.1</td>\n",
                            "      <td>0.0001</td>\n",
                            "      <td>0.0</td>\n",
                            "    </tr>\n",
                            "  </tbody>\n",
                            "</table>\n",
                            "</div>"
                        ],
                        "text/plain": [
                            "     idx    u     name  bus   tf   tc      xf   rf\n",
                            "uid                                               \n",
                            "0      1  1.0  Fault_1    9  1.0  1.1  0.0001  0.0"
                        ]
                    },
                    "execution_count": 33,
                    "metadata": {},
                    "output_type": "execute_result"
                }
            ],
            "source": [
                "ss.Fault.as_df()"
            ]
        },
        {
            "cell_type": "markdown",
            "metadata": {},
            "source": [
                "One fault on Bus 9 is applied at t=1.0 sec and cleared at t=1.1 sec. Suppose\n",
                "that we want to clear the fault at t = 1.05 sec, we can do"
            ]
        },
        {
            "cell_type": "code",
            "execution_count": 34,
            "metadata": {},
            "outputs": [],
            "source": [
                "ss.Fault.alter('tc', 1, 1.05)  # arguments are `src`, `idx`, `value`"
            ]
        },
        {
            "cell_type": "markdown",
            "metadata": {},
            "source": [
                "where `tc` is the parameter to alter, `1` is the idx of the Fault to find, and\n",
                "`1.05` is the new value. Inspect the Fault devices to see the updated value.\n",
                "The simulation for the new system can be performed next."
            ]
        },
        {
            "cell_type": "code",
            "execution_count": 35,
            "metadata": {},
            "outputs": [
                {
                    "data": {
                        "text/html": [
                            "<div>\n",
                            "<style scoped>\n",
                            "    .dataframe tbody tr th:only-of-type {\n",
                            "        vertical-align: middle;\n",
                            "    }\n",
                            "\n",
                            "    .dataframe tbody tr th {\n",
                            "        vertical-align: top;\n",
                            "    }\n",
                            "\n",
                            "    .dataframe thead th {\n",
                            "        text-align: right;\n",
                            "    }\n",
                            "</style>\n",
                            "<table border=\"1\" class=\"dataframe\">\n",
                            "  <thead>\n",
                            "    <tr style=\"text-align: right;\">\n",
                            "      <th></th>\n",
                            "      <th>idx</th>\n",
                            "      <th>u</th>\n",
                            "      <th>name</th>\n",
                            "      <th>bus</th>\n",
                            "      <th>tf</th>\n",
                            "      <th>tc</th>\n",
                            "      <th>xf</th>\n",
                            "      <th>rf</th>\n",
                            "    </tr>\n",
                            "    <tr>\n",
                            "      <th>uid</th>\n",
                            "      <th></th>\n",
                            "      <th></th>\n",
                            "      <th></th>\n",
                            "      <th></th>\n",
                            "      <th></th>\n",
                            "      <th></th>\n",
                            "      <th></th>\n",
                            "      <th></th>\n",
                            "    </tr>\n",
                            "  </thead>\n",
                            "  <tbody>\n",
                            "    <tr>\n",
                            "      <th>0</th>\n",
                            "      <td>1</td>\n",
                            "      <td>1.0</td>\n",
                            "      <td>Fault_1</td>\n",
                            "      <td>9</td>\n",
                            "      <td>1.0</td>\n",
                            "      <td>1.05</td>\n",
                            "      <td>0.0001</td>\n",
                            "      <td>0.0</td>\n",
                            "    </tr>\n",
                            "  </tbody>\n",
                            "</table>\n",
                            "</div>"
                        ],
                        "text/plain": [
                            "     idx    u     name  bus   tf    tc      xf   rf\n",
                            "uid                                                \n",
                            "0      1  1.0  Fault_1    9  1.0  1.05  0.0001  0.0"
                        ]
                    },
                    "execution_count": 35,
                    "metadata": {},
                    "output_type": "execute_result"
                }
            ],
            "source": [
                "ss.Fault.as_df()"
            ]
        },
        {
            "cell_type": "markdown",
            "metadata": {},
            "source": [
                "## Cleanup"
            ]
        },
        {
            "cell_type": "code",
            "execution_count": 36,
            "metadata": {
                "ExecuteTime": {
                    "end_time": "2021-03-19T01:57:49.038948Z",
                    "start_time": "2021-03-19T01:57:48.127782Z"
                },
                "execution": {
                    "iopub.execute_input": "2021-09-26T22:41:54.849805Z",
                    "iopub.status.busy": "2021-09-26T22:41:54.849023Z",
                    "iopub.status.idle": "2021-09-26T22:41:56.074777Z",
                    "shell.execute_reply": "2021-09-26T22:41:56.074018Z"
                }
            },
            "outputs": [
                {
                    "name": "stdout",
                    "output_type": "stream",
                    "text": [
                        "\"/home/hacui/repos/andes/examples/kundur_full_out.txt\" removed.\r\n",
                        "\"/home/hacui/repos/andes/examples/kundur_out.lst\" removed.\r\n",
                        "\"/home/hacui/repos/andes/examples/kundur_out.npz\" removed.\r\n",
                        "\"/home/hacui/repos/andes/examples/ieee14_fault_out.txt\" removed.\r\n",
                        "\"/home/hacui/repos/andes/examples/kundur_out.txt\" removed.\r\n"
                    ]
                }
            ],
            "source": [
                "!andes misc -C"
            ]
        },
        {
            "cell_type": "code",
            "execution_count": 37,
            "metadata": {
                "execution": {
                    "iopub.execute_input": "2021-09-26T22:41:56.081852Z",
                    "iopub.status.busy": "2021-09-26T22:41:56.081368Z",
                    "iopub.status.idle": "2021-09-26T22:41:56.391028Z",
                    "shell.execute_reply": "2021-09-26T22:41:56.390296Z"
                }
            },
            "outputs": [],
            "source": [
                "!rm new_system.xlsx"
            ]
        }
    ],
    "metadata": {
        "interpreter": {
            "hash": "491bc57f30212ab10e081de3c9da13bbea8cb936a32794256be1d301e32fe2dd"
        },
        "kernelspec": {
            "display_name": "Python 3 (ipykernel)",
            "language": "python",
            "name": "python3"
        },
        "language_info": {
            "codemirror_mode": {
                "name": "ipython",
                "version": 3
            },
            "file_extension": ".py",
            "mimetype": "text/x-python",
            "name": "python",
            "nbconvert_exporter": "python",
            "pygments_lexer": "ipython3",
            "version": "3.9.10"
        },
        "pycharm": {
            "stem_cell": {
                "cell_type": "raw",
                "metadata": {
                    "collapsed": false
                },
                "source": []
            }
        },
        "varInspector": {
            "cols": {
                "lenName": 16,
                "lenType": 16,
                "lenVar": 40
            },
            "kernels_config": {
                "python": {
                    "delete_cmd_postfix": "",
                    "delete_cmd_prefix": "del ",
                    "library": "var_list.py",
                    "varRefreshCmd": "print(var_dic_list())"
                },
                "r": {
                    "delete_cmd_postfix": ") ",
                    "delete_cmd_prefix": "rm(",
                    "library": "var_list.r",
                    "varRefreshCmd": "cat(var_dic_list()) "
                }
            },
            "types_to_exclude": [
                "module",
                "function",
                "builtin_function_or_method",
                "instance",
                "_Feature"
            ],
            "window_display": false
        }
    },
    "nbformat": 4,
    "nbformat_minor": 4
}