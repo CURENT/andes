{
    "cells": [
        {
            "cell_type": "markdown",
            "metadata": {},
            "source": [
                "# Batch Processing - Generate Cases\n",
                "\n",
                "This notebook demonstrates creating cases in batch and running them in parallel."
            ]
        },
        {
            "cell_type": "markdown",
            "metadata": {},
            "source": [
                "## Create Cases in Batch\n",
                "\n",
                "The approach to create cases in batch following this procedure:\n",
                "\n",
                "- Load the base case from file\n",
                "- For each desired case output:\n",
                "  * Alter parameters to the desired value\n",
                "  * Save each system to a new case file"
            ]
        },
        {
            "cell_type": "code",
            "execution_count": 1,
            "metadata": {
                "ExecuteTime": {
                    "end_time": "2021-03-19T20:10:05.894045Z",
                    "start_time": "2021-03-19T20:10:05.363546Z"
                },
                "execution": {
                    "iopub.execute_input": "2021-09-26T22:41:50.942892Z",
                    "iopub.status.busy": "2021-09-26T22:41:50.942345Z",
                    "iopub.status.idle": "2021-09-26T22:41:51.715590Z",
                    "shell.execute_reply": "2021-09-26T22:41:51.715193Z"
                }
            },
            "outputs": [],
            "source": [
                "import andes\n",
                "import numpy as np\n",
                "from andes.utils.paths import get_case\n",
                "\n",
                "andes.config_logger(stream_level=30)  # brief logging"
            ]
        },
        {
            "cell_type": "code",
            "execution_count": 2,
            "metadata": {
                "ExecuteTime": {
                    "end_time": "2021-03-19T20:10:06.124151Z",
                    "start_time": "2021-03-19T20:10:05.896304Z"
                },
                "execution": {
                    "iopub.execute_input": "2021-09-26T22:41:51.720734Z",
                    "iopub.status.busy": "2021-09-26T22:41:51.717913Z",
                    "iopub.status.idle": "2021-09-26T22:41:52.058951Z",
                    "shell.execute_reply": "2021-09-26T22:41:52.058641Z"
                }
            },
            "outputs": [],
            "source": [
                "# create directory for output cases\n",
                "!rm -rf batch_cases\n",
                "!mkdir -p batch_cases"
            ]
        },
        {
            "cell_type": "code",
            "execution_count": 3,
            "metadata": {
                "ExecuteTime": {
                    "end_time": "2021-03-19T20:10:06.755590Z",
                    "start_time": "2021-03-19T20:10:06.126100Z"
                },
                "execution": {
                    "iopub.execute_input": "2021-09-26T22:41:52.061457Z",
                    "iopub.status.busy": "2021-09-26T22:41:52.061063Z",
                    "iopub.status.idle": "2021-09-26T22:41:52.825888Z",
                    "shell.execute_reply": "2021-09-26T22:41:52.826327Z"
                }
            },
            "outputs": [],
            "source": [
                "kundur = get_case('kundur/kundur_full.xlsx')\n",
                "ss = andes.load(kundur)"
            ]
        },
        {
            "cell_type": "markdown",
            "metadata": {},
            "source": [
                "We demonstrate running the Kundur's system under different loading conditions.\n",
                "\n",
                "Cases are created by modifying the `p0` of `PQ` with `idx == PQ_0`."
            ]
        },
        {
            "cell_type": "markdown",
            "metadata": {},
            "source": [
                "As always, input parameters can be inspected by accessing `Model.as_df(vin=True)`. "
            ]
        },
        {
            "cell_type": "code",
            "execution_count": 4,
            "metadata": {
                "ExecuteTime": {
                    "end_time": "2021-03-19T20:10:06.759454Z",
                    "start_time": "2021-03-19T20:10:06.757036Z"
                },
                "execution": {
                    "iopub.execute_input": "2021-09-26T22:41:52.828532Z",
                    "iopub.status.busy": "2021-09-26T22:41:52.827946Z",
                    "iopub.status.idle": "2021-09-26T22:41:52.830947Z",
                    "shell.execute_reply": "2021-09-26T22:41:52.831353Z"
                }
            },
            "outputs": [],
            "source": [
                "p0_base = ss.PQ.get('p0', \"PQ_0\")"
            ]
        },
        {
            "cell_type": "markdown",
            "metadata": {},
            "source": [
                "Create 3 cases so that the load increases from `p0_base` to `1.2 * p0_base`."
            ]
        },
        {
            "cell_type": "code",
            "execution_count": 5,
            "metadata": {
                "ExecuteTime": {
                    "end_time": "2021-03-19T20:10:06.768649Z",
                    "start_time": "2021-03-19T20:10:06.760828Z"
                },
                "execution": {
                    "iopub.execute_input": "2021-09-26T22:41:52.833329Z",
                    "iopub.status.busy": "2021-09-26T22:41:52.832750Z",
                    "iopub.status.idle": "2021-09-26T22:41:52.835687Z",
                    "shell.execute_reply": "2021-09-26T22:41:52.836134Z"
                }
            },
            "outputs": [],
            "source": [
                "N_CASES = 3  # Note: increase `N_CASES` as necessary\n",
                "\n",
                "p0_values = np.linspace(p0_base, 1.2 * p0_base, N_CASES)"
            ]
        },
        {
            "cell_type": "code",
            "execution_count": 6,
            "metadata": {
                "ExecuteTime": {
                    "end_time": "2021-03-19T20:10:07.439213Z",
                    "start_time": "2021-03-19T20:10:06.772000Z"
                },
                "execution": {
                    "iopub.execute_input": "2021-09-26T22:41:52.838132Z",
                    "iopub.status.busy": "2021-09-26T22:41:52.837533Z",
                    "iopub.status.idle": "2021-09-26T22:41:53.650671Z",
                    "shell.execute_reply": "2021-09-26T22:41:53.651123Z"
                },
                "scrolled": true
            },
            "outputs": [],
            "source": [
                "for value in p0_values:\n",
                "    ss.PQ.alter('p0', 'PQ_0', value)\n",
                "    file_name = f'batch_cases/kundur_p_{value:.2f}.xlsx'\n",
                "    \n",
                "    andes.io.dump(ss, 'xlsx', file_name, overwrite=True)"
            ]
        },
        {
            "cell_type": "markdown",
            "metadata": {},
            "source": [
                "## Parallel Simulation"
            ]
        },
        {
            "cell_type": "markdown",
            "metadata": {},
            "source": [
                "Parallel simulation is easy with the command line tool.\n",
                "\n",
                "Change directory to `batch_cases`:"
            ]
        },
        {
            "cell_type": "code",
            "execution_count": 7,
            "metadata": {
                "ExecuteTime": {
                    "end_time": "2021-03-19T20:10:07.442744Z",
                    "start_time": "2021-03-19T20:10:07.440551Z"
                },
                "execution": {
                    "iopub.execute_input": "2021-09-26T22:41:53.655676Z",
                    "iopub.status.busy": "2021-09-26T22:41:53.654059Z",
                    "iopub.status.idle": "2021-09-26T22:41:53.659113Z",
                    "shell.execute_reply": "2021-09-26T22:41:53.659515Z"
                }
            },
            "outputs": [],
            "source": [
                "import os\n",
                "\n",
                "# change the Python working directory\n",
                "os.chdir('batch_cases')"
            ]
        },
        {
            "cell_type": "code",
            "execution_count": 8,
            "metadata": {
                "ExecuteTime": {
                    "end_time": "2021-03-19T20:10:07.562524Z",
                    "start_time": "2021-03-19T20:10:07.444582Z"
                },
                "execution": {
                    "iopub.execute_input": "2021-09-26T22:41:53.668794Z",
                    "iopub.status.busy": "2021-09-26T22:41:53.663856Z",
                    "iopub.status.idle": "2021-09-26T22:41:53.897143Z",
                    "shell.execute_reply": "2021-09-26T22:41:53.896419Z"
                },
                "scrolled": true
            },
            "outputs": [
                {
                    "name": "stdout",
                    "output_type": "stream",
                    "text": [
                        "total 56\r\n",
                        "drwxr-xr-x 2 hacui hacui  4096 Apr 19 20:31 .\r\n",
                        "drwxr-xr-x 6 hacui hacui  4096 Apr 19 20:31 ..\r\n",
                        "-rw-r--r-- 1 hacui hacui 14841 Apr 19 20:31 kundur_p_11.59.xlsx\r\n",
                        "-rw-r--r-- 1 hacui hacui 14842 Apr 19 20:31 kundur_p_12.75.xlsx\r\n",
                        "-rw-r--r-- 1 hacui hacui 14840 Apr 19 20:31 kundur_p_13.91.xlsx\r\n"
                    ]
                }
            ],
            "source": [
                "!ls -la"
            ]
        },
        {
            "cell_type": "markdown",
            "metadata": {},
            "source": [
                "### Running from Command line"
            ]
        },
        {
            "cell_type": "code",
            "execution_count": 9,
            "metadata": {
                "ExecuteTime": {
                    "end_time": "2021-03-19T20:10:14.123195Z",
                    "start_time": "2021-03-19T20:10:07.564577Z"
                },
                "execution": {
                    "iopub.execute_input": "2021-09-26T22:41:53.904692Z",
                    "iopub.status.busy": "2021-09-26T22:41:53.904181Z",
                    "iopub.status.idle": "2021-09-26T22:41:58.657362Z",
                    "shell.execute_reply": "2021-09-26T22:41:58.657647Z"
                },
                "scrolled": false
            },
            "outputs": [
                {
                    "name": "stdout",
                    "output_type": "stream",
                    "text": [
                        "\n",
                        "    _           _         | Version 1.6.4.post10.dev0+gd1a4589d\n",
                        "   /_\\  _ _  __| |___ ___ | Python 3.9.10 on Linux, 04/19/2022 08:31:06 PM\n",
                        "  / _ \\| ' \\/ _` / -_|_-< | \n",
                        " /_/ \\_\\_||_\\__,_\\___/__/ | This program comes with ABSOLUTELY NO WARRANTY.\n",
                        "\n",
                        "Working directory: \"/home/hacui/repos/andes/examples/batch_cases\"\n",
                        "-> Processing 3 jobs on 12 CPUs.\n",
                        "Process 0 for \"kundur_p_11.59.xlsx\" started.\n",
                        "Process 1 for \"kundur_p_12.75.xlsx\" started.\n",
                        "Process 2 for \"kundur_p_13.91.xlsx\" started.\n",
                        "<Toggle 1>: Line.Line_8 status changed to 0 at t=2.0 sec.                      \n",
                        "<Toggle 1>: Line.Line_8 status changed to 0 at t=2.0 sec.                      \n",
                        "<Toggle 1>: Line.Line_8 status changed to 0 at t=2.0 sec.                      \n",
                        "100%|########################################| 100.0/100 [00:01<00:00, 89.55%/s]\n",
                        "100%|########################################| 100.0/100 [00:01<00:00, 87.15%/s]\n",
                        "100%|########################################| 100.0/100 [00:01<00:00, 83.73%/s]\n",
                        "Log saved to \"/tmp/andes-4fbaduja/andes.log\".\n",
                        "-> Multiprocessing finished in 1.7566 seconds.\n"
                    ]
                }
            ],
            "source": [
                "!andes run *.xlsx -r tds"
            ]
        },
        {
            "cell_type": "markdown",
            "metadata": {},
            "source": [
                "### Number of CPUs"
            ]
        },
        {
            "cell_type": "markdown",
            "metadata": {},
            "source": [
                "In some cases, you don't want the simulatino to use up all resources. \n",
                "\n",
                "ANDES allows to control the number of processes to run in parallel through `--ncpu NCPU`, where `NCPU` is the maximum number of processes (equivalent to the number of CPU cores) allowed. "
            ]
        },
        {
            "cell_type": "code",
            "execution_count": 10,
            "metadata": {
                "ExecuteTime": {
                    "end_time": "2021-03-19T20:10:25.477407Z",
                    "start_time": "2021-03-19T20:10:14.124795Z"
                },
                "execution": {
                    "iopub.execute_input": "2021-09-26T22:41:58.660518Z",
                    "iopub.status.busy": "2021-09-26T22:41:58.659218Z",
                    "iopub.status.idle": "2021-09-26T22:42:05.444692Z",
                    "shell.execute_reply": "2021-09-26T22:42:05.444401Z"
                },
                "scrolled": true
            },
            "outputs": [
                {
                    "name": "stdout",
                    "output_type": "stream",
                    "text": [
                        "\n",
                        "    _           _         | Version 1.6.4.post10.dev0+gd1a4589d\n",
                        "   /_\\  _ _  __| |___ ___ | Python 3.9.10 on Linux, 04/19/2022 08:31:09 PM\n",
                        "  / _ \\| ' \\/ _` / -_|_-< | \n",
                        " /_/ \\_\\_||_\\__,_\\___/__/ | This program comes with ABSOLUTELY NO WARRANTY.\n",
                        "\n",
                        "Working directory: \"/home/hacui/repos/andes/examples/batch_cases\"\n",
                        "-> Processing 3 jobs on 4 CPUs.\n",
                        "Process 0 for \"kundur_p_11.59.xlsx\" started.\n",
                        "Process 1 for \"kundur_p_12.75.xlsx\" started.\n",
                        "Process 2 for \"kundur_p_13.91.xlsx\" started.\n",
                        "<Toggle 1>: Line.Line_8 status changed to 0 at t=2.0 sec.                      \n",
                        "<Toggle 1>: Line.Line_8 status changed to 0 at t=2.0 sec.                      \n",
                        "<Toggle 1>: Line.Line_8 status changed to 0 at t=2.0 sec.                      \n",
                        "100%|########################################| 100.0/100 [00:01<00:00, 88.46%/s]\n",
                        "100%|########################################| 100.0/100 [00:01<00:00, 86.36%/s]\n",
                        "100%|########################################| 100.0/100 [00:01<00:00, 83.39%/s]\n",
                        "Log saved to \"/tmp/andes-rlpeyxo9/andes.log\".\n",
                        "-> Multiprocessing finished in 1.7693 seconds.\n"
                    ]
                }
            ],
            "source": [
                "!andes run *.xlsx -r tds --ncpu 4"
            ]
        },
        {
            "cell_type": "markdown",
            "metadata": {},
            "source": [
                "### Running with APIs"
            ]
        },
        {
            "cell_type": "markdown",
            "metadata": {},
            "source": [
                "Setting `pool = True` allows returning all system instances in a list. \n",
                "\n",
                "This comes with a penalty in computation time but can be helpful if you want to extract data directly."
            ]
        },
        {
            "cell_type": "code",
            "execution_count": 11,
            "metadata": {
                "ExecuteTime": {
                    "end_time": "2021-03-19T20:10:33.032221Z",
                    "start_time": "2021-03-19T20:10:25.478687Z"
                },
                "execution": {
                    "iopub.execute_input": "2021-09-26T22:42:05.447371Z",
                    "iopub.status.busy": "2021-09-26T22:42:05.447062Z",
                    "iopub.status.idle": "2021-09-26T22:42:09.102052Z",
                    "shell.execute_reply": "2021-09-26T22:42:09.101494Z"
                }
            },
            "outputs": [
                {
                    "name": "stderr",
                    "output_type": "stream",
                    "text": [
                        "Working directory: \"/home/hacui/repos/andes/examples/batch_cases\"\n",
                        "Found files: ['kundur_p_11.59.xlsx', 'kundur_p_12.75.xlsx', 'kundur_p_13.91.xlsx']\n",
                        "-> Processing 3 jobs on 12 CPUs.\n"
                    ]
                },
                {
                    "name": "stdout",
                    "output_type": "stream",
                    "text": [
                        "Cases are processed in the following order:\n",
                        "\"kundur_p_11.59.xlsx\"\n",
                        "\"kundur_p_12.75.xlsx\"\n",
                        "\"kundur_p_13.91.xlsx\"\n",
                        "<Toggle 1>: Line.Line_8 status changed to 0 at t=2.0 sec.<Toggle 1>: Line.Line_8 status changed to 0 at t=2.0 sec.\n",
                        "\n",
                        "<Toggle 1>: Line.Line_8 status changed to 0 at t=2.0 sec.\n",
                        "Log saved to \"/tmp/andes-lmohp4sw/andes.log\".\n",
                        "-> Multiprocessing finished in 3.2217 seconds.\n"
                    ]
                }
            ],
            "source": [
                "systems = andes.run('*.xlsx', routine='tds', pool=True, verbose=10)"
            ]
        },
        {
            "cell_type": "code",
            "execution_count": 12,
            "metadata": {
                "ExecuteTime": {
                    "end_time": "2021-03-19T20:10:33.040332Z",
                    "start_time": "2021-03-19T20:10:33.033527Z"
                },
                "execution": {
                    "iopub.execute_input": "2021-09-26T22:42:09.107478Z",
                    "iopub.status.busy": "2021-09-26T22:42:09.107221Z",
                    "iopub.status.idle": "2021-09-26T22:42:09.109556Z",
                    "shell.execute_reply": "2021-09-26T22:42:09.109338Z"
                }
            },
            "outputs": [
                {
                    "data": {
                        "text/plain": [
                            "<andes.system.System at 0x7fbaa050a070>"
                        ]
                    },
                    "execution_count": 12,
                    "metadata": {},
                    "output_type": "execute_result"
                }
            ],
            "source": [
                "systems[0]"
            ]
        },
        {
            "cell_type": "code",
            "execution_count": 13,
            "metadata": {
                "ExecuteTime": {
                    "end_time": "2021-03-19T20:10:33.047207Z",
                    "start_time": "2021-03-19T20:10:33.041609Z"
                },
                "execution": {
                    "iopub.execute_input": "2021-09-26T22:42:09.111483Z",
                    "iopub.status.busy": "2021-09-26T22:42:09.111270Z",
                    "iopub.status.idle": "2021-09-26T22:42:09.113745Z",
                    "shell.execute_reply": "2021-09-26T22:42:09.113489Z"
                }
            },
            "outputs": [
                {
                    "data": {
                        "text/plain": [
                            "[<andes.system.System at 0x7fbaa050a070>,\n",
                            " <andes.system.System at 0x7fba7bca2c70>,\n",
                            " <andes.system.System at 0x7fba7bc9db80>]"
                        ]
                    },
                    "execution_count": 13,
                    "metadata": {},
                    "output_type": "execute_result"
                }
            ],
            "source": [
                "systems"
            ]
        },
        {
            "cell_type": "markdown",
            "metadata": {},
            "source": [
                "### Example plots\n",
                "\n",
                "Plotting or data analyses can be carried out as usual."
            ]
        },
        {
            "cell_type": "code",
            "execution_count": 14,
            "metadata": {
                "ExecuteTime": {
                    "end_time": "2021-03-19T20:10:33.050379Z",
                    "start_time": "2021-03-19T20:10:33.048430Z"
                },
                "execution": {
                    "iopub.execute_input": "2021-09-26T22:42:09.115842Z",
                    "iopub.status.busy": "2021-09-26T22:42:09.115629Z",
                    "iopub.status.idle": "2021-09-26T22:42:09.117447Z",
                    "shell.execute_reply": "2021-09-26T22:42:09.117231Z"
                }
            },
            "outputs": [],
            "source": [
                "ss = systems[0]"
            ]
        },
        {
            "cell_type": "code",
            "execution_count": 15,
            "metadata": {
                "ExecuteTime": {
                    "end_time": "2021-03-19T20:10:33.737935Z",
                    "start_time": "2021-03-19T20:10:33.051823Z"
                },
                "execution": {
                    "iopub.execute_input": "2021-09-26T22:42:09.119574Z",
                    "iopub.status.busy": "2021-09-26T22:42:09.119265Z",
                    "iopub.status.idle": "2021-09-26T22:42:09.474345Z",
                    "shell.execute_reply": "2021-09-26T22:42:09.474077Z"
                }
            },
            "outputs": [
                {
                    "data": {
                        "image/png": "[encoded data removed]",
                        "text/plain": [
                            "<Figure size 480x320 with 1 Axes>"
                        ]
                    },
                    "metadata": {
                        "needs_background": "light"
                    },
                    "output_type": "display_data"
                },
                {
                    "data": {
                        "text/plain": [
                            "(<Figure size 480x320 with 1 Axes>, <AxesSubplot:xlabel='Time [s]'>)"
                        ]
                    },
                    "execution_count": 15,
                    "metadata": {},
                    "output_type": "execute_result"
                }
            ],
            "source": [
                "systems[0].TDS.plotter.plot(ss.GENROU.omega, latex=False)"
            ]
        },
        {
            "cell_type": "code",
            "execution_count": 16,
            "metadata": {
                "ExecuteTime": {
                    "end_time": "2021-03-19T20:10:34.055974Z",
                    "start_time": "2021-03-19T20:10:33.739566Z"
                },
                "execution": {
                    "iopub.execute_input": "2021-09-26T22:42:09.484068Z",
                    "iopub.status.busy": "2021-09-26T22:42:09.476367Z",
                    "iopub.status.idle": "2021-09-26T22:42:09.572706Z",
                    "shell.execute_reply": "2021-09-26T22:42:09.572415Z"
                }
            },
            "outputs": [
                {
                    "data": {
                        "image/png": "[encoded data removed]",
                        "text/plain": [
                            "<Figure size 480x320 with 1 Axes>"
                        ]
                    },
                    "metadata": {
                        "needs_background": "light"
                    },
                    "output_type": "display_data"
                },
                {
                    "data": {
                        "text/plain": [
                            "(<Figure size 480x320 with 1 Axes>, <AxesSubplot:xlabel='Time [s]'>)"
                        ]
                    },
                    "execution_count": 16,
                    "metadata": {},
                    "output_type": "execute_result"
                }
            ],
            "source": [
                "systems[2].TDS.plotter.plot(ss.GENROU.omega, latex=False)"
            ]
        },
        {
            "cell_type": "code",
            "execution_count": 17,
            "metadata": {
                "execution": {
                    "iopub.execute_input": "2021-09-26T22:42:09.578808Z",
                    "iopub.status.busy": "2021-09-26T22:42:09.574814Z",
                    "iopub.status.idle": "2021-09-26T22:42:10.064485Z",
                    "shell.execute_reply": "2021-09-26T22:42:10.064222Z"
                }
            },
            "outputs": [
                {
                    "name": "stdout",
                    "output_type": "stream",
                    "text": [
                        "No output file found in the working directory.\r\n"
                    ]
                }
            ],
            "source": [
                "!andes misc -C\n",
                "!rm -rf batch_cases"
            ]
        }
    ],
    "metadata": {
        "interpreter": {
            "hash": "4c42303ec617988e96980582546035234a0dbb343f6614254a1d5bddbb9babb9"
        },
        "kernelspec": {
            "display_name": "Python 3 (ipykernel)",
            "language": "python",
            "name": "python3"
        },
        "language_info": {
            "codemirror_mode": {
                "name": "ipython",
                "version": 3
            },
            "file_extension": ".py",
            "mimetype": "text/x-python",
            "name": "python",
            "nbconvert_exporter": "python",
            "pygments_lexer": "ipython3",
            "version": "3.9.10"
        },
        "pycharm": {
            "stem_cell": {
                "cell_type": "raw",
                "metadata": {
                    "collapsed": false
                },
                "source": []
            }
        },
        "varInspector": {
            "cols": {
                "lenName": 16,
                "lenType": 16,
                "lenVar": 40
            },
            "kernels_config": {
                "python": {
                    "delete_cmd_postfix": "",
                    "delete_cmd_prefix": "del ",
                    "library": "var_list.py",
                    "varRefreshCmd": "print(var_dic_list())"
                },
                "r": {
                    "delete_cmd_postfix": ") ",
                    "delete_cmd_prefix": "rm(",
                    "library": "var_list.r",
                    "varRefreshCmd": "cat(var_dic_list()) "
                }
            },
            "types_to_exclude": [
                "module",
                "function",
                "builtin_function_or_method",
                "instance",
                "_Feature"
            ],
            "window_display": false
        }
    },
    "nbformat": 4,
    "nbformat_minor": 4
}