{
    "cells": [
        {
            "cell_type": "markdown",
            "metadata": {},
            "source": [
                "# Load Frequency Control"
            ]
        },
        {
            "cell_type": "markdown",
            "metadata": {},
            "source": [
                "This examples shows (1) how to trip a generator, and (2) how to drive frequency back by load shedding."
            ]
        },
        {
            "cell_type": "code",
            "execution_count": 1,
            "metadata": {
                "ExecuteTime": {
                    "end_time": "2021-03-20T14:50:27.821845Z",
                    "start_time": "2021-03-20T14:50:27.457672Z"
                },
                "execution": {
                    "iopub.execute_input": "2021-09-26T22:41:51.096056Z",
                    "iopub.status.busy": "2021-09-26T22:41:51.095687Z",
                    "iopub.status.idle": "2021-09-26T22:41:51.787388Z",
                    "shell.execute_reply": "2021-09-26T22:41:51.787697Z"
                }
            },
            "outputs": [],
            "source": [
                "import andes\n",
                "import numpy as np\n",
                "\n",
                "andes.config_logger(stream_level=20)"
            ]
        },
        {
            "cell_type": "markdown",
            "metadata": {},
            "source": [
                "## Tripping a Generator in the IEEE 14-Bus System"
            ]
        },
        {
            "cell_type": "code",
            "execution_count": 2,
            "metadata": {
                "ExecuteTime": {
                    "end_time": "2021-03-20T14:50:27.825186Z",
                    "start_time": "2021-03-20T14:50:27.823356Z"
                },
                "execution": {
                    "iopub.execute_input": "2021-09-26T22:41:51.791619Z",
                    "iopub.status.busy": "2021-09-26T22:41:51.791291Z",
                    "iopub.status.idle": "2021-09-26T22:41:51.793147Z",
                    "shell.execute_reply": "2021-09-26T22:41:51.792812Z"
                }
            },
            "outputs": [],
            "source": [
                "# using the IEEE 14-bus model as an example. \n",
                "# The example here contains a variety of models: generators, exciters, turbine governors, and PSS\n",
                "# To speed up, one can remove unneeded ones, e.g., PSS\n",
                "\n",
                "ieee14_raw = andes.get_case(\"ieee14/ieee14.raw\")\n",
                "ieee14_dyr = andes.get_case(\"ieee14/ieee14.dyr\")"
            ]
        },
        {
            "cell_type": "code",
            "execution_count": 3,
            "metadata": {
                "ExecuteTime": {
                    "end_time": "2021-03-20T14:50:28.180552Z",
                    "start_time": "2021-03-20T14:50:27.826164Z"
                },
                "execution": {
                    "iopub.execute_input": "2021-09-26T22:41:51.795909Z",
                    "iopub.status.busy": "2021-09-26T22:41:51.794488Z",
                    "iopub.status.idle": "2021-09-26T22:41:52.329282Z",
                    "shell.execute_reply": "2021-09-26T22:41:52.329629Z"
                }
            },
            "outputs": [
                {
                    "name": "stderr",
                    "output_type": "stream",
                    "text": [
                        "Working directory: \"/home/hacui/repos/andes/examples\"\n",
                        "> Loaded config from file \"/home/hacui/.andes/andes.rc\"\n",
                        "> Loaded generated Python code in \"/home/hacui/.andes/pycode\".\n",
                        "Parsing input file \"/home/hacui/repos/andes/andes/cases/ieee14/ieee14.raw\"...\n",
                        "  IEEE 14 BUS TEST CASE\n",
                        "  03/06/14 CONTO           100.0  1962 W\n",
                        "Input file parsed in 0.0119 seconds.\n",
                        "Parsing additional file \"/home/hacui/repos/andes/andes/cases/ieee14/ieee14.dyr\"...\n",
                        "Addfile parsed in 0.2965 seconds.\n"
                    ]
                }
            ],
            "source": [
                "# use `andes.load` to load the test system\n",
                "# Need to set `setup=False` to be able to add new Toggles that turns off generators.\n",
                "\n",
                "ss = andes.load(ieee14_raw, addfile=ieee14_dyr, setup=False)"
            ]
        },
        {
            "cell_type": "code",
            "execution_count": 4,
            "metadata": {
                "ExecuteTime": {
                    "end_time": "2021-03-20T14:50:28.195344Z",
                    "start_time": "2021-03-20T14:50:28.182981Z"
                },
                "execution": {
                    "iopub.execute_input": "2021-09-26T22:41:52.335603Z",
                    "iopub.status.busy": "2021-09-26T22:41:52.335180Z",
                    "iopub.status.idle": "2021-09-26T22:41:52.338935Z",
                    "shell.execute_reply": "2021-09-26T22:41:52.338703Z"
                }
            },
            "outputs": [
                {
                    "data": {
                        "text/plain": [
                            "'Toggle_3'"
                        ]
                    },
                    "execution_count": 4,
                    "metadata": {},
                    "output_type": "execute_result"
                }
            ],
            "source": [
                "# Add a Toggle that disconnects `GENROU_2` at t=1 s\n",
                "\n",
                "ss.add(\"Toggle\", dict(model='SynGen', dev=\"GENROU_2\", t=1.0))"
            ]
        },
        {
            "cell_type": "code",
            "execution_count": 5,
            "metadata": {
                "ExecuteTime": {
                    "end_time": "2021-03-20T14:50:28.229260Z",
                    "start_time": "2021-03-20T14:50:28.196728Z"
                },
                "execution": {
                    "iopub.execute_input": "2021-09-26T22:41:52.358570Z",
                    "iopub.status.busy": "2021-09-26T22:41:52.341824Z",
                    "iopub.status.idle": "2021-09-26T22:41:52.388612Z",
                    "shell.execute_reply": "2021-09-26T22:41:52.388287Z"
                }
            },
            "outputs": [
                {
                    "name": "stderr",
                    "output_type": "stream",
                    "text": [
                        "IEEEST <IEEEST_1> added BusFreq <BusFreq_1> linked to bus <3.0>\n",
                        "ST2CUT <ST2CUT_2> added BusFreq <BusFreq_2> linked to bus <1.0>\n",
                        "ST2CUT <ST2CUT_3> added BusFreq <BusFreq_3> linked to bus <2.0>\n",
                        "System internal structure set up in 0.0750 seconds.\n"
                    ]
                },
                {
                    "data": {
                        "text/plain": [
                            "True"
                        ]
                    },
                    "execution_count": 5,
                    "metadata": {},
                    "output_type": "execute_result"
                }
            ],
            "source": [
                "# Call setup manually\n",
                "\n",
                "ss.setup()"
            ]
        },
        {
            "cell_type": "code",
            "execution_count": 6,
            "metadata": {
                "ExecuteTime": {
                    "end_time": "2021-03-20T14:50:28.240488Z",
                    "start_time": "2021-03-20T14:50:28.230390Z"
                },
                "execution": {
                    "iopub.execute_input": "2021-09-26T22:41:52.398951Z",
                    "iopub.status.busy": "2021-09-26T22:41:52.396091Z",
                    "iopub.status.idle": "2021-09-26T22:41:52.408084Z",
                    "shell.execute_reply": "2021-09-26T22:41:52.405814Z"
                }
            },
            "outputs": [
                {
                    "data": {
                        "text/html": [
                            "<div>\n",
                            "<style scoped>\n",
                            "    .dataframe tbody tr th:only-of-type {\n",
                            "        vertical-align: middle;\n",
                            "    }\n",
                            "\n",
                            "    .dataframe tbody tr th {\n",
                            "        vertical-align: top;\n",
                            "    }\n",
                            "\n",
                            "    .dataframe thead th {\n",
                            "        text-align: right;\n",
                            "    }\n",
                            "</style>\n",
                            "<table border=\"1\" class=\"dataframe\">\n",
                            "  <thead>\n",
                            "    <tr style=\"text-align: right;\">\n",
                            "      <th></th>\n",
                            "      <th>idx</th>\n",
                            "      <th>u</th>\n",
                            "      <th>name</th>\n",
                            "      <th>model</th>\n",
                            "      <th>dev</th>\n",
                            "      <th>t</th>\n",
                            "    </tr>\n",
                            "    <tr>\n",
                            "      <th>uid</th>\n",
                            "      <th></th>\n",
                            "      <th></th>\n",
                            "      <th></th>\n",
                            "      <th></th>\n",
                            "      <th></th>\n",
                            "      <th></th>\n",
                            "    </tr>\n",
                            "  </thead>\n",
                            "  <tbody>\n",
                            "    <tr>\n",
                            "      <th>0</th>\n",
                            "      <td>Toggle_1</td>\n",
                            "      <td>1.0</td>\n",
                            "      <td>Toggle_1</td>\n",
                            "      <td>Line</td>\n",
                            "      <td>Line_1</td>\n",
                            "      <td>1.0</td>\n",
                            "    </tr>\n",
                            "    <tr>\n",
                            "      <th>1</th>\n",
                            "      <td>Toggle_2</td>\n",
                            "      <td>1.0</td>\n",
                            "      <td>Toggle_2</td>\n",
                            "      <td>Line</td>\n",
                            "      <td>Line_1</td>\n",
                            "      <td>1.1</td>\n",
                            "    </tr>\n",
                            "    <tr>\n",
                            "      <th>2</th>\n",
                            "      <td>Toggle_3</td>\n",
                            "      <td>1.0</td>\n",
                            "      <td>Toggle_3</td>\n",
                            "      <td>SynGen</td>\n",
                            "      <td>GENROU_2</td>\n",
                            "      <td>1.0</td>\n",
                            "    </tr>\n",
                            "  </tbody>\n",
                            "</table>\n",
                            "</div>"
                        ],
                        "text/plain": [
                            "           idx    u       name   model       dev    t\n",
                            "uid                                                  \n",
                            "0    Toggle_1  1.0  Toggle_1    Line    Line_1  1.0\n",
                            "1    Toggle_2  1.0  Toggle_2    Line    Line_1  1.1\n",
                            "2    Toggle_3  1.0  Toggle_3  SynGen  GENROU_2  1.0"
                        ]
                    },
                    "execution_count": 6,
                    "metadata": {},
                    "output_type": "execute_result"
                }
            ],
            "source": [
                "# double check that Toggles are set up correctly\n",
                "# Check `u` of the Toggles - the first two line switches are disabled, and the generator trip is enabled\n",
                "\n",
                "ss.Toggle.as_df()"
            ]
        },
        {
            "cell_type": "code",
            "execution_count": 7,
            "metadata": {
                "ExecuteTime": {
                    "end_time": "2021-03-20T14:50:28.243800Z",
                    "start_time": "2021-03-20T14:50:28.241738Z"
                },
                "execution": {
                    "iopub.execute_input": "2021-09-26T22:41:52.411440Z",
                    "iopub.status.busy": "2021-09-26T22:41:52.410963Z",
                    "iopub.status.idle": "2021-09-26T22:41:52.413395Z",
                    "shell.execute_reply": "2021-09-26T22:41:52.413112Z"
                }
            },
            "outputs": [],
            "source": [
                "# disable existing line switches\n",
                "# The IEEE 14-bus system contains predefined line switches. Disabling them to study generator trip only.\n",
                "\n",
                "ss.Toggle.u.v[[0, 1]] = 0"
            ]
        },
        {
            "cell_type": "code",
            "execution_count": 8,
            "metadata": {
                "ExecuteTime": {
                    "end_time": "2021-03-20T14:50:28.269619Z",
                    "start_time": "2021-03-20T14:50:28.245482Z"
                },
                "execution": {
                    "iopub.execute_input": "2021-09-26T22:41:52.425054Z",
                    "iopub.status.busy": "2021-09-26T22:41:52.424516Z",
                    "iopub.status.idle": "2021-09-26T22:41:52.448538Z",
                    "shell.execute_reply": "2021-09-26T22:41:52.448295Z"
                }
            },
            "outputs": [
                {
                    "name": "stderr",
                    "output_type": "stream",
                    "text": [
                        "-> System connectivity check results:\n",
                        "  No islanded bus detected.\n",
                        "  System is interconnected.\n",
                        "  Each island has a slack bus correctly defined and enabled.\n",
                        "\n",
                        "-> Power flow calculation\n",
                        "           Numba: Off\n",
                        "   Sparse solver: KLU\n",
                        " Solution method: NR method\n",
                        "Power flow initialized in 0.0101 seconds.\n",
                        "0: |F(x)| = 0.5605182134\n",
                        "1: |F(x)| = 0.006202200332\n",
                        "2: |F(x)| = 5.819382824e-06\n",
                        "3: |F(x)| = 6.96508129e-12\n",
                        "Converged in 4 iterations in 0.0111 seconds.\n",
                        "Initialization for dynamics completed in 0.0575 seconds.\n",
                        "Initialization was successful.\n",
                        "Report saved to \"ieee14_out.txt\" in 0.0083 seconds.\n"
                    ]
                },
                {
                    "data": {
                        "text/plain": [
                            "True"
                        ]
                    },
                    "execution_count": 8,
                    "metadata": {},
                    "output_type": "execute_result"
                }
            ],
            "source": [
                "# calculate power flow\n",
                "\n",
                "# use constant power model for PQ (we will come back to this later)\n",
                "\n",
                "ss.PQ.config.p2p = 1\n",
                "ss.PQ.config.q2q = 1\n",
                "ss.PQ.config.p2z = 0\n",
                "ss.PQ.config.q2z = 0\n",
                "\n",
                "# turn off under-voltage PQ-to-Z conversion\n",
                "ss.PQ.pq2z = 0\n",
                "\n",
                "ss.PFlow.run()"
            ]
        },
        {
            "cell_type": "code",
            "execution_count": 9,
            "metadata": {
                "ExecuteTime": {
                    "end_time": "2021-03-20T14:50:31.946502Z",
                    "start_time": "2021-03-20T14:50:28.271492Z"
                },
                "execution": {
                    "iopub.execute_input": "2021-09-26T22:41:52.451872Z",
                    "iopub.status.busy": "2021-09-26T22:41:52.451592Z",
                    "iopub.status.idle": "2021-09-26T22:41:58.820742Z",
                    "shell.execute_reply": "2021-09-26T22:41:58.821072Z"
                }
            },
            "outputs": [
                {
                    "name": "stderr",
                    "output_type": "stream",
                    "text": [
                        "\n",
                        "-> Time Domain Simulation Summary:\n",
                        "Sparse Solver: KLU\n",
                        "Simulation time: 0.0-20 s.\n",
                        "Fixed step size: h=33.33 ms. Shrink if not converged.\n"
                    ]
                },
                {
                    "data": {
                        "application/vnd.jupyter.widget-view+json": {
                            "model_id": "196f6939366c4034bb80040dbebff9ce",
                            "version_major": 2,
                            "version_minor": 0
                        },
                        "text/plain": [
                            "  0%|          | 0/100 [00:00<?, ?%/s]"
                        ]
                    },
                    "metadata": {},
                    "output_type": "display_data"
                },
                {
                    "name": "stdout",
                    "output_type": "stream",
                    "text": [
                        "<Toggle Toggle_3>: SynGen.GENROU_2 status changed to 0 at t=1.0 sec.\n"
                    ]
                },
                {
                    "name": "stderr",
                    "output_type": "stream",
                    "text": [
                        "Simulation completed in 2.9748 seconds.\n",
                        "Outputs to \"ieee14_out.lst\" and \"ieee14_out.npz\".\n",
                        "Outputs written in 0.0421 seconds.\n"
                    ]
                },
                {
                    "data": {
                        "text/plain": [
                            "True"
                        ]
                    },
                    "execution_count": 9,
                    "metadata": {},
                    "output_type": "execute_result"
                }
            ],
            "source": [
                "# set the first simulation stop and run it\n",
                "\n",
                "ss.TDS.config.tf = 20\n",
                "ss.TDS.config.criteria = 0  # temporarily turn off stability criteria based on angle separation\n",
                "ss.TDS.run()"
            ]
        },
        {
            "cell_type": "code",
            "execution_count": 10,
            "metadata": {
                "ExecuteTime": {
                    "end_time": "2021-03-20T14:50:33.637699Z",
                    "start_time": "2021-03-20T14:50:31.947639Z"
                },
                "execution": {
                    "iopub.execute_input": "2021-09-26T22:41:58.836715Z",
                    "iopub.status.busy": "2021-09-26T22:41:58.836316Z",
                    "iopub.status.idle": "2021-09-26T22:41:59.376063Z",
                    "shell.execute_reply": "2021-09-26T22:41:59.375772Z"
                }
            },
            "outputs": [
                {
                    "data": {
                        "image/png": "[encoded data removed]",
                        "text/plain": [
                            "<Figure size 480x320 with 1 Axes>"
                        ]
                    },
                    "metadata": {
                        "needs_background": "light"
                    },
                    "output_type": "display_data"
                },
                {
                    "data": {
                        "text/plain": [
                            "(<Figure size 480x320 with 1 Axes>, <AxesSubplot:xlabel='Time [s]'>)"
                        ]
                    },
                    "execution_count": 10,
                    "metadata": {},
                    "output_type": "execute_result"
                }
            ],
            "source": [
                "# Show the frequency response of online generators\n",
                "\n",
                "# Refer to `plot` documentation by using `help(ss.TDS.plt.plot)` and `help(ss.TDS.plt.plot_data)`\n",
                "ss.TDS.load_plotter()\n",
                "\n",
                "ss.TDS.plt.plot(ss.GENROU.omega,\n",
                "                a=(0, 2, 3, 4),\n",
                "                ytimes=60,\n",
                "               )"
            ]
        },
        {
            "cell_type": "markdown",
            "metadata": {},
            "source": [
                "## Adjusting Load to Compensate for the Generation Loss"
            ]
        },
        {
            "cell_type": "markdown",
            "metadata": {},
            "source": [
                "Check the power of the lost generator by inspecting the power flow inputs:"
            ]
        },
        {
            "cell_type": "code",
            "execution_count": 11,
            "metadata": {
                "ExecuteTime": {
                    "end_time": "2021-03-20T14:50:33.653861Z",
                    "start_time": "2021-03-20T14:50:33.638918Z"
                },
                "execution": {
                    "iopub.execute_input": "2021-09-26T22:41:59.390416Z",
                    "iopub.status.busy": "2021-09-26T22:41:59.381392Z",
                    "iopub.status.idle": "2021-09-26T22:41:59.392998Z",
                    "shell.execute_reply": "2021-09-26T22:41:59.392675Z"
                },
                "scrolled": true
            },
            "outputs": [
                {
                    "data": {
                        "text/html": [
                            "<div>\n",
                            "<style scoped>\n",
                            "    .dataframe tbody tr th:only-of-type {\n",
                            "        vertical-align: middle;\n",
                            "    }\n",
                            "\n",
                            "    .dataframe tbody tr th {\n",
                            "        vertical-align: top;\n",
                            "    }\n",
                            "\n",
                            "    .dataframe thead th {\n",
                            "        text-align: right;\n",
                            "    }\n",
                            "</style>\n",
                            "<table border=\"1\" class=\"dataframe\">\n",
                            "  <thead>\n",
                            "    <tr style=\"text-align: right;\">\n",
                            "      <th></th>\n",
                            "      <th>idx</th>\n",
                            "      <th>u</th>\n",
                            "      <th>name</th>\n",
                            "      <th>Sn</th>\n",
                            "      <th>Vn</th>\n",
                            "      <th>bus</th>\n",
                            "      <th>busr</th>\n",
                            "      <th>p0</th>\n",
                            "      <th>q0</th>\n",
                            "      <th>pmax</th>\n",
                            "      <th>pmin</th>\n",
                            "      <th>qmax</th>\n",
                            "      <th>qmin</th>\n",
                            "      <th>v0</th>\n",
                            "      <th>vmax</th>\n",
                            "      <th>vmin</th>\n",
                            "      <th>ra</th>\n",
                            "      <th>xs</th>\n",
                            "    </tr>\n",
                            "    <tr>\n",
                            "      <th>uid</th>\n",
                            "      <th></th>\n",
                            "      <th></th>\n",
                            "      <th></th>\n",
                            "      <th></th>\n",
                            "      <th></th>\n",
                            "      <th></th>\n",
                            "      <th></th>\n",
                            "      <th></th>\n",
                            "      <th></th>\n",
                            "      <th></th>\n",
                            "      <th></th>\n",
                            "      <th></th>\n",
                            "      <th></th>\n",
                            "      <th></th>\n",
                            "      <th></th>\n",
                            "      <th></th>\n",
                            "      <th></th>\n",
                            "      <th></th>\n",
                            "    </tr>\n",
                            "  </thead>\n",
                            "  <tbody>\n",
                            "    <tr>\n",
                            "      <th>0</th>\n",
                            "      <td>2</td>\n",
                            "      <td>0.0</td>\n",
                            "      <td>2</td>\n",
                            "      <td>100.0</td>\n",
                            "      <td>69.0</td>\n",
                            "      <td>2</td>\n",
                            "      <td>None</td>\n",
                            "      <td>0.40</td>\n",
                            "      <td>0.15</td>\n",
                            "      <td>0.5</td>\n",
                            "      <td>0.1</td>\n",
                            "      <td>0.15</td>\n",
                            "      <td>-0.40</td>\n",
                            "      <td>1.03</td>\n",
                            "      <td>1.4</td>\n",
                            "      <td>0.6</td>\n",
                            "      <td>0.0</td>\n",
                            "      <td>0.13</td>\n",
                            "    </tr>\n",
                            "    <tr>\n",
                            "      <th>1</th>\n",
                            "      <td>3</td>\n",
                            "      <td>0.0</td>\n",
                            "      <td>3</td>\n",
                            "      <td>100.0</td>\n",
                            "      <td>69.0</td>\n",
                            "      <td>3</td>\n",
                            "      <td>None</td>\n",
                            "      <td>0.40</td>\n",
                            "      <td>0.15</td>\n",
                            "      <td>0.5</td>\n",
                            "      <td>0.1</td>\n",
                            "      <td>0.15</td>\n",
                            "      <td>-0.10</td>\n",
                            "      <td>1.01</td>\n",
                            "      <td>1.4</td>\n",
                            "      <td>0.6</td>\n",
                            "      <td>0.0</td>\n",
                            "      <td>0.13</td>\n",
                            "    </tr>\n",
                            "    <tr>\n",
                            "      <th>2</th>\n",
                            "      <td>4</td>\n",
                            "      <td>0.0</td>\n",
                            "      <td>4</td>\n",
                            "      <td>100.0</td>\n",
                            "      <td>138.0</td>\n",
                            "      <td>6</td>\n",
                            "      <td>None</td>\n",
                            "      <td>0.30</td>\n",
                            "      <td>0.10</td>\n",
                            "      <td>0.5</td>\n",
                            "      <td>0.1</td>\n",
                            "      <td>0.10</td>\n",
                            "      <td>-0.06</td>\n",
                            "      <td>1.03</td>\n",
                            "      <td>1.4</td>\n",
                            "      <td>0.6</td>\n",
                            "      <td>0.0</td>\n",
                            "      <td>0.12</td>\n",
                            "    </tr>\n",
                            "    <tr>\n",
                            "      <th>3</th>\n",
                            "      <td>5</td>\n",
                            "      <td>0.0</td>\n",
                            "      <td>5</td>\n",
                            "      <td>100.0</td>\n",
                            "      <td>69.0</td>\n",
                            "      <td>8</td>\n",
                            "      <td>None</td>\n",
                            "      <td>0.35</td>\n",
                            "      <td>0.10</td>\n",
                            "      <td>0.5</td>\n",
                            "      <td>0.1</td>\n",
                            "      <td>0.10</td>\n",
                            "      <td>-0.06</td>\n",
                            "      <td>1.03</td>\n",
                            "      <td>1.4</td>\n",
                            "      <td>0.6</td>\n",
                            "      <td>0.0</td>\n",
                            "      <td>0.12</td>\n",
                            "    </tr>\n",
                            "  </tbody>\n",
                            "</table>\n",
                            "</div>"
                        ],
                        "text/plain": [
                            "     idx    u  name     Sn     Vn  bus  busr    p0    q0  pmax  pmin  qmax  \\\n",
                            "uid                                                                          \n",
                            "0      2  0.0     2  100.0   69.0    2  None  0.40  0.15   0.5   0.1  0.15   \n",
                            "1      3  0.0     3  100.0   69.0    3  None  0.40  0.15   0.5   0.1  0.15   \n",
                            "2      4  0.0     4  100.0  138.0    6  None  0.30  0.10   0.5   0.1  0.10   \n",
                            "3      5  0.0     5  100.0   69.0    8  None  0.35  0.10   0.5   0.1  0.10   \n",
                            "\n",
                            "     qmin    v0  vmax  vmin   ra    xs  \n",
                            "uid                                     \n",
                            "0   -0.40  1.03   1.4   0.6  0.0  0.13  \n",
                            "1   -0.10  1.01   1.4   0.6  0.0  0.13  \n",
                            "2   -0.06  1.03   1.4   0.6  0.0  0.12  \n",
                            "3   -0.06  1.03   1.4   0.6  0.0  0.12  "
                        ]
                    },
                    "execution_count": 11,
                    "metadata": {},
                    "output_type": "execute_result"
                }
            ],
            "source": [
                "ss.PV.as_df()"
            ]
        },
        {
            "cell_type": "markdown",
            "metadata": {},
            "source": [
                "The tripped GENROU_2 correspond to the first PV (GENROU_1 corresponds to Slack). Thus, the lost active power is 0.40 pu.\n",
                "\n",
                "Let's compensate for that by shedding 0.4 pu of active power load at t=2.0 s.\n",
                "\n",
                "By checking the equation documentation of PQ (using `print(ss.PQ.doc())`, we can tell that the imposed active power for time-domain simulation is from `Ppf`, because we used the constant power model with `p2p = 1`.\n",
                "\n",
                "```\n",
                "Algebraic Equations\n",
                "\n",
                "Name |   Type   |                RHS of Equation \"0 = g(x, y)\"                \n",
                "-----+----------+-------------------------------------------------------------\n",
                " a   | ExtAlgeb | u * (dae_t <= 0) * (p0 * vcmp_zi + Rlb * vcmp_zl * v**2 +   \n",
                "     |          | Rub * vcmp_zu * v**2) + u * (dae_t > 0) * (p2p * Ppf + p2i *\n",
                "     |          | Ipeq * v + p2z * Req * v**2)                                \n",
                " v   | ExtAlgeb | u * (dae_t <= 0) * (q0 * vcmp_zi + Xlb * vcmp_zl * v**2 +   \n",
                "     |          | Xub * vcmp_zu * v**2) + u * (dae_t > 0) * (q2q * Qpf + q2i *\n",
                "     |          | Iqeq * v + q2z * Xeq * v**2)                                \n",
                "\n",
                "```\n",
                "\n",
                "`Ppf` may be different from `p0` specified in the data file."
            ]
        },
        {
            "cell_type": "code",
            "execution_count": 12,
            "metadata": {
                "ExecuteTime": {
                    "end_time": "2021-03-20T14:50:33.662293Z",
                    "start_time": "2021-03-20T14:50:33.655315Z"
                },
                "execution": {
                    "iopub.execute_input": "2021-09-26T22:41:59.396349Z",
                    "iopub.status.busy": "2021-09-26T22:41:59.396108Z",
                    "iopub.status.idle": "2021-09-26T22:41:59.398474Z",
                    "shell.execute_reply": "2021-09-26T22:41:59.398257Z"
                }
            },
            "outputs": [
                {
                    "data": {
                        "text/plain": [
                            "array([0.217, 0.5  , 0.478, 0.076, 0.15 , 0.295, 0.09 , 0.035, 0.061,\n",
                            "       0.135, 0.2  ])"
                        ]
                    },
                    "execution_count": 12,
                    "metadata": {},
                    "output_type": "execute_result"
                }
            ],
            "source": [
                "# active power from power flow solution - make a copy\n",
                "\n",
                "Ppf = np.array(ss.PQ.Ppf.v)\n",
                "\n",
                "Ppf"
            ]
        },
        {
            "cell_type": "markdown",
            "metadata": {},
            "source": [
                "Reload the system and add the generator trip."
            ]
        },
        {
            "cell_type": "code",
            "execution_count": 13,
            "metadata": {
                "ExecuteTime": {
                    "end_time": "2021-03-20T14:50:33.843520Z",
                    "start_time": "2021-03-20T14:50:33.664077Z"
                },
                "execution": {
                    "iopub.execute_input": "2021-09-26T22:41:59.401976Z",
                    "iopub.status.busy": "2021-09-26T22:41:59.401670Z",
                    "iopub.status.idle": "2021-09-26T22:41:59.781185Z",
                    "shell.execute_reply": "2021-09-26T22:41:59.780928Z"
                }
            },
            "outputs": [
                {
                    "name": "stderr",
                    "output_type": "stream",
                    "text": [
                        "Working directory: \"/home/hacui/repos/andes/examples\"\n",
                        "> Loaded config from file \"/home/hacui/.andes/andes.rc\"\n",
                        "> Reloaded generated Python code of module \"pycode\".\n",
                        "Parsing input file \"/home/hacui/repos/andes/andes/cases/ieee14/ieee14.raw\"...\n",
                        "  IEEE 14 BUS TEST CASE\n",
                        "  03/06/14 CONTO           100.0  1962 W\n",
                        "Input file parsed in 0.0047 seconds.\n",
                        "Parsing additional file \"/home/hacui/repos/andes/andes/cases/ieee14/ieee14.dyr\"...\n",
                        "Addfile parsed in 0.1101 seconds.\n",
                        "IEEEST <IEEEST_1> added BusFreq <BusFreq_1> linked to bus <3.0>\n",
                        "ST2CUT <ST2CUT_2> added BusFreq <BusFreq_2> linked to bus <1.0>\n",
                        "ST2CUT <ST2CUT_3> added BusFreq <BusFreq_3> linked to bus <2.0>\n",
                        "System internal structure set up in 0.0547 seconds.\n",
                        "-> System connectivity check results:\n",
                        "  No islanded bus detected.\n",
                        "  System is interconnected.\n",
                        "  Each island has a slack bus correctly defined and enabled.\n",
                        "\n",
                        "-> Power flow calculation\n",
                        "           Numba: Off\n",
                        "   Sparse solver: KLU\n",
                        " Solution method: NR method\n",
                        "Power flow initialized in 0.0040 seconds.\n",
                        "0: |F(x)| = 0.5605182134\n",
                        "1: |F(x)| = 0.006202200332\n",
                        "2: |F(x)| = 5.819382824e-06\n",
                        "3: |F(x)| = 6.96508129e-12\n",
                        "Converged in 4 iterations in 0.0065 seconds.\n",
                        "Initialization for dynamics completed in 0.0547 seconds.\n",
                        "Initialization was successful.\n",
                        "Report saved to \"ieee14_out.txt\" in 0.0028 seconds.\n"
                    ]
                },
                {
                    "data": {
                        "text/plain": [
                            "True"
                        ]
                    },
                    "execution_count": 13,
                    "metadata": {},
                    "output_type": "execute_result"
                }
            ],
            "source": [
                "ss = andes.load(ieee14_raw, addfile=ieee14_dyr, setup=False)\n",
                "\n",
                "ss.add(\"Toggle\", dict(model='SynGen', dev=\"GENROU_2\", t=1.0))\n",
                "ss.setup()\n",
                "ss.Toggle.u.v[[0, 1]] = 0\n",
                "\n",
                "ss.PQ.config.p2p = 1\n",
                "ss.PQ.config.q2q = 1\n",
                "ss.PQ.config.p2z = 0\n",
                "ss.PQ.config.q2z = 0\n",
                "ss.PQ.pq2z = 0\n",
                "\n",
                "ss.PFlow.run()"
            ]
        },
        {
            "cell_type": "markdown",
            "metadata": {},
            "source": [
                "But let's run to 2 seconds."
            ]
        },
        {
            "cell_type": "code",
            "execution_count": 14,
            "metadata": {
                "ExecuteTime": {
                    "end_time": "2021-03-20T14:50:34.359640Z",
                    "start_time": "2021-03-20T14:50:33.844497Z"
                },
                "execution": {
                    "iopub.execute_input": "2021-09-26T22:41:59.783772Z",
                    "iopub.status.busy": "2021-09-26T22:41:59.783385Z",
                    "iopub.status.idle": "2021-09-26T22:42:00.427589Z",
                    "shell.execute_reply": "2021-09-26T22:42:00.427211Z"
                }
            },
            "outputs": [
                {
                    "name": "stderr",
                    "output_type": "stream",
                    "text": [
                        "\n",
                        "-> Time Domain Simulation Summary:\n",
                        "Sparse Solver: KLU\n",
                        "Simulation time: 0.0-2.0 s.\n",
                        "Fixed step size: h=33.33 ms. Shrink if not converged.\n"
                    ]
                },
                {
                    "data": {
                        "application/vnd.jupyter.widget-view+json": {
                            "model_id": "532dc5397a8e454aa2edb338ba8c6727",
                            "version_major": 2,
                            "version_minor": 0
                        },
                        "text/plain": [
                            "  0%|          | 0/100 [00:00<?, ?%/s]"
                        ]
                    },
                    "metadata": {},
                    "output_type": "display_data"
                },
                {
                    "name": "stdout",
                    "output_type": "stream",
                    "text": [
                        "<Toggle Toggle_3>: SynGen.GENROU_2 status changed to 0 at t=1.0 sec.\n"
                    ]
                },
                {
                    "name": "stderr",
                    "output_type": "stream",
                    "text": [
                        "Simulation completed in 0.2567 seconds.\n",
                        "Outputs to \"ieee14_out.lst\" and \"ieee14_out.npz\".\n",
                        "Outputs written in 0.0043 seconds.\n"
                    ]
                },
                {
                    "data": {
                        "text/plain": [
                            "True"
                        ]
                    },
                    "execution_count": 14,
                    "metadata": {},
                    "output_type": "execute_result"
                }
            ],
            "source": [
                "ss.TDS.config.tf = 2.0\n",
                "ss.TDS.config.criteria = 0  # temporarily turn off stability criteria based on angle separation\n",
                "\n",
                "ss.TDS.run()"
            ]
        },
        {
            "cell_type": "code",
            "execution_count": 15,
            "metadata": {
                "ExecuteTime": {
                    "end_time": "2021-03-20T14:50:34.365314Z",
                    "start_time": "2021-03-20T14:50:34.361320Z"
                },
                "execution": {
                    "iopub.execute_input": "2021-09-26T22:42:00.431018Z",
                    "iopub.status.busy": "2021-09-26T22:42:00.430731Z",
                    "iopub.status.idle": "2021-09-26T22:42:00.432747Z",
                    "shell.execute_reply": "2021-09-26T22:42:00.432950Z"
                }
            },
            "outputs": [
                {
                    "data": {
                        "text/plain": [
                            "array([0.217, 0.5  , 0.478, 0.076, 0.15 , 0.295, 0.09 , 0.035, 0.061,\n",
                            "       0.135, 0.2  ])"
                        ]
                    },
                    "execution_count": 15,
                    "metadata": {},
                    "output_type": "execute_result"
                }
            ],
            "source": [
                "# all `Ppf` before shedding\n",
                "\n",
                "ss.PQ.Ppf.v"
            ]
        },
        {
            "cell_type": "markdown",
            "metadata": {},
            "source": [
                "And then apply the load shedding on buses 2, 3, 4, 5, 6, 9."
            ]
        },
        {
            "cell_type": "code",
            "execution_count": 16,
            "metadata": {
                "ExecuteTime": {
                    "end_time": "2021-03-20T14:50:34.371683Z",
                    "start_time": "2021-03-20T14:50:34.366907Z"
                },
                "execution": {
                    "iopub.execute_input": "2021-09-26T22:42:00.435888Z",
                    "iopub.status.busy": "2021-09-26T22:42:00.435641Z",
                    "iopub.status.idle": "2021-09-26T22:42:00.438413Z",
                    "shell.execute_reply": "2021-09-26T22:42:00.438609Z"
                }
            },
            "outputs": [
                {
                    "data": {
                        "text/plain": [
                            "['PQ_1', 'PQ_2', 'PQ_3', 'PQ_4', 'PQ_5', 'PQ_6']"
                        ]
                    },
                    "execution_count": 16,
                    "metadata": {},
                    "output_type": "execute_result"
                }
            ],
            "source": [
                "shed_buses = [2, 3, 4, 5, 6, 9]\n",
                "\n",
                "# find the `idx` of the loads on these buses\n",
                "\n",
                "pq_shed_idx = ss.PQ.find_idx(keys='bus', values=shed_buses)\n",
                "pq_shed_idx"
            ]
        },
        {
            "cell_type": "code",
            "execution_count": 17,
            "metadata": {
                "ExecuteTime": {
                    "end_time": "2021-03-20T14:50:34.377719Z",
                    "start_time": "2021-03-20T14:50:34.373283Z"
                },
                "execution": {
                    "iopub.execute_input": "2021-09-26T22:42:00.441930Z",
                    "iopub.status.busy": "2021-09-26T22:42:00.440216Z",
                    "iopub.status.idle": "2021-09-26T22:42:00.444716Z",
                    "shell.execute_reply": "2021-09-26T22:42:00.444401Z"
                }
            },
            "outputs": [
                {
                    "data": {
                        "text/plain": [
                            "array([0.217, 0.5  , 0.478, 0.076, 0.15 , 0.295])"
                        ]
                    },
                    "execution_count": 17,
                    "metadata": {},
                    "output_type": "execute_result"
                }
            ],
            "source": [
                "# get `Ppf` on these buses before shedding\n",
                "\n",
                "pq_p = ss.PQ.get(src='Ppf', idx=pq_shed_idx, attr='v')\n",
                "pq_p"
            ]
        },
        {
            "cell_type": "code",
            "execution_count": 18,
            "metadata": {
                "ExecuteTime": {
                    "end_time": "2021-03-20T14:50:34.383710Z",
                    "start_time": "2021-03-20T14:50:34.379275Z"
                },
                "execution": {
                    "iopub.execute_input": "2021-09-26T22:42:00.447756Z",
                    "iopub.status.busy": "2021-09-26T22:42:00.447520Z",
                    "iopub.status.idle": "2021-09-26T22:42:00.450062Z",
                    "shell.execute_reply": "2021-09-26T22:42:00.449815Z"
                }
            },
            "outputs": [
                {
                    "data": {
                        "text/plain": [
                            "True"
                        ]
                    },
                    "execution_count": 18,
                    "metadata": {},
                    "output_type": "execute_result"
                }
            ],
            "source": [
                "pq_p_new = pq_p - 0.4 / len(shed_buses)\n",
                "\n",
                "ss.PQ.set(src='Ppf', idx=pq_shed_idx, attr='v', value=pq_p_new)"
            ]
        },
        {
            "cell_type": "code",
            "execution_count": 19,
            "metadata": {
                "ExecuteTime": {
                    "end_time": "2021-03-20T14:50:34.388943Z",
                    "start_time": "2021-03-20T14:50:34.385210Z"
                },
                "execution": {
                    "iopub.execute_input": "2021-09-26T22:42:00.452527Z",
                    "iopub.status.busy": "2021-09-26T22:42:00.452212Z",
                    "iopub.status.idle": "2021-09-26T22:42:00.454810Z",
                    "shell.execute_reply": "2021-09-26T22:42:00.454551Z"
                }
            },
            "outputs": [
                {
                    "data": {
                        "text/plain": [
                            "array([0.15033333, 0.43333333, 0.41133333, 0.00933333, 0.08333333,\n",
                            "       0.22833333, 0.09      , 0.035     , 0.061     , 0.135     ,\n",
                            "       0.2       ])"
                        ]
                    },
                    "execution_count": 19,
                    "metadata": {},
                    "output_type": "execute_result"
                }
            ],
            "source": [
                "# double check\n",
                "\n",
                "ss.PQ.Ppf.v"
            ]
        },
        {
            "cell_type": "code",
            "execution_count": 20,
            "metadata": {
                "ExecuteTime": {
                    "end_time": "2021-03-20T14:50:38.328264Z",
                    "start_time": "2021-03-20T14:50:34.390379Z"
                },
                "execution": {
                    "iopub.execute_input": "2021-09-26T22:42:00.457360Z",
                    "iopub.status.busy": "2021-09-26T22:42:00.457090Z",
                    "iopub.status.idle": "2021-09-26T22:42:04.033446Z",
                    "shell.execute_reply": "2021-09-26T22:42:04.033166Z"
                },
                "scrolled": false
            },
            "outputs": [
                {
                    "data": {
                        "application/vnd.jupyter.widget-view+json": {
                            "model_id": "b042851b458c412388c0ee4f5bedc8e5",
                            "version_major": 2,
                            "version_minor": 0
                        },
                        "text/plain": [
                            "  0%|          | 0/100 [00:00<?, ?%/s]"
                        ]
                    },
                    "metadata": {},
                    "output_type": "display_data"
                },
                {
                    "name": "stderr",
                    "output_type": "stream",
                    "text": [
                        "Simulation completed in 1.2884 seconds.\n",
                        "Outputs to \"ieee14_out.lst\" and \"ieee14_out.npz\".\n",
                        "Outputs written in 0.0211 seconds.\n"
                    ]
                },
                {
                    "data": {
                        "image/png": "[encoded data removed]",
                        "text/plain": [
                            "<Figure size 480x320 with 1 Axes>"
                        ]
                    },
                    "metadata": {
                        "needs_background": "light"
                    },
                    "output_type": "display_data"
                },
                {
                    "data": {
                        "text/plain": [
                            "(<Figure size 480x320 with 1 Axes>, <AxesSubplot:xlabel='Time [s]'>)"
                        ]
                    },
                    "execution_count": 20,
                    "metadata": {},
                    "output_type": "execute_result"
                }
            ],
            "source": [
                "ss.TDS.config.tf = 10\n",
                "\n",
                "ss.TDS.run()\n",
                "\n",
                "ss.TDS.plt.plot(ss.GENROU.omega,\n",
                "                a=(0, 2, 3, 4),\n",
                "                ytimes=60,\n",
                "               )"
            ]
        },
        {
            "cell_type": "code",
            "execution_count": 21,
            "metadata": {
                "execution": {
                    "iopub.execute_input": "2021-09-26T22:42:04.036399Z",
                    "iopub.status.busy": "2021-09-26T22:42:04.035958Z",
                    "iopub.status.idle": "2021-09-26T22:42:04.657177Z",
                    "shell.execute_reply": "2021-09-26T22:42:04.656933Z"
                }
            },
            "outputs": [
                {
                    "name": "stdout",
                    "output_type": "stream",
                    "text": [
                        "\"/home/hacui/repos/andes/examples/ieee14_out.txt\" removed.\r\n",
                        "\"/home/hacui/repos/andes/examples/ieee14_out.lst\" removed.\r\n",
                        "\"/home/hacui/repos/andes/examples/ieee14_out.npz\" removed.\r\n"
                    ]
                }
            ],
            "source": [
                "!andes misc -C"
            ]
        },
        {
            "cell_type": "markdown",
            "metadata": {},
            "source": [
                "The result shows the generator speed (frequency) returns to 60 Hz after load shedding. "
            ]
        }
    ],
    "metadata": {
        "kernelspec": {
            "display_name": "Python 3 (ipykernel)",
            "language": "python",
            "name": "python3"
        },
        "language_info": {
            "codemirror_mode": {
                "name": "ipython",
                "version": 3
            },
            "file_extension": ".py",
            "mimetype": "text/x-python",
            "name": "python",
            "nbconvert_exporter": "python",
            "pygments_lexer": "ipython3",
            "version": "3.9.10"
        },
        "varInspector": {
            "cols": {
                "lenName": 16,
                "lenType": 16,
                "lenVar": 40
            },
            "kernels_config": {
                "python": {
                    "delete_cmd_postfix": "",
                    "delete_cmd_prefix": "del ",
                    "library": "var_list.py",
                    "varRefreshCmd": "print(var_dic_list())"
                },
                "r": {
                    "delete_cmd_postfix": ") ",
                    "delete_cmd_prefix": "rm(",
                    "library": "var_list.r",
                    "varRefreshCmd": "cat(var_dic_list()) "
                }
            },
            "types_to_exclude": [
                "module",
                "function",
                "builtin_function_or_method",
                "instance",
                "_Feature"
            ],
            "window_display": false
        }
    },
    "nbformat": 4,
    "nbformat_minor": 4
}